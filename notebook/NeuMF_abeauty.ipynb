{
 "cells": [
  {
   "cell_type": "markdown",
   "id": "613e2bd6",
   "metadata": {},
   "source": [
    "# Constants"
   ]
  },
  {
   "cell_type": "code",
   "execution_count": null,
   "id": "d60ab310",
   "metadata": {
    "execution": {
     "iopub.execute_input": "2025-04-18T00:54:03.520580Z",
     "iopub.status.busy": "2025-04-18T00:54:03.520580Z",
     "iopub.status.idle": "2025-04-18T00:54:03.527304Z",
     "shell.execute_reply": "2025-04-18T00:54:03.527304Z"
    }
   },
   "outputs": [],
   "source": [
    "WORK_DIR_PATH = \"..\"\n",
    "\n",
    "# Split\n",
    "FILTER_BY = \"user\"\n",
    "TRN_VAL_TST_RATIO = [0.8, 0.1, 0.1]\n",
    "TRN_NEG_PER_POS_RATIO = 1\n",
    "NEG_PER_POS_RATIO = [TRN_NEG_PER_POS_RATIO, TRN_NEG_PER_POS_RATIO, 100, 100]\n",
    "BATCH_SIZE = [128, 128, 1, 1]\n",
    "\n",
    "# Model\n",
    "N_FACTORS = 32\n",
    "HIDDEN = [N_FACTORS*2, N_FACTORS*2, N_FACTORS, N_FACTORS // 2]\n",
    "DROPOUT = 0.2\n",
    "MODEL_NAME = \"NeuMF\"\n",
    "\n",
    "# How to Learn\n",
    "TASK_TYPE = 'bpr'\n",
    "LEARNING_RATE = 1e-4\n",
    "LAMBDA_ = 1e-2\n",
    "\n",
    "# Fit\n",
    "N_EPOCHS = 450"
   ]
  },
  {
   "cell_type": "markdown",
   "id": "f9f08c36",
   "metadata": {},
   "source": [
    "# Config"
   ]
  },
  {
   "cell_type": "code",
   "execution_count": 2,
   "id": "45fd1993",
   "metadata": {
    "execution": {
     "iopub.execute_input": "2025-04-18T00:54:03.527304Z",
     "iopub.status.busy": "2025-04-18T00:54:03.527304Z",
     "iopub.status.idle": "2025-04-18T00:54:03.531315Z",
     "shell.execute_reply": "2025-04-18T00:54:03.531315Z"
    }
   },
   "outputs": [
    {
     "name": "stdout",
     "output_type": "stream",
     "text": [
      "DIRECTORY: c:\\Users\\jayar\\Desktop\\바탕 화면\\DEGREE\\RESEARCH-MLP\n"
     ]
    }
   ],
   "source": [
    "import warnings\n",
    "warnings.filterwarnings(\"ignore\")\n",
    "\n",
    "import os\n",
    "os.environ[\"CUDA_LAUNCH_BLOCKING\"] = \"1\"\n",
    "os.chdir(WORK_DIR_PATH)\n",
    "print(f\"DIRECTORY: {os.getcwd()}\")"
   ]
  },
  {
   "cell_type": "code",
   "execution_count": 3,
   "id": "2f4ba2b9",
   "metadata": {
    "execution": {
     "iopub.execute_input": "2025-04-18T00:54:03.531315Z",
     "iopub.status.busy": "2025-04-18T00:54:03.531315Z",
     "iopub.status.idle": "2025-04-18T00:54:05.107842Z",
     "shell.execute_reply": "2025-04-18T00:54:05.107457Z"
    }
   },
   "outputs": [],
   "source": [
    "import json\n",
    "import pandas as pd\n",
    "import torch"
   ]
  },
  {
   "cell_type": "code",
   "execution_count": 4,
   "id": "851631e1",
   "metadata": {
    "execution": {
     "iopub.execute_input": "2025-04-18T00:54:05.108232Z",
     "iopub.status.busy": "2025-04-18T00:54:05.108232Z",
     "iopub.status.idle": "2025-04-18T00:54:05.782577Z",
     "shell.execute_reply": "2025-04-18T00:54:05.782577Z"
    }
   },
   "outputs": [],
   "source": [
    "import NeuMF\n",
    "from MYUTILS import (\n",
    "    ranking,\n",
    "    utils,\n",
    ")\n",
    "from MYUTILS.config.constants import (\n",
    "    DEFAULT_USER_COL,\n",
    "    DEFAULT_ITEM_COL,\n",
    "    DEFAULT_RATING_COL,\n",
    "    DEFAULT_LABEL_COL,\n",
    "    DEFAULT_TIMESTAMP_COL,\n",
    "    DEFAULT_PREDICTION_COL,\n",
    "    DEFAULT_K,\n",
    "    SEED,\n",
    ")"
   ]
  },
  {
   "cell_type": "code",
   "execution_count": 5,
   "id": "9a53ddac",
   "metadata": {
    "execution": {
     "iopub.execute_input": "2025-04-18T00:54:05.782577Z",
     "iopub.status.busy": "2025-04-18T00:54:05.782577Z",
     "iopub.status.idle": "2025-04-18T00:54:05.812530Z",
     "shell.execute_reply": "2025-04-18T00:54:05.812530Z"
    }
   },
   "outputs": [
    {
     "name": "stdout",
     "output_type": "stream",
     "text": [
      "SETTING ALL SEEDS TO 42...\n",
      "ALL SEEDS SET\n"
     ]
    }
   ],
   "source": [
    "# Seed\n",
    "utils.seed.reset(SEED)"
   ]
  },
  {
   "cell_type": "code",
   "execution_count": 6,
   "id": "97ae7b90",
   "metadata": {
    "execution": {
     "iopub.execute_input": "2025-04-18T00:54:05.812530Z",
     "iopub.status.busy": "2025-04-18T00:54:05.812530Z",
     "iopub.status.idle": "2025-04-18T00:54:05.816030Z",
     "shell.execute_reply": "2025-04-18T00:54:05.816030Z"
    }
   },
   "outputs": [
    {
     "name": "stdout",
     "output_type": "stream",
     "text": [
      "cuda\n"
     ]
    }
   ],
   "source": [
    "# Available GPU\n",
    "device = torch.device(\"cuda\" if torch.cuda.is_available() else \"cpu\")\n",
    "print(device)"
   ]
  },
  {
   "cell_type": "markdown",
   "id": "0b47285f",
   "metadata": {},
   "source": [
    "# Data Preparation"
   ]
  },
  {
   "cell_type": "code",
   "execution_count": 7,
   "id": "ed5d6be4",
   "metadata": {
    "execution": {
     "iopub.execute_input": "2025-04-18T00:54:05.816030Z",
     "iopub.status.busy": "2025-04-18T00:54:05.816030Z",
     "iopub.status.idle": "2025-04-18T00:54:05.838930Z",
     "shell.execute_reply": "2025-04-18T00:54:05.838930Z"
    }
   },
   "outputs": [],
   "source": [
    "# JSON lines 형식의 파일 열기\n",
    "with open('./data/abeauty.json', 'r', encoding='utf-8') as f:\n",
    "    records = [json.loads(line) for line in f]\n",
    "\n",
    "# reviewerID와 asin만 추출\n",
    "filtered_records = [{'reviewerID': r['reviewerID'], 'asin': r['asin']} for r in records]\n",
    "\n",
    "# DataFrame으로 변환\n",
    "data = pd.DataFrame(filtered_records)"
   ]
  },
  {
   "cell_type": "code",
   "execution_count": 8,
   "id": "a3d2b14e",
   "metadata": {
    "execution": {
     "iopub.execute_input": "2025-04-18T00:54:05.840436Z",
     "iopub.status.busy": "2025-04-18T00:54:05.840436Z",
     "iopub.status.idle": "2025-04-18T00:54:05.855254Z",
     "shell.execute_reply": "2025-04-18T00:54:05.855254Z"
    }
   },
   "outputs": [],
   "source": [
    "# Columns\n",
    "kwargs = dict(\n",
    "    col_user='reviewerID', \n",
    "    col_item='asin', \n",
    ")\n",
    "\n",
    "data = utils.data.rename_columns(data, **kwargs)\n",
    "\n",
    "\n",
    "# Label encoding\n",
    "kwargs = dict(\n",
    "    data=data, \n",
    "    col_user=DEFAULT_USER_COL, \n",
    "    col_item=DEFAULT_ITEM_COL,\n",
    ")\n",
    "\n",
    "data, user_label, item_label = utils.data.label_encoding(**kwargs)\n",
    "\n",
    "\n",
    "# Number of user, item\n",
    "N_USERS = data[DEFAULT_USER_COL].nunique()\n",
    "N_ITEMS = data[DEFAULT_ITEM_COL].nunique()"
   ]
  },
  {
   "cell_type": "code",
   "execution_count": 9,
   "id": "483c1f75",
   "metadata": {
    "execution": {
     "iopub.execute_input": "2025-04-18T00:54:05.855254Z",
     "iopub.status.busy": "2025-04-18T00:54:05.855254Z",
     "iopub.status.idle": "2025-04-18T00:54:05.860357Z",
     "shell.execute_reply": "2025-04-18T00:54:05.860357Z"
    }
   },
   "outputs": [
    {
     "name": "stdout",
     "output_type": "stream",
     "text": [
      "number of user: 3819\n",
      "number of item: 1581\n",
      "total interaction: 34278\n",
      "interaction density: 0.5677 %\n",
      "max interaction of user: 127\n",
      "top 10.0 % interaction of user: 15.0\n",
      "mean interaction of user: 8\n",
      "mean interaction of item: 21\n"
     ]
    }
   ],
   "source": [
    "# data Description\n",
    "utils.data.description(data)"
   ]
  },
  {
   "cell_type": "code",
   "execution_count": 10,
   "id": "8c668a94",
   "metadata": {
    "execution": {
     "iopub.execute_input": "2025-04-18T00:54:05.860357Z",
     "iopub.status.busy": "2025-04-18T00:54:05.860357Z",
     "iopub.status.idle": "2025-04-18T00:54:06.931133Z",
     "shell.execute_reply": "2025-04-18T00:54:06.931133Z"
    }
   },
   "outputs": [],
   "source": [
    "kwargs = dict(\n",
    "    data=data,\n",
    "    n_users=N_USERS,\n",
    "    n_items=N_ITEMS,\n",
    "    col_user=DEFAULT_USER_COL,\n",
    "    col_item=DEFAULT_ITEM_COL,\n",
    ")\n",
    "\n",
    "dataloader = ranking.trn_val_tst.Module(**kwargs)\n",
    "\n",
    "kwargs = dict(\n",
    "    filter_by=FILTER_BY,\n",
    "    trn_val_tst_ratio=TRN_VAL_TST_RATIO,\n",
    "    neg_per_pos=NEG_PER_POS_RATIO,\n",
    "    batch_size=BATCH_SIZE,\n",
    "    seed=SEED,\n",
    "    )\n",
    "\n",
    "loaders, _ = dataloader.get(**kwargs)\n",
    "trn_loader, val_loader, tst_loader, loo_loader = loaders"
   ]
  },
  {
   "cell_type": "markdown",
   "id": "eaaa126a",
   "metadata": {},
   "source": [
    "# Modeling"
   ]
  },
  {
   "cell_type": "code",
   "execution_count": 11,
   "id": "56d340e9",
   "metadata": {
    "execution": {
     "iopub.execute_input": "2025-04-18T00:54:06.931133Z",
     "iopub.status.busy": "2025-04-18T00:54:06.931133Z",
     "iopub.status.idle": "2025-04-18T00:54:07.014576Z",
     "shell.execute_reply": "2025-04-18T00:54:07.014576Z"
    }
   },
   "outputs": [],
   "source": [
    "kwargs = dict(\n",
    "    n_users=N_USERS,\n",
    "    n_items=N_ITEMS,\n",
    "    n_factors=N_FACTORS,\n",
    "    hidden=HIDDEN,\n",
    "    dropout=DROPOUT,\n",
    "    model_name=MODEL_NAME,\n",
    ")\n",
    "\n",
    "model = NeuMF.model.Module(**kwargs)"
   ]
  },
  {
   "cell_type": "code",
   "execution_count": 12,
   "id": "92aec85d",
   "metadata": {
    "execution": {
     "iopub.execute_input": "2025-04-18T00:54:07.014576Z",
     "iopub.status.busy": "2025-04-18T00:54:07.014576Z",
     "iopub.status.idle": "2025-04-18T00:54:07.834168Z",
     "shell.execute_reply": "2025-04-18T00:54:07.834168Z"
    }
   },
   "outputs": [],
   "source": [
    "kwargs = dict(\n",
    "    model=model,\n",
    "    trn_neg_per_pos_ratio=TRN_NEG_PER_POS_RATIO,\n",
    "    task_type=TASK_TYPE,\n",
    "    lr=LEARNING_RATE,\n",
    "    lambda_=LAMBDA_,\n",
    ")\n",
    "\n",
    "loop = NeuMF.loop.Module(**kwargs)"
   ]
  },
  {
   "cell_type": "markdown",
   "id": "ee78f187",
   "metadata": {},
   "source": [
    "# Train"
   ]
  },
  {
   "cell_type": "code",
   "execution_count": null,
   "id": "3e4de17a",
   "metadata": {
    "execution": {
     "iopub.execute_input": "2025-04-18T00:54:07.834168Z",
     "iopub.status.busy": "2025-04-18T00:54:07.834168Z",
     "iopub.status.idle": "2025-04-18T00:55:21.491977Z",
     "shell.execute_reply": "2025-04-18T00:55:21.491977Z"
    }
   },
   "outputs": [
    {
     "name": "stdout",
     "output_type": "stream",
     "text": [
      "EPOCH 1 START ---->>>>\n"
     ]
    },
    {
     "name": "stderr",
     "output_type": "stream",
     "text": [
      "Epoch 1/50 TRN: 100%|██████████| 170/170 [00:01<00:00, 126.45it/s]\n"
     ]
    },
    {
     "name": "stdout",
     "output_type": "stream",
     "text": [
      "TRN TASK LOSS: 0.0721\n"
     ]
    },
    {
     "name": "stderr",
     "output_type": "stream",
     "text": [
      "Epoch 1/50 VAL: 100%|██████████| 23/23 [00:00<00:00, 412.98it/s]\n"
     ]
    },
    {
     "name": "stdout",
     "output_type": "stream",
     "text": [
      "VAL TASK LOSS: 0.4513\n"
     ]
    },
    {
     "name": "stderr",
     "output_type": "stream",
     "text": [
      "Epoch 2/50 TRN: 100%|██████████| 170/170 [00:01<00:00, 127.75it/s]\n"
     ]
    },
    {
     "name": "stdout",
     "output_type": "stream",
     "text": [
      "TRN TASK LOSS: 0.0673\n"
     ]
    },
    {
     "name": "stderr",
     "output_type": "stream",
     "text": [
      "Epoch 2/50 VAL: 100%|██████████| 23/23 [00:00<00:00, 337.61it/s]\n"
     ]
    },
    {
     "name": "stdout",
     "output_type": "stream",
     "text": [
      "VAL TASK LOSS: 0.4331\n"
     ]
    },
    {
     "name": "stderr",
     "output_type": "stream",
     "text": [
      "Epoch 3/50 TRN: 100%|██████████| 170/170 [00:01<00:00, 124.87it/s]\n"
     ]
    },
    {
     "name": "stdout",
     "output_type": "stream",
     "text": [
      "TRN TASK LOSS: 0.0697\n"
     ]
    },
    {
     "name": "stderr",
     "output_type": "stream",
     "text": [
      "Epoch 3/50 VAL: 100%|██████████| 23/23 [00:00<00:00, 460.02it/s]\n"
     ]
    },
    {
     "name": "stdout",
     "output_type": "stream",
     "text": [
      "VAL TASK LOSS: 0.4360\n"
     ]
    },
    {
     "name": "stderr",
     "output_type": "stream",
     "text": [
      "Epoch 4/50 TRN: 100%|██████████| 170/170 [00:01<00:00, 122.05it/s]\n"
     ]
    },
    {
     "name": "stdout",
     "output_type": "stream",
     "text": [
      "TRN TASK LOSS: 0.0694\n"
     ]
    },
    {
     "name": "stderr",
     "output_type": "stream",
     "text": [
      "Epoch 4/50 VAL: 100%|██████████| 23/23 [00:00<00:00, 561.01it/s]\n"
     ]
    },
    {
     "name": "stdout",
     "output_type": "stream",
     "text": [
      "VAL TASK LOSS: 0.4337\n"
     ]
    },
    {
     "name": "stderr",
     "output_type": "stream",
     "text": [
      "Epoch 5/50 TRN: 100%|██████████| 170/170 [00:01<00:00, 126.04it/s]\n"
     ]
    },
    {
     "name": "stdout",
     "output_type": "stream",
     "text": [
      "TRN TASK LOSS: 0.0665\n"
     ]
    },
    {
     "name": "stderr",
     "output_type": "stream",
     "text": [
      "Epoch 5/50 VAL: 100%|██████████| 23/23 [00:00<00:00, 310.37it/s]\n"
     ]
    },
    {
     "name": "stdout",
     "output_type": "stream",
     "text": [
      "VAL TASK LOSS: 0.4517\n"
     ]
    },
    {
     "name": "stderr",
     "output_type": "stream",
     "text": [
      "Epoch 6/50 TRN: 100%|██████████| 170/170 [00:01<00:00, 138.33it/s]\n"
     ]
    },
    {
     "name": "stdout",
     "output_type": "stream",
     "text": [
      "TRN TASK LOSS: 0.0698\n"
     ]
    },
    {
     "name": "stderr",
     "output_type": "stream",
     "text": [
      "Epoch 6/50 VAL: 100%|██████████| 23/23 [00:00<00:00, 451.31it/s]\n"
     ]
    },
    {
     "name": "stdout",
     "output_type": "stream",
     "text": [
      "VAL TASK LOSS: 0.4560\n"
     ]
    },
    {
     "name": "stderr",
     "output_type": "stream",
     "text": [
      "Epoch 7/50 TRN: 100%|██████████| 170/170 [00:01<00:00, 143.19it/s]\n"
     ]
    },
    {
     "name": "stdout",
     "output_type": "stream",
     "text": [
      "TRN TASK LOSS: 0.0684\n"
     ]
    },
    {
     "name": "stderr",
     "output_type": "stream",
     "text": [
      "Epoch 7/50 VAL: 100%|██████████| 23/23 [00:00<00:00, 454.07it/s]\n"
     ]
    },
    {
     "name": "stdout",
     "output_type": "stream",
     "text": [
      "VAL TASK LOSS: 0.4341\n"
     ]
    },
    {
     "name": "stderr",
     "output_type": "stream",
     "text": [
      "Epoch 8/50 TRN: 100%|██████████| 170/170 [00:01<00:00, 145.81it/s]\n"
     ]
    },
    {
     "name": "stdout",
     "output_type": "stream",
     "text": [
      "TRN TASK LOSS: 0.0704\n"
     ]
    },
    {
     "name": "stderr",
     "output_type": "stream",
     "text": [
      "Epoch 8/50 VAL: 100%|██████████| 23/23 [00:00<00:00, 385.58it/s]\n"
     ]
    },
    {
     "name": "stdout",
     "output_type": "stream",
     "text": [
      "VAL TASK LOSS: 0.4215\n"
     ]
    },
    {
     "name": "stderr",
     "output_type": "stream",
     "text": [
      "Epoch 9/50 TRN: 100%|██████████| 170/170 [00:01<00:00, 144.88it/s]\n"
     ]
    },
    {
     "name": "stdout",
     "output_type": "stream",
     "text": [
      "TRN TASK LOSS: 0.0712\n"
     ]
    },
    {
     "name": "stderr",
     "output_type": "stream",
     "text": [
      "Epoch 9/50 VAL: 100%|██████████| 23/23 [00:00<00:00, 420.43it/s]\n"
     ]
    },
    {
     "name": "stdout",
     "output_type": "stream",
     "text": [
      "VAL TASK LOSS: 0.4397\n"
     ]
    },
    {
     "name": "stderr",
     "output_type": "stream",
     "text": [
      "Epoch 10/50 TRN: 100%|██████████| 170/170 [00:01<00:00, 139.90it/s]\n"
     ]
    },
    {
     "name": "stdout",
     "output_type": "stream",
     "text": [
      "TRN TASK LOSS: 0.0670\n"
     ]
    },
    {
     "name": "stderr",
     "output_type": "stream",
     "text": [
      "Epoch 10/50 VAL: 100%|██████████| 23/23 [00:00<00:00, 396.44it/s]\n"
     ]
    },
    {
     "name": "stdout",
     "output_type": "stream",
     "text": [
      "VAL TASK LOSS: 0.4537\n",
      "EPOCH 11 START ---->>>>\n"
     ]
    },
    {
     "name": "stderr",
     "output_type": "stream",
     "text": [
      "Epoch 11/50 TRN: 100%|██████████| 170/170 [00:01<00:00, 128.88it/s]\n"
     ]
    },
    {
     "name": "stdout",
     "output_type": "stream",
     "text": [
      "TRN TASK LOSS: 0.0694\n"
     ]
    },
    {
     "name": "stderr",
     "output_type": "stream",
     "text": [
      "Epoch 11/50 VAL: 100%|██████████| 23/23 [00:00<00:00, 508.54it/s]\n"
     ]
    },
    {
     "name": "stdout",
     "output_type": "stream",
     "text": [
      "VAL TASK LOSS: 0.4630\n"
     ]
    },
    {
     "name": "stderr",
     "output_type": "stream",
     "text": [
      "Epoch 12/50 TRN: 100%|██████████| 170/170 [00:01<00:00, 125.32it/s]\n"
     ]
    },
    {
     "name": "stdout",
     "output_type": "stream",
     "text": [
      "TRN TASK LOSS: 0.0691\n"
     ]
    },
    {
     "name": "stderr",
     "output_type": "stream",
     "text": [
      "Epoch 12/50 VAL: 100%|██████████| 23/23 [00:00<00:00, 441.02it/s]\n"
     ]
    },
    {
     "name": "stdout",
     "output_type": "stream",
     "text": [
      "VAL TASK LOSS: 0.4449\n"
     ]
    },
    {
     "name": "stderr",
     "output_type": "stream",
     "text": [
      "Epoch 13/50 TRN: 100%|██████████| 170/170 [00:01<00:00, 128.88it/s]\n"
     ]
    },
    {
     "name": "stdout",
     "output_type": "stream",
     "text": [
      "TRN TASK LOSS: 0.0705\n"
     ]
    },
    {
     "name": "stderr",
     "output_type": "stream",
     "text": [
      "Epoch 13/50 VAL: 100%|██████████| 23/23 [00:00<00:00, 456.67it/s]\n"
     ]
    },
    {
     "name": "stdout",
     "output_type": "stream",
     "text": [
      "VAL TASK LOSS: 0.4716\n"
     ]
    },
    {
     "name": "stderr",
     "output_type": "stream",
     "text": [
      "Epoch 14/50 TRN: 100%|██████████| 170/170 [00:01<00:00, 125.79it/s]\n"
     ]
    },
    {
     "name": "stdout",
     "output_type": "stream",
     "text": [
      "TRN TASK LOSS: 0.0715\n"
     ]
    },
    {
     "name": "stderr",
     "output_type": "stream",
     "text": [
      "Epoch 14/50 VAL: 100%|██████████| 23/23 [00:00<00:00, 395.29it/s]\n"
     ]
    },
    {
     "name": "stdout",
     "output_type": "stream",
     "text": [
      "VAL TASK LOSS: 0.4738\n"
     ]
    },
    {
     "name": "stderr",
     "output_type": "stream",
     "text": [
      "Epoch 15/50 TRN: 100%|██████████| 170/170 [00:01<00:00, 125.26it/s]\n"
     ]
    },
    {
     "name": "stdout",
     "output_type": "stream",
     "text": [
      "TRN TASK LOSS: 0.0738\n"
     ]
    },
    {
     "name": "stderr",
     "output_type": "stream",
     "text": [
      "Epoch 15/50 VAL: 100%|██████████| 23/23 [00:00<00:00, 350.45it/s]\n"
     ]
    },
    {
     "name": "stdout",
     "output_type": "stream",
     "text": [
      "VAL TASK LOSS: 0.4789\n"
     ]
    },
    {
     "name": "stderr",
     "output_type": "stream",
     "text": [
      "Epoch 16/50 TRN: 100%|██████████| 170/170 [00:01<00:00, 123.79it/s]\n"
     ]
    },
    {
     "name": "stdout",
     "output_type": "stream",
     "text": [
      "TRN TASK LOSS: 0.0672\n"
     ]
    },
    {
     "name": "stderr",
     "output_type": "stream",
     "text": [
      "Epoch 16/50 VAL: 100%|██████████| 23/23 [00:00<00:00, 346.77it/s]\n"
     ]
    },
    {
     "name": "stdout",
     "output_type": "stream",
     "text": [
      "VAL TASK LOSS: 0.4721\n"
     ]
    },
    {
     "name": "stderr",
     "output_type": "stream",
     "text": [
      "Epoch 17/50 TRN: 100%|██████████| 170/170 [00:01<00:00, 128.45it/s]\n"
     ]
    },
    {
     "name": "stdout",
     "output_type": "stream",
     "text": [
      "TRN TASK LOSS: 0.0717\n"
     ]
    },
    {
     "name": "stderr",
     "output_type": "stream",
     "text": [
      "Epoch 17/50 VAL: 100%|██████████| 23/23 [00:00<00:00, 542.50it/s]\n"
     ]
    },
    {
     "name": "stdout",
     "output_type": "stream",
     "text": [
      "VAL TASK LOSS: 0.4349\n"
     ]
    },
    {
     "name": "stderr",
     "output_type": "stream",
     "text": [
      "Epoch 18/50 TRN: 100%|██████████| 170/170 [00:01<00:00, 122.08it/s]\n"
     ]
    },
    {
     "name": "stdout",
     "output_type": "stream",
     "text": [
      "TRN TASK LOSS: 0.0667\n"
     ]
    },
    {
     "name": "stderr",
     "output_type": "stream",
     "text": [
      "Epoch 18/50 VAL: 100%|██████████| 23/23 [00:00<00:00, 404.46it/s]\n"
     ]
    },
    {
     "name": "stdout",
     "output_type": "stream",
     "text": [
      "VAL TASK LOSS: 0.4681\n"
     ]
    },
    {
     "name": "stderr",
     "output_type": "stream",
     "text": [
      "Epoch 19/50 TRN: 100%|██████████| 170/170 [00:01<00:00, 125.76it/s]\n"
     ]
    },
    {
     "name": "stdout",
     "output_type": "stream",
     "text": [
      "TRN TASK LOSS: 0.0692\n"
     ]
    },
    {
     "name": "stderr",
     "output_type": "stream",
     "text": [
      "Epoch 19/50 VAL: 100%|██████████| 23/23 [00:00<00:00, 457.16it/s]\n"
     ]
    },
    {
     "name": "stdout",
     "output_type": "stream",
     "text": [
      "VAL TASK LOSS: 0.4540\n"
     ]
    },
    {
     "name": "stderr",
     "output_type": "stream",
     "text": [
      "Epoch 20/50 TRN: 100%|██████████| 170/170 [00:01<00:00, 127.14it/s]\n"
     ]
    },
    {
     "name": "stdout",
     "output_type": "stream",
     "text": [
      "TRN TASK LOSS: 0.0712\n"
     ]
    },
    {
     "name": "stderr",
     "output_type": "stream",
     "text": [
      "Epoch 20/50 VAL: 100%|██████████| 23/23 [00:00<00:00, 354.90it/s]\n"
     ]
    },
    {
     "name": "stdout",
     "output_type": "stream",
     "text": [
      "VAL TASK LOSS: 0.4520\n",
      "EPOCH 21 START ---->>>>\n"
     ]
    },
    {
     "name": "stderr",
     "output_type": "stream",
     "text": [
      "Epoch 21/50 TRN: 100%|██████████| 170/170 [00:01<00:00, 127.52it/s]\n"
     ]
    },
    {
     "name": "stdout",
     "output_type": "stream",
     "text": [
      "TRN TASK LOSS: 0.0688\n"
     ]
    },
    {
     "name": "stderr",
     "output_type": "stream",
     "text": [
      "Epoch 21/50 VAL: 100%|██████████| 23/23 [00:00<00:00, 436.37it/s]\n"
     ]
    },
    {
     "name": "stdout",
     "output_type": "stream",
     "text": [
      "VAL TASK LOSS: 0.4267\n"
     ]
    },
    {
     "name": "stderr",
     "output_type": "stream",
     "text": [
      "Epoch 22/50 TRN: 100%|██████████| 170/170 [00:01<00:00, 130.09it/s]\n"
     ]
    },
    {
     "name": "stdout",
     "output_type": "stream",
     "text": [
      "TRN TASK LOSS: 0.0674\n"
     ]
    },
    {
     "name": "stderr",
     "output_type": "stream",
     "text": [
      "Epoch 22/50 VAL: 100%|██████████| 23/23 [00:00<00:00, 411.79it/s]\n"
     ]
    },
    {
     "name": "stdout",
     "output_type": "stream",
     "text": [
      "VAL TASK LOSS: 0.4454\n"
     ]
    },
    {
     "name": "stderr",
     "output_type": "stream",
     "text": [
      "Epoch 23/50 TRN: 100%|██████████| 170/170 [00:01<00:00, 127.17it/s]\n"
     ]
    },
    {
     "name": "stdout",
     "output_type": "stream",
     "text": [
      "TRN TASK LOSS: 0.0694\n"
     ]
    },
    {
     "name": "stderr",
     "output_type": "stream",
     "text": [
      "Epoch 23/50 VAL: 100%|██████████| 23/23 [00:00<00:00, 505.66it/s]\n"
     ]
    },
    {
     "name": "stdout",
     "output_type": "stream",
     "text": [
      "VAL TASK LOSS: 0.4494\n"
     ]
    },
    {
     "name": "stderr",
     "output_type": "stream",
     "text": [
      "Epoch 24/50 TRN: 100%|██████████| 170/170 [00:01<00:00, 126.91it/s]\n"
     ]
    },
    {
     "name": "stdout",
     "output_type": "stream",
     "text": [
      "TRN TASK LOSS: 0.0683\n"
     ]
    },
    {
     "name": "stderr",
     "output_type": "stream",
     "text": [
      "Epoch 24/50 VAL: 100%|██████████| 23/23 [00:00<00:00, 396.97it/s]\n"
     ]
    },
    {
     "name": "stdout",
     "output_type": "stream",
     "text": [
      "VAL TASK LOSS: 0.4419\n"
     ]
    },
    {
     "name": "stderr",
     "output_type": "stream",
     "text": [
      "Epoch 25/50 TRN: 100%|██████████| 170/170 [00:01<00:00, 123.90it/s]\n"
     ]
    },
    {
     "name": "stdout",
     "output_type": "stream",
     "text": [
      "TRN TASK LOSS: 0.0703\n"
     ]
    },
    {
     "name": "stderr",
     "output_type": "stream",
     "text": [
      "Epoch 25/50 VAL: 100%|██████████| 23/23 [00:00<00:00, 362.00it/s]\n"
     ]
    },
    {
     "name": "stdout",
     "output_type": "stream",
     "text": [
      "VAL TASK LOSS: 0.4253\n"
     ]
    },
    {
     "name": "stderr",
     "output_type": "stream",
     "text": [
      "Epoch 26/50 TRN: 100%|██████████| 170/170 [00:01<00:00, 121.26it/s]\n"
     ]
    },
    {
     "name": "stdout",
     "output_type": "stream",
     "text": [
      "TRN TASK LOSS: 0.0700\n"
     ]
    },
    {
     "name": "stderr",
     "output_type": "stream",
     "text": [
      "Epoch 26/50 VAL: 100%|██████████| 23/23 [00:00<00:00, 411.22it/s]\n"
     ]
    },
    {
     "name": "stdout",
     "output_type": "stream",
     "text": [
      "VAL TASK LOSS: 0.4194\n"
     ]
    },
    {
     "name": "stderr",
     "output_type": "stream",
     "text": [
      "Epoch 27/50 TRN: 100%|██████████| 170/170 [00:01<00:00, 123.68it/s]\n"
     ]
    },
    {
     "name": "stdout",
     "output_type": "stream",
     "text": [
      "TRN TASK LOSS: 0.0715\n"
     ]
    },
    {
     "name": "stderr",
     "output_type": "stream",
     "text": [
      "Epoch 27/50 VAL: 100%|██████████| 23/23 [00:00<00:00, 321.28it/s]\n"
     ]
    },
    {
     "name": "stdout",
     "output_type": "stream",
     "text": [
      "VAL TASK LOSS: 0.4446\n"
     ]
    },
    {
     "name": "stderr",
     "output_type": "stream",
     "text": [
      "Epoch 28/50 TRN: 100%|██████████| 170/170 [00:01<00:00, 129.72it/s]\n"
     ]
    },
    {
     "name": "stdout",
     "output_type": "stream",
     "text": [
      "TRN TASK LOSS: 0.0674\n"
     ]
    },
    {
     "name": "stderr",
     "output_type": "stream",
     "text": [
      "Epoch 28/50 VAL: 100%|██████████| 23/23 [00:00<00:00, 398.74it/s]\n"
     ]
    },
    {
     "name": "stdout",
     "output_type": "stream",
     "text": [
      "VAL TASK LOSS: 0.4351\n"
     ]
    },
    {
     "name": "stderr",
     "output_type": "stream",
     "text": [
      "Epoch 29/50 TRN: 100%|██████████| 170/170 [00:01<00:00, 133.88it/s]\n"
     ]
    },
    {
     "name": "stdout",
     "output_type": "stream",
     "text": [
      "TRN TASK LOSS: 0.0654\n"
     ]
    },
    {
     "name": "stderr",
     "output_type": "stream",
     "text": [
      "Epoch 29/50 VAL: 100%|██████████| 23/23 [00:00<00:00, 432.42it/s]\n"
     ]
    },
    {
     "name": "stdout",
     "output_type": "stream",
     "text": [
      "VAL TASK LOSS: 0.4213\n"
     ]
    },
    {
     "name": "stderr",
     "output_type": "stream",
     "text": [
      "Epoch 30/50 TRN: 100%|██████████| 170/170 [00:01<00:00, 135.81it/s]\n"
     ]
    },
    {
     "name": "stdout",
     "output_type": "stream",
     "text": [
      "TRN TASK LOSS: 0.0704\n"
     ]
    },
    {
     "name": "stderr",
     "output_type": "stream",
     "text": [
      "Epoch 30/50 VAL: 100%|██████████| 23/23 [00:00<00:00, 516.64it/s]\n"
     ]
    },
    {
     "name": "stdout",
     "output_type": "stream",
     "text": [
      "VAL TASK LOSS: 0.4382\n",
      "EPOCH 31 START ---->>>>\n"
     ]
    },
    {
     "name": "stderr",
     "output_type": "stream",
     "text": [
      "Epoch 31/50 TRN: 100%|██████████| 170/170 [00:01<00:00, 136.29it/s]\n"
     ]
    },
    {
     "name": "stdout",
     "output_type": "stream",
     "text": [
      "TRN TASK LOSS: 0.0684\n"
     ]
    },
    {
     "name": "stderr",
     "output_type": "stream",
     "text": [
      "Epoch 31/50 VAL: 100%|██████████| 23/23 [00:00<00:00, 427.65it/s]\n"
     ]
    },
    {
     "name": "stdout",
     "output_type": "stream",
     "text": [
      "VAL TASK LOSS: 0.4403\n"
     ]
    },
    {
     "name": "stderr",
     "output_type": "stream",
     "text": [
      "Epoch 32/50 TRN: 100%|██████████| 170/170 [00:01<00:00, 137.59it/s]\n"
     ]
    },
    {
     "name": "stdout",
     "output_type": "stream",
     "text": [
      "TRN TASK LOSS: 0.0666\n"
     ]
    },
    {
     "name": "stderr",
     "output_type": "stream",
     "text": [
      "Epoch 32/50 VAL: 100%|██████████| 23/23 [00:00<00:00, 343.66it/s]\n"
     ]
    },
    {
     "name": "stdout",
     "output_type": "stream",
     "text": [
      "VAL TASK LOSS: 0.4510\n"
     ]
    },
    {
     "name": "stderr",
     "output_type": "stream",
     "text": [
      "Epoch 33/50 TRN: 100%|██████████| 170/170 [00:01<00:00, 127.75it/s]\n"
     ]
    },
    {
     "name": "stdout",
     "output_type": "stream",
     "text": [
      "TRN TASK LOSS: 0.0672\n"
     ]
    },
    {
     "name": "stderr",
     "output_type": "stream",
     "text": [
      "Epoch 33/50 VAL: 100%|██████████| 23/23 [00:00<00:00, 399.69it/s]\n"
     ]
    },
    {
     "name": "stdout",
     "output_type": "stream",
     "text": [
      "VAL TASK LOSS: 0.4319\n"
     ]
    },
    {
     "name": "stderr",
     "output_type": "stream",
     "text": [
      "Epoch 34/50 TRN: 100%|██████████| 170/170 [00:01<00:00, 126.88it/s]\n"
     ]
    },
    {
     "name": "stdout",
     "output_type": "stream",
     "text": [
      "TRN TASK LOSS: 0.0672\n"
     ]
    },
    {
     "name": "stderr",
     "output_type": "stream",
     "text": [
      "Epoch 34/50 VAL: 100%|██████████| 23/23 [00:00<00:00, 489.78it/s]\n"
     ]
    },
    {
     "name": "stdout",
     "output_type": "stream",
     "text": [
      "VAL TASK LOSS: 0.4421\n"
     ]
    },
    {
     "name": "stderr",
     "output_type": "stream",
     "text": [
      "Epoch 35/50 TRN: 100%|██████████| 170/170 [00:01<00:00, 124.31it/s]\n"
     ]
    },
    {
     "name": "stdout",
     "output_type": "stream",
     "text": [
      "TRN TASK LOSS: 0.0666\n"
     ]
    },
    {
     "name": "stderr",
     "output_type": "stream",
     "text": [
      "Epoch 35/50 VAL: 100%|██████████| 23/23 [00:00<00:00, 413.13it/s]\n"
     ]
    },
    {
     "name": "stdout",
     "output_type": "stream",
     "text": [
      "VAL TASK LOSS: 0.4528\n"
     ]
    },
    {
     "name": "stderr",
     "output_type": "stream",
     "text": [
      "Epoch 36/50 TRN: 100%|██████████| 170/170 [00:01<00:00, 124.82it/s]\n"
     ]
    },
    {
     "name": "stdout",
     "output_type": "stream",
     "text": [
      "TRN TASK LOSS: 0.0677\n"
     ]
    },
    {
     "name": "stderr",
     "output_type": "stream",
     "text": [
      "Epoch 36/50 VAL: 100%|██████████| 23/23 [00:00<00:00, 395.87it/s]\n"
     ]
    },
    {
     "name": "stdout",
     "output_type": "stream",
     "text": [
      "VAL TASK LOSS: 0.4570\n"
     ]
    },
    {
     "name": "stderr",
     "output_type": "stream",
     "text": [
      "Epoch 37/50 TRN: 100%|██████████| 170/170 [00:01<00:00, 128.60it/s]\n"
     ]
    },
    {
     "name": "stdout",
     "output_type": "stream",
     "text": [
      "TRN TASK LOSS: 0.0654\n"
     ]
    },
    {
     "name": "stderr",
     "output_type": "stream",
     "text": [
      "Epoch 37/50 VAL: 100%|██████████| 23/23 [00:00<00:00, 431.98it/s]\n"
     ]
    },
    {
     "name": "stdout",
     "output_type": "stream",
     "text": [
      "VAL TASK LOSS: 0.4724\n"
     ]
    },
    {
     "name": "stderr",
     "output_type": "stream",
     "text": [
      "Epoch 38/50 TRN: 100%|██████████| 170/170 [00:01<00:00, 129.21it/s]\n"
     ]
    },
    {
     "name": "stdout",
     "output_type": "stream",
     "text": [
      "TRN TASK LOSS: 0.0620\n"
     ]
    },
    {
     "name": "stderr",
     "output_type": "stream",
     "text": [
      "Epoch 38/50 VAL: 100%|██████████| 23/23 [00:00<00:00, 472.11it/s]\n"
     ]
    },
    {
     "name": "stdout",
     "output_type": "stream",
     "text": [
      "VAL TASK LOSS: 0.4499\n"
     ]
    },
    {
     "name": "stderr",
     "output_type": "stream",
     "text": [
      "Epoch 39/50 TRN: 100%|██████████| 170/170 [00:01<00:00, 129.50it/s]\n"
     ]
    },
    {
     "name": "stdout",
     "output_type": "stream",
     "text": [
      "TRN TASK LOSS: 0.0685\n"
     ]
    },
    {
     "name": "stderr",
     "output_type": "stream",
     "text": [
      "Epoch 39/50 VAL: 100%|██████████| 23/23 [00:00<00:00, 364.15it/s]\n"
     ]
    },
    {
     "name": "stdout",
     "output_type": "stream",
     "text": [
      "VAL TASK LOSS: 0.4206\n"
     ]
    },
    {
     "name": "stderr",
     "output_type": "stream",
     "text": [
      "Epoch 40/50 TRN: 100%|██████████| 170/170 [00:01<00:00, 128.22it/s]\n"
     ]
    },
    {
     "name": "stdout",
     "output_type": "stream",
     "text": [
      "TRN TASK LOSS: 0.0682\n"
     ]
    },
    {
     "name": "stderr",
     "output_type": "stream",
     "text": [
      "Epoch 40/50 VAL: 100%|██████████| 23/23 [00:00<00:00, 434.32it/s]\n"
     ]
    },
    {
     "name": "stdout",
     "output_type": "stream",
     "text": [
      "VAL TASK LOSS: 0.4841\n",
      "EPOCH 41 START ---->>>>\n"
     ]
    },
    {
     "name": "stderr",
     "output_type": "stream",
     "text": [
      "Epoch 41/50 TRN: 100%|██████████| 170/170 [00:01<00:00, 129.62it/s]\n"
     ]
    },
    {
     "name": "stdout",
     "output_type": "stream",
     "text": [
      "TRN TASK LOSS: 0.0735\n"
     ]
    },
    {
     "name": "stderr",
     "output_type": "stream",
     "text": [
      "Epoch 41/50 VAL: 100%|██████████| 23/23 [00:00<00:00, 387.50it/s]\n"
     ]
    },
    {
     "name": "stdout",
     "output_type": "stream",
     "text": [
      "VAL TASK LOSS: 0.4313\n"
     ]
    },
    {
     "name": "stderr",
     "output_type": "stream",
     "text": [
      "Epoch 42/50 TRN: 100%|██████████| 170/170 [00:01<00:00, 120.75it/s]\n"
     ]
    },
    {
     "name": "stdout",
     "output_type": "stream",
     "text": [
      "TRN TASK LOSS: 0.0672\n"
     ]
    },
    {
     "name": "stderr",
     "output_type": "stream",
     "text": [
      "Epoch 42/50 VAL: 100%|██████████| 23/23 [00:00<00:00, 354.03it/s]\n"
     ]
    },
    {
     "name": "stdout",
     "output_type": "stream",
     "text": [
      "VAL TASK LOSS: 0.4493\n"
     ]
    },
    {
     "name": "stderr",
     "output_type": "stream",
     "text": [
      "Epoch 43/50 TRN: 100%|██████████| 170/170 [00:01<00:00, 127.56it/s]\n"
     ]
    },
    {
     "name": "stdout",
     "output_type": "stream",
     "text": [
      "TRN TASK LOSS: 0.0649\n"
     ]
    },
    {
     "name": "stderr",
     "output_type": "stream",
     "text": [
      "Epoch 43/50 VAL: 100%|██████████| 23/23 [00:00<00:00, 312.94it/s]\n"
     ]
    },
    {
     "name": "stdout",
     "output_type": "stream",
     "text": [
      "VAL TASK LOSS: 0.4262\n"
     ]
    },
    {
     "name": "stderr",
     "output_type": "stream",
     "text": [
      "Epoch 44/50 TRN: 100%|██████████| 170/170 [00:01<00:00, 130.31it/s]\n"
     ]
    },
    {
     "name": "stdout",
     "output_type": "stream",
     "text": [
      "TRN TASK LOSS: 0.0658\n"
     ]
    },
    {
     "name": "stderr",
     "output_type": "stream",
     "text": [
      "Epoch 44/50 VAL: 100%|██████████| 23/23 [00:00<00:00, 422.53it/s]\n"
     ]
    },
    {
     "name": "stdout",
     "output_type": "stream",
     "text": [
      "VAL TASK LOSS: 0.4462\n"
     ]
    },
    {
     "name": "stderr",
     "output_type": "stream",
     "text": [
      "Epoch 45/50 TRN: 100%|██████████| 170/170 [00:01<00:00, 127.91it/s]\n"
     ]
    },
    {
     "name": "stdout",
     "output_type": "stream",
     "text": [
      "TRN TASK LOSS: 0.0658\n"
     ]
    },
    {
     "name": "stderr",
     "output_type": "stream",
     "text": [
      "Epoch 45/50 VAL: 100%|██████████| 23/23 [00:00<00:00, 364.04it/s]\n"
     ]
    },
    {
     "name": "stdout",
     "output_type": "stream",
     "text": [
      "VAL TASK LOSS: 0.4367\n"
     ]
    },
    {
     "name": "stderr",
     "output_type": "stream",
     "text": [
      "Epoch 46/50 TRN: 100%|██████████| 170/170 [00:01<00:00, 129.59it/s]\n"
     ]
    },
    {
     "name": "stdout",
     "output_type": "stream",
     "text": [
      "TRN TASK LOSS: 0.0631\n"
     ]
    },
    {
     "name": "stderr",
     "output_type": "stream",
     "text": [
      "Epoch 46/50 VAL: 100%|██████████| 23/23 [00:00<00:00, 329.91it/s]\n"
     ]
    },
    {
     "name": "stdout",
     "output_type": "stream",
     "text": [
      "VAL TASK LOSS: 0.4484\n"
     ]
    },
    {
     "name": "stderr",
     "output_type": "stream",
     "text": [
      "Epoch 47/50 TRN: 100%|██████████| 170/170 [00:01<00:00, 128.33it/s]\n"
     ]
    },
    {
     "name": "stdout",
     "output_type": "stream",
     "text": [
      "TRN TASK LOSS: 0.0645\n"
     ]
    },
    {
     "name": "stderr",
     "output_type": "stream",
     "text": [
      "Epoch 47/50 VAL: 100%|██████████| 23/23 [00:00<00:00, 361.30it/s]\n"
     ]
    },
    {
     "name": "stdout",
     "output_type": "stream",
     "text": [
      "VAL TASK LOSS: 0.4268\n"
     ]
    },
    {
     "name": "stderr",
     "output_type": "stream",
     "text": [
      "Epoch 48/50 TRN: 100%|██████████| 170/170 [00:01<00:00, 127.94it/s]\n"
     ]
    },
    {
     "name": "stdout",
     "output_type": "stream",
     "text": [
      "TRN TASK LOSS: 0.0646\n"
     ]
    },
    {
     "name": "stderr",
     "output_type": "stream",
     "text": [
      "Epoch 48/50 VAL: 100%|██████████| 23/23 [00:00<00:00, 443.65it/s]\n"
     ]
    },
    {
     "name": "stdout",
     "output_type": "stream",
     "text": [
      "VAL TASK LOSS: 0.4757\n"
     ]
    },
    {
     "name": "stderr",
     "output_type": "stream",
     "text": [
      "Epoch 49/50 TRN: 100%|██████████| 170/170 [00:01<00:00, 126.59it/s]\n"
     ]
    },
    {
     "name": "stdout",
     "output_type": "stream",
     "text": [
      "TRN TASK LOSS: 0.0646\n"
     ]
    },
    {
     "name": "stderr",
     "output_type": "stream",
     "text": [
      "Epoch 49/50 VAL: 100%|██████████| 23/23 [00:00<00:00, 367.91it/s]\n"
     ]
    },
    {
     "name": "stdout",
     "output_type": "stream",
     "text": [
      "VAL TASK LOSS: 0.4345\n"
     ]
    },
    {
     "name": "stderr",
     "output_type": "stream",
     "text": [
      "Epoch 50/50 TRN: 100%|██████████| 170/170 [00:01<00:00, 129.99it/s]\n"
     ]
    },
    {
     "name": "stdout",
     "output_type": "stream",
     "text": [
      "TRN TASK LOSS: 0.0660\n"
     ]
    },
    {
     "name": "stderr",
     "output_type": "stream",
     "text": [
      "Epoch 50/50 VAL: 100%|██████████| 23/23 [00:00<00:00, 513.40it/s]"
     ]
    },
    {
     "name": "stdout",
     "output_type": "stream",
     "text": [
      "VAL TASK LOSS: 0.4531\n"
     ]
    },
    {
     "name": "stderr",
     "output_type": "stream",
     "text": [
      "\n"
     ]
    }
   ],
   "source": [
    "kwargs = dict(\n",
    "    trn_loader=trn_loader,\n",
    "    val_loader=val_loader,\n",
    "    n_epochs=N_EPOCHS,\n",
    ")\n",
    "\n",
    "history = loop.fit(**kwargs)"
   ]
  },
  {
   "cell_type": "code",
   "execution_count": 85,
   "id": "0dde1ad9",
   "metadata": {
    "execution": {
     "iopub.execute_input": "2025-04-18T00:55:21.491977Z",
     "iopub.status.busy": "2025-04-18T00:55:21.491977Z",
     "iopub.status.idle": "2025-04-18T00:55:21.585604Z",
     "shell.execute_reply": "2025-04-18T00:55:21.585604Z"
    }
   },
   "outputs": [
    {
     "data": {
      "image/png": "[encoded data removed]",
      "text/plain": [
       "<Figure size 800x500 with 1 Axes>"
      ]
     },
     "metadata": {},
     "output_type": "display_data"
    }
   ],
   "source": [
    "utils.vis.plot_loss(history, 'TASK LOSS')"
   ]
  },
  {
   "cell_type": "markdown",
   "id": "98b20720",
   "metadata": {},
   "source": [
    "# Test"
   ]
  },
  {
   "cell_type": "code",
   "execution_count": 86,
   "id": "94829794",
   "metadata": {},
   "outputs": [],
   "source": [
    "TRUE_COL_LIST = [DEFAULT_USER_COL, DEFAULT_ITEM_COL, DEFAULT_LABEL_COL]\n",
    "PRED_COL_LIST = [DEFAULT_USER_COL, DEFAULT_ITEM_COL, DEFAULT_PREDICTION_COL]"
   ]
  },
  {
   "cell_type": "markdown",
   "id": "fb3ff26f",
   "metadata": {},
   "source": [
    "### TST Data"
   ]
  },
  {
   "cell_type": "code",
   "execution_count": 87,
   "id": "5efe605c",
   "metadata": {
    "execution": {
     "iopub.execute_input": "2025-04-18T00:55:21.660121Z",
     "iopub.status.busy": "2025-04-18T00:55:21.660121Z",
     "iopub.status.idle": "2025-04-18T00:55:26.983338Z",
     "shell.execute_reply": "2025-04-18T00:55:26.983338Z"
    }
   },
   "outputs": [
    {
     "name": "stderr",
     "output_type": "stream",
     "text": [
      "TST: 100%|██████████| 2730/2730 [00:04<00:00, 612.63it/s]\n"
     ]
    }
   ],
   "source": [
    "kwargs = dict(\n",
    "    tst_loader=tst_loader,\n",
    ")\n",
    "\n",
    "result_tst = loop.predict(**kwargs)"
   ]
  },
  {
   "cell_type": "code",
   "execution_count": 88,
   "id": "b2da58cf",
   "metadata": {},
   "outputs": [
    {
     "name": "stdout",
     "output_type": "stream",
     "text": [
      "HR@5: 0.513693\n",
      "PRECISION@5: 0.105477\n",
      "RECALL@5: 0.485699\n",
      "MAP@5: 0.397098\n",
      "NDCG@5: 0.423787\n",
      "AGGDIV@5: 0.126678\n",
      "MEAN NOVELTY@5: 10.123110\n",
      "MEAN SERENDIPITY@5: 0.097261\n",
      "PERSONALIZATION@5: 0.987200\n"
     ]
    }
   ],
   "source": [
    "TOP_K = 5\n",
    "\n",
    "kwargs = dict(\n",
    "    model_name=model.model_name,\n",
    "    origin=data,\n",
    "    rating_true=result_tst[TRUE_COL_LIST],\n",
    "    rating_pred=result_tst[PRED_COL_LIST],\n",
    "    k=TOP_K,\n",
    ")\n",
    "\n",
    "eval = ranking.metrics.eval_top_k(**kwargs)"
   ]
  },
  {
   "cell_type": "code",
   "execution_count": 89,
   "id": "fd442b4d",
   "metadata": {
    "execution": {
     "iopub.execute_input": "2025-04-18T00:55:27.001029Z",
     "iopub.status.busy": "2025-04-18T00:55:27.001029Z",
     "iopub.status.idle": "2025-04-18T00:55:27.771404Z",
     "shell.execute_reply": "2025-04-18T00:55:27.771404Z"
    }
   },
   "outputs": [
    {
     "name": "stdout",
     "output_type": "stream",
     "text": [
      "HR@10: 0.592314\n",
      "PRECISION@10: 0.061882\n",
      "RECALL@10: 0.559280\n",
      "MAP@10: 0.407405\n",
      "NDCG@10: 0.448392\n",
      "AGGDIV@10: 0.068110\n",
      "MEAN NOVELTY@10: 10.471035\n",
      "MEAN SERENDIPITY@10: 0.054594\n",
      "PERSONALIZATION@10: 0.985644\n"
     ]
    }
   ],
   "source": [
    "TOP_K = 10\n",
    "\n",
    "kwargs = dict(\n",
    "    model_name=model.model_name,\n",
    "    origin=data,\n",
    "    rating_true=result_tst[TRUE_COL_LIST],\n",
    "    rating_pred=result_tst[PRED_COL_LIST],\n",
    "    k=TOP_K,\n",
    ")\n",
    "\n",
    "eval = ranking.metrics.eval_top_k(**kwargs)"
   ]
  },
  {
   "cell_type": "code",
   "execution_count": 90,
   "id": "53c5a9bb",
   "metadata": {},
   "outputs": [
    {
     "name": "stdout",
     "output_type": "stream",
     "text": [
      "HR@15: 0.648410\n",
      "PRECISION@15: 0.045583\n",
      "RECALL@15: 0.612763\n",
      "MAP@15: 0.411833\n",
      "NDCG@15: 0.463059\n",
      "AGGDIV@15: 0.046349\n",
      "MEAN NOVELTY@15: 10.636461\n",
      "MEAN SERENDIPITY@15: 0.029093\n",
      "PERSONALIZATION@15: 0.982887\n"
     ]
    }
   ],
   "source": [
    "TOP_K = 15\n",
    "\n",
    "kwargs = dict(\n",
    "    model_name=model.model_name,\n",
    "    origin=data,\n",
    "    rating_true=result_tst[TRUE_COL_LIST],\n",
    "    rating_pred=result_tst[PRED_COL_LIST],\n",
    "    k=TOP_K,\n",
    ")\n",
    "\n",
    "eval = ranking.metrics.eval_top_k(**kwargs)"
   ]
  },
  {
   "cell_type": "code",
   "execution_count": 91,
   "id": "1ecdb8be",
   "metadata": {
    "execution": {
     "iopub.execute_input": "2025-04-18T00:55:27.772624Z",
     "iopub.status.busy": "2025-04-18T00:55:27.772624Z",
     "iopub.status.idle": "2025-04-18T00:55:28.528515Z",
     "shell.execute_reply": "2025-04-18T00:55:28.528515Z"
    }
   },
   "outputs": [
    {
     "name": "stdout",
     "output_type": "stream",
     "text": [
      "HR@20: 0.700972\n",
      "PRECISION@20: 0.037125\n",
      "RECALL@20: 0.662530\n",
      "MAP@20: 0.414707\n",
      "NDCG@20: 0.475192\n",
      "AGGDIV@20: 0.034828\n",
      "MEAN NOVELTY@20: 10.741763\n",
      "MEAN SERENDIPITY@20: 0.022836\n",
      "PERSONALIZATION@20: 0.979889\n"
     ]
    }
   ],
   "source": [
    "TOP_K = 20\n",
    "\n",
    "kwargs = dict(\n",
    "    model_name=model.model_name,\n",
    "    origin=data,\n",
    "    rating_true=result_tst[TRUE_COL_LIST],\n",
    "    rating_pred=result_tst[PRED_COL_LIST],\n",
    "    k=TOP_K,\n",
    ")\n",
    "\n",
    "eval = ranking.metrics.eval_top_k(**kwargs)"
   ]
  },
  {
   "cell_type": "code",
   "execution_count": 92,
   "id": "22341098",
   "metadata": {
    "execution": {
     "iopub.execute_input": "2025-04-18T00:55:28.528515Z",
     "iopub.status.busy": "2025-04-18T00:55:28.528515Z",
     "iopub.status.idle": "2025-04-18T00:55:29.392596Z",
     "shell.execute_reply": "2025-04-18T00:55:29.392596Z"
    }
   },
   "outputs": [
    {
     "name": "stdout",
     "output_type": "stream",
     "text": [
      "HR@50: 0.896643\n",
      "PRECISION@50: 0.019682\n",
      "RECALL@50: 0.863843\n",
      "MAP@50: 0.421848\n",
      "NDCG@50: 0.516934\n",
      "AGGDIV@50: 0.013966\n",
      "MEAN NOVELTY@50: 11.061656\n",
      "MEAN SERENDIPITY@50: 0.012588\n",
      "PERSONALIZATION@50: 0.961960\n"
     ]
    }
   ],
   "source": [
    "TOP_K = 50\n",
    "\n",
    "kwargs = dict(\n",
    "    model_name=model.model_name,\n",
    "    origin=data,\n",
    "    rating_true=result_tst[TRUE_COL_LIST],\n",
    "    rating_pred=result_tst[PRED_COL_LIST],\n",
    "    k=TOP_K,\n",
    ")\n",
    "\n",
    "eval = ranking.metrics.eval_top_k(**kwargs)"
   ]
  },
  {
   "cell_type": "code",
   "execution_count": 93,
   "id": "81e207d2",
   "metadata": {
    "execution": {
     "iopub.execute_input": "2025-04-18T00:55:29.392596Z",
     "iopub.status.busy": "2025-04-18T00:55:29.392596Z",
     "iopub.status.idle": "2025-04-18T00:55:30.340823Z",
     "shell.execute_reply": "2025-04-18T00:55:30.340823Z"
    }
   },
   "outputs": [
    {
     "name": "stdout",
     "output_type": "stream",
     "text": [
      "HR@100: 0.997792\n",
      "PRECISION@100: 0.011466\n",
      "RECALL@100: 0.982955\n",
      "MAP@100: 0.424050\n",
      "NDCG@100: 0.537863\n",
      "AGGDIV@100: 0.006983\n",
      "MEAN NOVELTY@100: 11.369872\n",
      "MEAN SERENDIPITY@100: 0.007288\n",
      "PERSONALIZATION@100: 0.936042\n"
     ]
    }
   ],
   "source": [
    "TOP_K = 100\n",
    "\n",
    "kwargs = dict(\n",
    "    model_name=model.model_name,\n",
    "    origin=data,\n",
    "    rating_true=result_tst[TRUE_COL_LIST],\n",
    "    rating_pred=result_tst[PRED_COL_LIST],\n",
    "    k=TOP_K,\n",
    ")\n",
    "\n",
    "eval = ranking.metrics.eval_top_k(**kwargs)"
   ]
  },
  {
   "cell_type": "markdown",
   "id": "bb93caed",
   "metadata": {},
   "source": [
    "### Leave-One-Out Data"
   ]
  },
  {
   "cell_type": "code",
   "execution_count": 94,
   "id": "c217c21e",
   "metadata": {
    "execution": {
     "iopub.execute_input": "2025-04-18T00:55:30.605059Z",
     "iopub.status.busy": "2025-04-18T00:55:30.603017Z",
     "iopub.status.idle": "2025-04-18T00:55:36.046512Z",
     "shell.execute_reply": "2025-04-18T00:55:36.046512Z"
    }
   },
   "outputs": [
    {
     "name": "stderr",
     "output_type": "stream",
     "text": [
      "TST: 100%|██████████| 3819/3819 [00:06<00:00, 591.43it/s]\n"
     ]
    }
   ],
   "source": [
    "kwargs = dict(\n",
    "    tst_loader=loo_loader,\n",
    ")\n",
    "\n",
    "result_loo = loop.predict(**kwargs)"
   ]
  },
  {
   "cell_type": "code",
   "execution_count": 95,
   "id": "3a958020",
   "metadata": {},
   "outputs": [
    {
     "name": "stdout",
     "output_type": "stream",
     "text": [
      "HR@5: 0.461639\n",
      "PRECISION@5: 0.092328\n",
      "RECALL@5: 0.461639\n",
      "MAP@5: 0.361216\n",
      "NDCG@5: 0.386191\n",
      "AGGDIV@5: 0.078764\n",
      "MEAN NOVELTY@5: 10.152754\n",
      "MEAN SERENDIPITY@5: 0.074051\n",
      "PERSONALIZATION@5: 0.989186\n"
     ]
    }
   ],
   "source": [
    "TOP_K = 5\n",
    "\n",
    "kwargs = dict(\n",
    "    model_name=model.model_name,\n",
    "    origin=data,\n",
    "    rating_true=result_loo[TRUE_COL_LIST],\n",
    "    rating_pred=result_loo[PRED_COL_LIST],\n",
    "    k=TOP_K,\n",
    ")\n",
    "\n",
    "eval = ranking.metrics.eval_top_k(**kwargs)"
   ]
  },
  {
   "cell_type": "code",
   "execution_count": 96,
   "id": "565fb522",
   "metadata": {
    "execution": {
     "iopub.execute_input": "2025-04-18T00:55:36.046512Z",
     "iopub.status.busy": "2025-04-18T00:55:36.046512Z",
     "iopub.status.idle": "2025-04-18T00:55:36.710571Z",
     "shell.execute_reply": "2025-04-18T00:55:36.710571Z"
    }
   },
   "outputs": [
    {
     "name": "stdout",
     "output_type": "stream",
     "text": [
      "HR@10: 0.553286\n",
      "PRECISION@10: 0.055329\n",
      "RECALL@10: 0.553286\n",
      "MAP@10: 0.373148\n",
      "NDCG@10: 0.415524\n",
      "AGGDIV@10: 0.041084\n",
      "MEAN NOVELTY@10: 10.517134\n",
      "MEAN SERENDIPITY@10: 0.039592\n",
      "PERSONALIZATION@10: 0.986516\n"
     ]
    }
   ],
   "source": [
    "TOP_K = 10\n",
    "\n",
    "kwargs = dict(\n",
    "    model_name=model.model_name,\n",
    "    origin=data,\n",
    "    rating_true=result_loo[TRUE_COL_LIST],\n",
    "    rating_pred=result_loo[PRED_COL_LIST],\n",
    "    k=TOP_K,\n",
    ")\n",
    "\n",
    "eval = ranking.metrics.eval_top_k(**kwargs)"
   ]
  },
  {
   "cell_type": "code",
   "execution_count": 97,
   "id": "d2bced2b",
   "metadata": {},
   "outputs": [
    {
     "name": "stdout",
     "output_type": "stream",
     "text": [
      "HR@15: 0.616392\n",
      "PRECISION@15: 0.041093\n",
      "RECALL@15: 0.616392\n",
      "MAP@15: 0.378036\n",
      "NDCG@15: 0.432127\n",
      "AGGDIV@15: 0.027599\n",
      "MEAN NOVELTY@15: 10.690556\n",
      "MEAN SERENDIPITY@15: 0.027005\n",
      "PERSONALIZATION@15: 0.983547\n"
     ]
    }
   ],
   "source": [
    "TOP_K = 15\n",
    "\n",
    "kwargs = dict(\n",
    "    model_name=model.model_name,\n",
    "    origin=data,\n",
    "    rating_true=result_loo[TRUE_COL_LIST],\n",
    "    rating_pred=result_loo[PRED_COL_LIST],\n",
    "    k=TOP_K,\n",
    ")\n",
    "\n",
    "eval = ranking.metrics.eval_top_k(**kwargs)"
   ]
  },
  {
   "cell_type": "code",
   "execution_count": 98,
   "id": "9b9f85ee",
   "metadata": {},
   "outputs": [
    {
     "name": "stdout",
     "output_type": "stream",
     "text": [
      "HR@20: 0.671380\n",
      "PRECISION@20: 0.033569\n",
      "RECALL@20: 0.671380\n",
      "MAP@20: 0.381118\n",
      "NDCG@20: 0.445104\n",
      "AGGDIV@20: 0.020699\n",
      "MEAN NOVELTY@20: 10.801221\n",
      "MEAN SERENDIPITY@20: 0.020869\n",
      "PERSONALIZATION@20: 0.980499\n"
     ]
    }
   ],
   "source": [
    "TOP_K = 20\n",
    "\n",
    "kwargs = dict(\n",
    "    model_name=model.model_name,\n",
    "    origin=data,\n",
    "    rating_true=result_loo[TRUE_COL_LIST],\n",
    "    rating_pred=result_loo[PRED_COL_LIST],\n",
    "    k=TOP_K,\n",
    ")\n",
    "\n",
    "eval = ranking.metrics.eval_top_k(**kwargs)"
   ]
  }
 ],
 "metadata": {
  "kernelspec": {
   "display_name": "Python 3",
   "language": "python",
   "name": "python3"
  },
  "language_info": {
   "codemirror_mode": {
    "name": "ipython",
    "version": 3
   },
   "file_extension": ".py",
   "mimetype": "text/x-python",
   "name": "python",
   "nbconvert_exporter": "python",
   "pygments_lexer": "ipython3",
   "version": "3.11.5"
  }
 },
 "nbformat": 4,
 "nbformat_minor": 5
}
