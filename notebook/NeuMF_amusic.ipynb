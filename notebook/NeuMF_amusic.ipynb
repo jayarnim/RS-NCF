{
 "cells": [
  {
   "cell_type": "markdown",
   "id": "613e2bd6",
   "metadata": {},
   "source": [
    "# Constants"
   ]
  },
  {
   "cell_type": "code",
   "execution_count": null,
   "id": "d60ab310",
   "metadata": {
    "execution": {
     "iopub.execute_input": "2025-04-18T00:54:03.520580Z",
     "iopub.status.busy": "2025-04-18T00:54:03.520580Z",
     "iopub.status.idle": "2025-04-18T00:54:03.527304Z",
     "shell.execute_reply": "2025-04-18T00:54:03.527304Z"
    }
   },
   "outputs": [],
   "source": [
    "WORK_DIR_PATH = \"..\"\n",
    "\n",
    "# Split\n",
    "FILTER_BY = \"user\"\n",
    "TRN_VAL_TST_RATIO = [0.8, 0.1, 0.1]\n",
    "TRN_NEG_PER_POS_RATIO = 1\n",
    "NEG_PER_POS_RATIO = [TRN_NEG_PER_POS_RATIO, TRN_NEG_PER_POS_RATIO, 100, 100]\n",
    "BATCH_SIZE = [128, 128, 1, 1]\n",
    "\n",
    "# Model\n",
    "N_FACTORS = 32\n",
    "HIDDEN = [N_FACTORS*2, N_FACTORS*2, N_FACTORS, N_FACTORS // 2]\n",
    "DROPOUT = 0.2\n",
    "MODEL_NAME = \"NeuMF\"\n",
    "\n",
    "# How to Learn\n",
    "TASK_TYPE = 'bpr'\n",
    "LEARNING_RATE = 1e-4\n",
    "LAMBDA_ = 1e-2\n",
    "\n",
    "# Fit\n",
    "N_EPOCHS = 300"
   ]
  },
  {
   "cell_type": "markdown",
   "id": "f9f08c36",
   "metadata": {},
   "source": [
    "# Config"
   ]
  },
  {
   "cell_type": "code",
   "execution_count": 2,
   "id": "45fd1993",
   "metadata": {
    "execution": {
     "iopub.execute_input": "2025-04-18T00:54:03.527304Z",
     "iopub.status.busy": "2025-04-18T00:54:03.527304Z",
     "iopub.status.idle": "2025-04-18T00:54:03.531315Z",
     "shell.execute_reply": "2025-04-18T00:54:03.531315Z"
    }
   },
   "outputs": [
    {
     "name": "stdout",
     "output_type": "stream",
     "text": [
      "DIRECTORY: c:\\Users\\jayar\\Desktop\\바탕 화면\\RESEARCH-MLP\n"
     ]
    }
   ],
   "source": [
    "import warnings\n",
    "warnings.filterwarnings(\"ignore\")\n",
    "\n",
    "import os\n",
    "os.environ[\"CUDA_LAUNCH_BLOCKING\"] = \"1\"\n",
    "os.chdir(WORK_DIR_PATH)\n",
    "print(f\"DIRECTORY: {os.getcwd()}\")"
   ]
  },
  {
   "cell_type": "code",
   "execution_count": 3,
   "id": "2f4ba2b9",
   "metadata": {
    "execution": {
     "iopub.execute_input": "2025-04-18T00:54:03.531315Z",
     "iopub.status.busy": "2025-04-18T00:54:03.531315Z",
     "iopub.status.idle": "2025-04-18T00:54:05.107842Z",
     "shell.execute_reply": "2025-04-18T00:54:05.107457Z"
    }
   },
   "outputs": [],
   "source": [
    "import json\n",
    "import pandas as pd\n",
    "import torch"
   ]
  },
  {
   "cell_type": "code",
   "execution_count": 4,
   "id": "851631e1",
   "metadata": {
    "execution": {
     "iopub.execute_input": "2025-04-18T00:54:05.108232Z",
     "iopub.status.busy": "2025-04-18T00:54:05.108232Z",
     "iopub.status.idle": "2025-04-18T00:54:05.782577Z",
     "shell.execute_reply": "2025-04-18T00:54:05.782577Z"
    }
   },
   "outputs": [],
   "source": [
    "import NeuMF\n",
    "from MYUTILS import (\n",
    "    ranking,\n",
    "    utils,\n",
    ")\n",
    "from MYUTILS.config.constants import (\n",
    "    DEFAULT_USER_COL,\n",
    "    DEFAULT_ITEM_COL,\n",
    "    DEFAULT_RATING_COL,\n",
    "    DEFAULT_LABEL_COL,\n",
    "    DEFAULT_TIMESTAMP_COL,\n",
    "    DEFAULT_PREDICTION_COL,\n",
    "    DEFAULT_K,\n",
    "    SEED,\n",
    ")"
   ]
  },
  {
   "cell_type": "code",
   "execution_count": 5,
   "id": "9a53ddac",
   "metadata": {
    "execution": {
     "iopub.execute_input": "2025-04-18T00:54:05.782577Z",
     "iopub.status.busy": "2025-04-18T00:54:05.782577Z",
     "iopub.status.idle": "2025-04-18T00:54:05.812530Z",
     "shell.execute_reply": "2025-04-18T00:54:05.812530Z"
    }
   },
   "outputs": [
    {
     "name": "stdout",
     "output_type": "stream",
     "text": [
      "SETTING ALL SEEDS TO 42...\n",
      "ALL SEEDS SET\n"
     ]
    }
   ],
   "source": [
    "# Seed\n",
    "utils.seed.reset(SEED)"
   ]
  },
  {
   "cell_type": "code",
   "execution_count": 6,
   "id": "97ae7b90",
   "metadata": {
    "execution": {
     "iopub.execute_input": "2025-04-18T00:54:05.812530Z",
     "iopub.status.busy": "2025-04-18T00:54:05.812530Z",
     "iopub.status.idle": "2025-04-18T00:54:05.816030Z",
     "shell.execute_reply": "2025-04-18T00:54:05.816030Z"
    }
   },
   "outputs": [
    {
     "name": "stdout",
     "output_type": "stream",
     "text": [
      "cuda\n"
     ]
    }
   ],
   "source": [
    "# Available GPU\n",
    "device = torch.device(\"cuda\" if torch.cuda.is_available() else \"cpu\")\n",
    "print(device)"
   ]
  },
  {
   "cell_type": "markdown",
   "id": "0b47285f",
   "metadata": {},
   "source": [
    "# Data Preparation"
   ]
  },
  {
   "cell_type": "code",
   "execution_count": 7,
   "id": "ed5d6be4",
   "metadata": {
    "execution": {
     "iopub.execute_input": "2025-04-18T00:54:05.816030Z",
     "iopub.status.busy": "2025-04-18T00:54:05.816030Z",
     "iopub.status.idle": "2025-04-18T00:54:05.838930Z",
     "shell.execute_reply": "2025-04-18T00:54:05.838930Z"
    }
   },
   "outputs": [],
   "source": [
    "# JSON lines 형식의 파일 열기\n",
    "with open('./data/amusic.json', 'r', encoding='utf-8') as f:\n",
    "    records = [json.loads(line) for line in f]\n",
    "\n",
    "# reviewerID와 asin만 추출\n",
    "filtered_records = [{'reviewerID': r['reviewerID'], 'asin': r['asin']} for r in records]\n",
    "\n",
    "# DataFrame으로 변환\n",
    "data = pd.DataFrame(filtered_records)"
   ]
  },
  {
   "cell_type": "code",
   "execution_count": 8,
   "id": "a3d2b14e",
   "metadata": {
    "execution": {
     "iopub.execute_input": "2025-04-18T00:54:05.840436Z",
     "iopub.status.busy": "2025-04-18T00:54:05.840436Z",
     "iopub.status.idle": "2025-04-18T00:54:05.855254Z",
     "shell.execute_reply": "2025-04-18T00:54:05.855254Z"
    }
   },
   "outputs": [],
   "source": [
    "# Columns\n",
    "kwargs = dict(\n",
    "    col_user='reviewerID', \n",
    "    col_item='asin', \n",
    ")\n",
    "\n",
    "data = utils.data.rename_columns(data, **kwargs)\n",
    "\n",
    "\n",
    "# Label encoding\n",
    "kwargs = dict(\n",
    "    data=data, \n",
    "    col_user=DEFAULT_USER_COL, \n",
    "    col_item=DEFAULT_ITEM_COL,\n",
    ")\n",
    "\n",
    "data, user_label, item_label = utils.data.label_encoding(**kwargs)\n",
    "\n",
    "\n",
    "# Number of user, item\n",
    "N_USERS = data[DEFAULT_USER_COL].nunique()\n",
    "N_ITEMS = data[DEFAULT_ITEM_COL].nunique()"
   ]
  },
  {
   "cell_type": "code",
   "execution_count": 9,
   "id": "483c1f75",
   "metadata": {
    "execution": {
     "iopub.execute_input": "2025-04-18T00:54:05.855254Z",
     "iopub.status.busy": "2025-04-18T00:54:05.855254Z",
     "iopub.status.idle": "2025-04-18T00:54:05.860357Z",
     "shell.execute_reply": "2025-04-18T00:54:05.860357Z"
    }
   },
   "outputs": [
    {
     "name": "stdout",
     "output_type": "stream",
     "text": [
      "number of user: 5541\n",
      "number of item: 3568\n",
      "total interaction: 64706\n",
      "interaction density: 0.3273 %\n",
      "max interaction of user: 578\n",
      "top 10.0 % interaction of user: 20.0\n",
      "mean interaction of user: 11\n",
      "mean interaction of item: 18\n"
     ]
    }
   ],
   "source": [
    "# data Description\n",
    "utils.data.description(data)"
   ]
  },
  {
   "cell_type": "code",
   "execution_count": 10,
   "id": "8c668a94",
   "metadata": {
    "execution": {
     "iopub.execute_input": "2025-04-18T00:54:05.860357Z",
     "iopub.status.busy": "2025-04-18T00:54:05.860357Z",
     "iopub.status.idle": "2025-04-18T00:54:06.931133Z",
     "shell.execute_reply": "2025-04-18T00:54:06.931133Z"
    }
   },
   "outputs": [],
   "source": [
    "kwargs = dict(\n",
    "    data=data,\n",
    "    n_users=N_USERS,\n",
    "    n_items=N_ITEMS,\n",
    "    col_user=DEFAULT_USER_COL,\n",
    "    col_item=DEFAULT_ITEM_COL,\n",
    ")\n",
    "\n",
    "dataloader = ranking.trn_val_tst.Module(**kwargs)\n",
    "\n",
    "kwargs = dict(\n",
    "    filter_by=FILTER_BY,\n",
    "    trn_val_tst_ratio=TRN_VAL_TST_RATIO,\n",
    "    neg_per_pos=NEG_PER_POS_RATIO,\n",
    "    batch_size=BATCH_SIZE,\n",
    "    seed=SEED,\n",
    "    )\n",
    "\n",
    "loaders, _ = dataloader.get(**kwargs)\n",
    "trn_loader, val_loader, tst_loader, loo_loader = loaders"
   ]
  },
  {
   "cell_type": "markdown",
   "id": "eaaa126a",
   "metadata": {},
   "source": [
    "# Modeling"
   ]
  },
  {
   "cell_type": "code",
   "execution_count": 11,
   "id": "56d340e9",
   "metadata": {
    "execution": {
     "iopub.execute_input": "2025-04-18T00:54:06.931133Z",
     "iopub.status.busy": "2025-04-18T00:54:06.931133Z",
     "iopub.status.idle": "2025-04-18T00:54:07.014576Z",
     "shell.execute_reply": "2025-04-18T00:54:07.014576Z"
    }
   },
   "outputs": [],
   "source": [
    "kwargs = dict(\n",
    "    n_users=N_USERS,\n",
    "    n_items=N_ITEMS,\n",
    "    n_factors=N_FACTORS,\n",
    "    hidden=HIDDEN,\n",
    "    dropout=DROPOUT,\n",
    "    model_name=MODEL_NAME,\n",
    ")\n",
    "\n",
    "model = NeuMF.model.Module(**kwargs)"
   ]
  },
  {
   "cell_type": "code",
   "execution_count": 12,
   "id": "92aec85d",
   "metadata": {
    "execution": {
     "iopub.execute_input": "2025-04-18T00:54:07.014576Z",
     "iopub.status.busy": "2025-04-18T00:54:07.014576Z",
     "iopub.status.idle": "2025-04-18T00:54:07.834168Z",
     "shell.execute_reply": "2025-04-18T00:54:07.834168Z"
    }
   },
   "outputs": [],
   "source": [
    "kwargs = dict(\n",
    "    model=model,\n",
    "    trn_neg_per_pos_ratio=TRN_NEG_PER_POS_RATIO,\n",
    "    task_type=TASK_TYPE,\n",
    "    lr=LEARNING_RATE,\n",
    "    lambda_=LAMBDA_,\n",
    ")\n",
    "\n",
    "loop = NeuMF.loop.Module(**kwargs)"
   ]
  },
  {
   "cell_type": "markdown",
   "id": "ee78f187",
   "metadata": {},
   "source": [
    "# Train"
   ]
  },
  {
   "cell_type": "code",
   "execution_count": null,
   "id": "3e4de17a",
   "metadata": {
    "execution": {
     "iopub.execute_input": "2025-04-18T00:54:07.834168Z",
     "iopub.status.busy": "2025-04-18T00:54:07.834168Z",
     "iopub.status.idle": "2025-04-18T00:55:21.491977Z",
     "shell.execute_reply": "2025-04-18T00:55:21.491977Z"
    }
   },
   "outputs": [
    {
     "name": "stdout",
     "output_type": "stream",
     "text": [
      "EPOCH 1 START ---->>>>\n"
     ]
    },
    {
     "name": "stderr",
     "output_type": "stream",
     "text": [
      "Epoch 1/50 TRN: 100%|██████████| 369/369 [00:02<00:00, 132.18it/s]\n"
     ]
    },
    {
     "name": "stdout",
     "output_type": "stream",
     "text": [
      "TRN TASK LOSS: 0.1052\n"
     ]
    },
    {
     "name": "stderr",
     "output_type": "stream",
     "text": [
      "Epoch 1/50 VAL: 100%|██████████| 46/46 [00:00<00:00, 369.91it/s]\n"
     ]
    },
    {
     "name": "stdout",
     "output_type": "stream",
     "text": [
      "VAL TASK LOSS: 0.2794\n"
     ]
    },
    {
     "name": "stderr",
     "output_type": "stream",
     "text": [
      "Epoch 2/50 TRN: 100%|██████████| 369/369 [00:02<00:00, 137.75it/s]\n"
     ]
    },
    {
     "name": "stdout",
     "output_type": "stream",
     "text": [
      "TRN TASK LOSS: 0.1028\n"
     ]
    },
    {
     "name": "stderr",
     "output_type": "stream",
     "text": [
      "Epoch 2/50 VAL: 100%|██████████| 46/46 [00:00<00:00, 385.86it/s]\n"
     ]
    },
    {
     "name": "stdout",
     "output_type": "stream",
     "text": [
      "VAL TASK LOSS: 0.3086\n"
     ]
    },
    {
     "name": "stderr",
     "output_type": "stream",
     "text": [
      "Epoch 3/50 TRN: 100%|██████████| 369/369 [00:02<00:00, 131.19it/s]\n"
     ]
    },
    {
     "name": "stdout",
     "output_type": "stream",
     "text": [
      "TRN TASK LOSS: 0.1039\n"
     ]
    },
    {
     "name": "stderr",
     "output_type": "stream",
     "text": [
      "Epoch 3/50 VAL: 100%|██████████| 46/46 [00:00<00:00, 461.10it/s]\n"
     ]
    },
    {
     "name": "stdout",
     "output_type": "stream",
     "text": [
      "VAL TASK LOSS: 0.2997\n"
     ]
    },
    {
     "name": "stderr",
     "output_type": "stream",
     "text": [
      "Epoch 4/50 TRN: 100%|██████████| 369/369 [00:02<00:00, 129.40it/s]\n"
     ]
    },
    {
     "name": "stdout",
     "output_type": "stream",
     "text": [
      "TRN TASK LOSS: 0.1056\n"
     ]
    },
    {
     "name": "stderr",
     "output_type": "stream",
     "text": [
      "Epoch 4/50 VAL: 100%|██████████| 46/46 [00:00<00:00, 545.55it/s]\n"
     ]
    },
    {
     "name": "stdout",
     "output_type": "stream",
     "text": [
      "VAL TASK LOSS: 0.3041\n"
     ]
    },
    {
     "name": "stderr",
     "output_type": "stream",
     "text": [
      "Epoch 5/50 TRN: 100%|██████████| 369/369 [00:02<00:00, 132.52it/s]\n"
     ]
    },
    {
     "name": "stdout",
     "output_type": "stream",
     "text": [
      "TRN TASK LOSS: 0.1017\n"
     ]
    },
    {
     "name": "stderr",
     "output_type": "stream",
     "text": [
      "Epoch 5/50 VAL: 100%|██████████| 46/46 [00:00<00:00, 434.06it/s]\n"
     ]
    },
    {
     "name": "stdout",
     "output_type": "stream",
     "text": [
      "VAL TASK LOSS: 0.2965\n"
     ]
    },
    {
     "name": "stderr",
     "output_type": "stream",
     "text": [
      "Epoch 6/50 TRN: 100%|██████████| 369/369 [00:02<00:00, 136.74it/s]\n"
     ]
    },
    {
     "name": "stdout",
     "output_type": "stream",
     "text": [
      "TRN TASK LOSS: 0.1017\n"
     ]
    },
    {
     "name": "stderr",
     "output_type": "stream",
     "text": [
      "Epoch 6/50 VAL: 100%|██████████| 46/46 [00:00<00:00, 427.63it/s]\n"
     ]
    },
    {
     "name": "stdout",
     "output_type": "stream",
     "text": [
      "VAL TASK LOSS: 0.3018\n"
     ]
    },
    {
     "name": "stderr",
     "output_type": "stream",
     "text": [
      "Epoch 7/50 TRN: 100%|██████████| 369/369 [00:02<00:00, 136.44it/s]\n"
     ]
    },
    {
     "name": "stdout",
     "output_type": "stream",
     "text": [
      "TRN TASK LOSS: 0.1040\n"
     ]
    },
    {
     "name": "stderr",
     "output_type": "stream",
     "text": [
      "Epoch 7/50 VAL: 100%|██████████| 46/46 [00:00<00:00, 410.04it/s]\n"
     ]
    },
    {
     "name": "stdout",
     "output_type": "stream",
     "text": [
      "VAL TASK LOSS: 0.3196\n"
     ]
    },
    {
     "name": "stderr",
     "output_type": "stream",
     "text": [
      "Epoch 8/50 TRN: 100%|██████████| 369/369 [00:02<00:00, 138.10it/s]\n"
     ]
    },
    {
     "name": "stdout",
     "output_type": "stream",
     "text": [
      "TRN TASK LOSS: 0.0998\n"
     ]
    },
    {
     "name": "stderr",
     "output_type": "stream",
     "text": [
      "Epoch 8/50 VAL: 100%|██████████| 46/46 [00:00<00:00, 464.95it/s]\n"
     ]
    },
    {
     "name": "stdout",
     "output_type": "stream",
     "text": [
      "VAL TASK LOSS: 0.3001\n"
     ]
    },
    {
     "name": "stderr",
     "output_type": "stream",
     "text": [
      "Epoch 9/50 TRN: 100%|██████████| 369/369 [00:02<00:00, 137.42it/s]\n"
     ]
    },
    {
     "name": "stdout",
     "output_type": "stream",
     "text": [
      "TRN TASK LOSS: 0.1033\n"
     ]
    },
    {
     "name": "stderr",
     "output_type": "stream",
     "text": [
      "Epoch 9/50 VAL: 100%|██████████| 46/46 [00:00<00:00, 452.38it/s]\n"
     ]
    },
    {
     "name": "stdout",
     "output_type": "stream",
     "text": [
      "VAL TASK LOSS: 0.2858\n"
     ]
    },
    {
     "name": "stderr",
     "output_type": "stream",
     "text": [
      "Epoch 10/50 TRN: 100%|██████████| 369/369 [00:02<00:00, 134.91it/s]\n"
     ]
    },
    {
     "name": "stdout",
     "output_type": "stream",
     "text": [
      "TRN TASK LOSS: 0.1022\n"
     ]
    },
    {
     "name": "stderr",
     "output_type": "stream",
     "text": [
      "Epoch 10/50 VAL: 100%|██████████| 46/46 [00:00<00:00, 472.04it/s]\n"
     ]
    },
    {
     "name": "stdout",
     "output_type": "stream",
     "text": [
      "VAL TASK LOSS: 0.3149\n",
      "EPOCH 11 START ---->>>>\n"
     ]
    },
    {
     "name": "stderr",
     "output_type": "stream",
     "text": [
      "Epoch 11/50 TRN: 100%|██████████| 369/369 [00:02<00:00, 139.22it/s]\n"
     ]
    },
    {
     "name": "stdout",
     "output_type": "stream",
     "text": [
      "TRN TASK LOSS: 0.1022\n"
     ]
    },
    {
     "name": "stderr",
     "output_type": "stream",
     "text": [
      "Epoch 11/50 VAL: 100%|██████████| 46/46 [00:00<00:00, 467.20it/s]\n"
     ]
    },
    {
     "name": "stdout",
     "output_type": "stream",
     "text": [
      "VAL TASK LOSS: 0.2669\n"
     ]
    },
    {
     "name": "stderr",
     "output_type": "stream",
     "text": [
      "Epoch 12/50 TRN: 100%|██████████| 369/369 [00:02<00:00, 133.17it/s]\n"
     ]
    },
    {
     "name": "stdout",
     "output_type": "stream",
     "text": [
      "TRN TASK LOSS: 0.0980\n"
     ]
    },
    {
     "name": "stderr",
     "output_type": "stream",
     "text": [
      "Epoch 12/50 VAL: 100%|██████████| 46/46 [00:00<00:00, 472.84it/s]\n"
     ]
    },
    {
     "name": "stdout",
     "output_type": "stream",
     "text": [
      "VAL TASK LOSS: 0.3080\n"
     ]
    },
    {
     "name": "stderr",
     "output_type": "stream",
     "text": [
      "Epoch 13/50 TRN: 100%|██████████| 369/369 [00:02<00:00, 138.63it/s]\n"
     ]
    },
    {
     "name": "stdout",
     "output_type": "stream",
     "text": [
      "TRN TASK LOSS: 0.1011\n"
     ]
    },
    {
     "name": "stderr",
     "output_type": "stream",
     "text": [
      "Epoch 13/50 VAL: 100%|██████████| 46/46 [00:00<00:00, 445.83it/s]\n"
     ]
    },
    {
     "name": "stdout",
     "output_type": "stream",
     "text": [
      "VAL TASK LOSS: 0.2951\n"
     ]
    },
    {
     "name": "stderr",
     "output_type": "stream",
     "text": [
      "Epoch 14/50 TRN: 100%|██████████| 369/369 [00:02<00:00, 134.47it/s]\n"
     ]
    },
    {
     "name": "stdout",
     "output_type": "stream",
     "text": [
      "TRN TASK LOSS: 0.1002\n"
     ]
    },
    {
     "name": "stderr",
     "output_type": "stream",
     "text": [
      "Epoch 14/50 VAL: 100%|██████████| 46/46 [00:00<00:00, 438.48it/s]\n"
     ]
    },
    {
     "name": "stdout",
     "output_type": "stream",
     "text": [
      "VAL TASK LOSS: 0.3140\n"
     ]
    },
    {
     "name": "stderr",
     "output_type": "stream",
     "text": [
      "Epoch 15/50 TRN: 100%|██████████| 369/369 [00:02<00:00, 141.01it/s]\n"
     ]
    },
    {
     "name": "stdout",
     "output_type": "stream",
     "text": [
      "TRN TASK LOSS: 0.1009\n"
     ]
    },
    {
     "name": "stderr",
     "output_type": "stream",
     "text": [
      "Epoch 15/50 VAL: 100%|██████████| 46/46 [00:00<00:00, 407.18it/s]\n"
     ]
    },
    {
     "name": "stdout",
     "output_type": "stream",
     "text": [
      "VAL TASK LOSS: 0.2865\n"
     ]
    },
    {
     "name": "stderr",
     "output_type": "stream",
     "text": [
      "Epoch 16/50 TRN: 100%|██████████| 369/369 [00:02<00:00, 148.49it/s]\n"
     ]
    },
    {
     "name": "stdout",
     "output_type": "stream",
     "text": [
      "TRN TASK LOSS: 0.1004\n"
     ]
    },
    {
     "name": "stderr",
     "output_type": "stream",
     "text": [
      "Epoch 16/50 VAL: 100%|██████████| 46/46 [00:00<00:00, 459.42it/s]\n"
     ]
    },
    {
     "name": "stdout",
     "output_type": "stream",
     "text": [
      "VAL TASK LOSS: 0.3045\n"
     ]
    },
    {
     "name": "stderr",
     "output_type": "stream",
     "text": [
      "Epoch 17/50 TRN: 100%|██████████| 369/369 [00:02<00:00, 130.18it/s]\n"
     ]
    },
    {
     "name": "stdout",
     "output_type": "stream",
     "text": [
      "TRN TASK LOSS: 0.1010\n"
     ]
    },
    {
     "name": "stderr",
     "output_type": "stream",
     "text": [
      "Epoch 17/50 VAL: 100%|██████████| 46/46 [00:00<00:00, 534.60it/s]\n"
     ]
    },
    {
     "name": "stdout",
     "output_type": "stream",
     "text": [
      "VAL TASK LOSS: 0.3053\n"
     ]
    },
    {
     "name": "stderr",
     "output_type": "stream",
     "text": [
      "Epoch 18/50 TRN: 100%|██████████| 369/369 [00:02<00:00, 130.75it/s]\n"
     ]
    },
    {
     "name": "stdout",
     "output_type": "stream",
     "text": [
      "TRN TASK LOSS: 0.1002\n"
     ]
    },
    {
     "name": "stderr",
     "output_type": "stream",
     "text": [
      "Epoch 18/50 VAL: 100%|██████████| 46/46 [00:00<00:00, 412.58it/s]\n"
     ]
    },
    {
     "name": "stdout",
     "output_type": "stream",
     "text": [
      "VAL TASK LOSS: 0.3008\n"
     ]
    },
    {
     "name": "stderr",
     "output_type": "stream",
     "text": [
      "Epoch 19/50 TRN: 100%|██████████| 369/369 [00:02<00:00, 126.04it/s]\n"
     ]
    },
    {
     "name": "stdout",
     "output_type": "stream",
     "text": [
      "TRN TASK LOSS: 0.1017\n"
     ]
    },
    {
     "name": "stderr",
     "output_type": "stream",
     "text": [
      "Epoch 19/50 VAL: 100%|██████████| 46/46 [00:00<00:00, 521.04it/s]\n"
     ]
    },
    {
     "name": "stdout",
     "output_type": "stream",
     "text": [
      "VAL TASK LOSS: 0.2952\n"
     ]
    },
    {
     "name": "stderr",
     "output_type": "stream",
     "text": [
      "Epoch 20/50 TRN: 100%|██████████| 369/369 [00:03<00:00, 122.92it/s]\n"
     ]
    },
    {
     "name": "stdout",
     "output_type": "stream",
     "text": [
      "TRN TASK LOSS: 0.0975\n"
     ]
    },
    {
     "name": "stderr",
     "output_type": "stream",
     "text": [
      "Epoch 20/50 VAL: 100%|██████████| 46/46 [00:00<00:00, 444.55it/s]\n"
     ]
    },
    {
     "name": "stdout",
     "output_type": "stream",
     "text": [
      "VAL TASK LOSS: 0.2906\n",
      "EPOCH 21 START ---->>>>\n"
     ]
    },
    {
     "name": "stderr",
     "output_type": "stream",
     "text": [
      "Epoch 21/50 TRN: 100%|██████████| 369/369 [00:02<00:00, 126.09it/s]\n"
     ]
    },
    {
     "name": "stdout",
     "output_type": "stream",
     "text": [
      "TRN TASK LOSS: 0.1002\n"
     ]
    },
    {
     "name": "stderr",
     "output_type": "stream",
     "text": [
      "Epoch 21/50 VAL: 100%|██████████| 46/46 [00:00<00:00, 461.16it/s]\n"
     ]
    },
    {
     "name": "stdout",
     "output_type": "stream",
     "text": [
      "VAL TASK LOSS: 0.2853\n"
     ]
    },
    {
     "name": "stderr",
     "output_type": "stream",
     "text": [
      "Epoch 22/50 TRN: 100%|██████████| 369/369 [00:02<00:00, 142.34it/s]\n"
     ]
    },
    {
     "name": "stdout",
     "output_type": "stream",
     "text": [
      "TRN TASK LOSS: 0.0997\n"
     ]
    },
    {
     "name": "stderr",
     "output_type": "stream",
     "text": [
      "Epoch 22/50 VAL: 100%|██████████| 46/46 [00:00<00:00, 503.49it/s]\n"
     ]
    },
    {
     "name": "stdout",
     "output_type": "stream",
     "text": [
      "VAL TASK LOSS: 0.2824\n"
     ]
    },
    {
     "name": "stderr",
     "output_type": "stream",
     "text": [
      "Epoch 23/50 TRN: 100%|██████████| 369/369 [00:02<00:00, 137.62it/s]\n"
     ]
    },
    {
     "name": "stdout",
     "output_type": "stream",
     "text": [
      "TRN TASK LOSS: 0.0996\n"
     ]
    },
    {
     "name": "stderr",
     "output_type": "stream",
     "text": [
      "Epoch 23/50 VAL: 100%|██████████| 46/46 [00:00<00:00, 455.25it/s]\n"
     ]
    },
    {
     "name": "stdout",
     "output_type": "stream",
     "text": [
      "VAL TASK LOSS: 0.2909\n"
     ]
    },
    {
     "name": "stderr",
     "output_type": "stream",
     "text": [
      "Epoch 24/50 TRN: 100%|██████████| 369/369 [00:02<00:00, 139.72it/s]\n"
     ]
    },
    {
     "name": "stdout",
     "output_type": "stream",
     "text": [
      "TRN TASK LOSS: 0.1006\n"
     ]
    },
    {
     "name": "stderr",
     "output_type": "stream",
     "text": [
      "Epoch 24/50 VAL: 100%|██████████| 46/46 [00:00<00:00, 500.36it/s]\n"
     ]
    },
    {
     "name": "stdout",
     "output_type": "stream",
     "text": [
      "VAL TASK LOSS: 0.2919\n"
     ]
    },
    {
     "name": "stderr",
     "output_type": "stream",
     "text": [
      "Epoch 25/50 TRN: 100%|██████████| 369/369 [00:02<00:00, 135.77it/s]\n"
     ]
    },
    {
     "name": "stdout",
     "output_type": "stream",
     "text": [
      "TRN TASK LOSS: 0.1009\n"
     ]
    },
    {
     "name": "stderr",
     "output_type": "stream",
     "text": [
      "Epoch 25/50 VAL: 100%|██████████| 46/46 [00:00<00:00, 565.28it/s]\n"
     ]
    },
    {
     "name": "stdout",
     "output_type": "stream",
     "text": [
      "VAL TASK LOSS: 0.2941\n"
     ]
    },
    {
     "name": "stderr",
     "output_type": "stream",
     "text": [
      "Epoch 26/50 TRN: 100%|██████████| 369/369 [00:02<00:00, 141.16it/s]\n"
     ]
    },
    {
     "name": "stdout",
     "output_type": "stream",
     "text": [
      "TRN TASK LOSS: 0.0992\n"
     ]
    },
    {
     "name": "stderr",
     "output_type": "stream",
     "text": [
      "Epoch 26/50 VAL: 100%|██████████| 46/46 [00:00<00:00, 450.50it/s]\n"
     ]
    },
    {
     "name": "stdout",
     "output_type": "stream",
     "text": [
      "VAL TASK LOSS: 0.2938\n"
     ]
    },
    {
     "name": "stderr",
     "output_type": "stream",
     "text": [
      "Epoch 27/50 TRN: 100%|██████████| 369/369 [00:02<00:00, 136.28it/s]\n"
     ]
    },
    {
     "name": "stdout",
     "output_type": "stream",
     "text": [
      "TRN TASK LOSS: 0.0984\n"
     ]
    },
    {
     "name": "stderr",
     "output_type": "stream",
     "text": [
      "Epoch 27/50 VAL: 100%|██████████| 46/46 [00:00<00:00, 501.89it/s]\n"
     ]
    },
    {
     "name": "stdout",
     "output_type": "stream",
     "text": [
      "VAL TASK LOSS: 0.2871\n"
     ]
    },
    {
     "name": "stderr",
     "output_type": "stream",
     "text": [
      "Epoch 28/50 TRN: 100%|██████████| 369/369 [00:02<00:00, 126.41it/s]\n"
     ]
    },
    {
     "name": "stdout",
     "output_type": "stream",
     "text": [
      "TRN TASK LOSS: 0.0974\n"
     ]
    },
    {
     "name": "stderr",
     "output_type": "stream",
     "text": [
      "Epoch 28/50 VAL: 100%|██████████| 46/46 [00:00<00:00, 472.57it/s]\n"
     ]
    },
    {
     "name": "stdout",
     "output_type": "stream",
     "text": [
      "VAL TASK LOSS: 0.2851\n"
     ]
    },
    {
     "name": "stderr",
     "output_type": "stream",
     "text": [
      "Epoch 29/50 TRN: 100%|██████████| 369/369 [00:02<00:00, 126.51it/s]\n"
     ]
    },
    {
     "name": "stdout",
     "output_type": "stream",
     "text": [
      "TRN TASK LOSS: 0.0994\n"
     ]
    },
    {
     "name": "stderr",
     "output_type": "stream",
     "text": [
      "Epoch 29/50 VAL: 100%|██████████| 46/46 [00:00<00:00, 465.73it/s]\n"
     ]
    },
    {
     "name": "stdout",
     "output_type": "stream",
     "text": [
      "VAL TASK LOSS: 0.3187\n"
     ]
    },
    {
     "name": "stderr",
     "output_type": "stream",
     "text": [
      "Epoch 30/50 TRN: 100%|██████████| 369/369 [00:02<00:00, 143.56it/s]\n"
     ]
    },
    {
     "name": "stdout",
     "output_type": "stream",
     "text": [
      "TRN TASK LOSS: 0.0989\n"
     ]
    },
    {
     "name": "stderr",
     "output_type": "stream",
     "text": [
      "Epoch 30/50 VAL: 100%|██████████| 46/46 [00:00<00:00, 471.40it/s]\n"
     ]
    },
    {
     "name": "stdout",
     "output_type": "stream",
     "text": [
      "VAL TASK LOSS: 0.2808\n",
      "EPOCH 31 START ---->>>>\n"
     ]
    },
    {
     "name": "stderr",
     "output_type": "stream",
     "text": [
      "Epoch 31/50 TRN: 100%|██████████| 369/369 [00:02<00:00, 142.97it/s]\n"
     ]
    },
    {
     "name": "stdout",
     "output_type": "stream",
     "text": [
      "TRN TASK LOSS: 0.0982\n"
     ]
    },
    {
     "name": "stderr",
     "output_type": "stream",
     "text": [
      "Epoch 31/50 VAL: 100%|██████████| 46/46 [00:00<00:00, 518.11it/s]\n"
     ]
    },
    {
     "name": "stdout",
     "output_type": "stream",
     "text": [
      "VAL TASK LOSS: 0.2970\n"
     ]
    },
    {
     "name": "stderr",
     "output_type": "stream",
     "text": [
      "Epoch 32/50 TRN: 100%|██████████| 369/369 [00:02<00:00, 138.50it/s]\n"
     ]
    },
    {
     "name": "stdout",
     "output_type": "stream",
     "text": [
      "TRN TASK LOSS: 0.1021\n"
     ]
    },
    {
     "name": "stderr",
     "output_type": "stream",
     "text": [
      "Epoch 32/50 VAL: 100%|██████████| 46/46 [00:00<00:00, 459.25it/s]\n"
     ]
    },
    {
     "name": "stdout",
     "output_type": "stream",
     "text": [
      "VAL TASK LOSS: 0.3101\n"
     ]
    },
    {
     "name": "stderr",
     "output_type": "stream",
     "text": [
      "Epoch 33/50 TRN: 100%|██████████| 369/369 [00:02<00:00, 141.30it/s]\n"
     ]
    },
    {
     "name": "stdout",
     "output_type": "stream",
     "text": [
      "TRN TASK LOSS: 0.0979\n"
     ]
    },
    {
     "name": "stderr",
     "output_type": "stream",
     "text": [
      "Epoch 33/50 VAL: 100%|██████████| 46/46 [00:00<00:00, 533.84it/s]\n"
     ]
    },
    {
     "name": "stdout",
     "output_type": "stream",
     "text": [
      "VAL TASK LOSS: 0.3017\n"
     ]
    },
    {
     "name": "stderr",
     "output_type": "stream",
     "text": [
      "Epoch 34/50 TRN: 100%|██████████| 369/369 [00:02<00:00, 133.98it/s]\n"
     ]
    },
    {
     "name": "stdout",
     "output_type": "stream",
     "text": [
      "TRN TASK LOSS: 0.0986\n"
     ]
    },
    {
     "name": "stderr",
     "output_type": "stream",
     "text": [
      "Epoch 34/50 VAL: 100%|██████████| 46/46 [00:00<00:00, 452.43it/s]\n"
     ]
    },
    {
     "name": "stdout",
     "output_type": "stream",
     "text": [
      "VAL TASK LOSS: 0.2838\n"
     ]
    },
    {
     "name": "stderr",
     "output_type": "stream",
     "text": [
      "Epoch 35/50 TRN: 100%|██████████| 369/369 [00:02<00:00, 140.52it/s]\n"
     ]
    },
    {
     "name": "stdout",
     "output_type": "stream",
     "text": [
      "TRN TASK LOSS: 0.0963\n"
     ]
    },
    {
     "name": "stderr",
     "output_type": "stream",
     "text": [
      "Epoch 35/50 VAL: 100%|██████████| 46/46 [00:00<00:00, 460.54it/s]\n"
     ]
    },
    {
     "name": "stdout",
     "output_type": "stream",
     "text": [
      "VAL TASK LOSS: 0.3018\n"
     ]
    },
    {
     "name": "stderr",
     "output_type": "stream",
     "text": [
      "Epoch 36/50 TRN: 100%|██████████| 369/369 [00:02<00:00, 144.52it/s]\n"
     ]
    },
    {
     "name": "stdout",
     "output_type": "stream",
     "text": [
      "TRN TASK LOSS: 0.0960\n"
     ]
    },
    {
     "name": "stderr",
     "output_type": "stream",
     "text": [
      "Epoch 36/50 VAL: 100%|██████████| 46/46 [00:00<00:00, 468.94it/s]\n"
     ]
    },
    {
     "name": "stdout",
     "output_type": "stream",
     "text": [
      "VAL TASK LOSS: 0.3175\n"
     ]
    },
    {
     "name": "stderr",
     "output_type": "stream",
     "text": [
      "Epoch 37/50 TRN: 100%|██████████| 369/369 [00:02<00:00, 145.67it/s]\n"
     ]
    },
    {
     "name": "stdout",
     "output_type": "stream",
     "text": [
      "TRN TASK LOSS: 0.0954\n"
     ]
    },
    {
     "name": "stderr",
     "output_type": "stream",
     "text": [
      "Epoch 37/50 VAL: 100%|██████████| 46/46 [00:00<00:00, 444.11it/s]\n"
     ]
    },
    {
     "name": "stdout",
     "output_type": "stream",
     "text": [
      "VAL TASK LOSS: 0.2975\n"
     ]
    },
    {
     "name": "stderr",
     "output_type": "stream",
     "text": [
      "Epoch 38/50 TRN: 100%|██████████| 369/369 [00:02<00:00, 139.17it/s]\n"
     ]
    },
    {
     "name": "stdout",
     "output_type": "stream",
     "text": [
      "TRN TASK LOSS: 0.0983\n"
     ]
    },
    {
     "name": "stderr",
     "output_type": "stream",
     "text": [
      "Epoch 38/50 VAL: 100%|██████████| 46/46 [00:00<00:00, 460.37it/s]\n"
     ]
    },
    {
     "name": "stdout",
     "output_type": "stream",
     "text": [
      "VAL TASK LOSS: 0.2887\n"
     ]
    },
    {
     "name": "stderr",
     "output_type": "stream",
     "text": [
      "Epoch 39/50 TRN: 100%|██████████| 369/369 [00:02<00:00, 126.71it/s]\n"
     ]
    },
    {
     "name": "stdout",
     "output_type": "stream",
     "text": [
      "TRN TASK LOSS: 0.1000\n"
     ]
    },
    {
     "name": "stderr",
     "output_type": "stream",
     "text": [
      "Epoch 39/50 VAL: 100%|██████████| 46/46 [00:00<00:00, 467.69it/s]\n"
     ]
    },
    {
     "name": "stdout",
     "output_type": "stream",
     "text": [
      "VAL TASK LOSS: 0.3003\n"
     ]
    },
    {
     "name": "stderr",
     "output_type": "stream",
     "text": [
      "Epoch 40/50 TRN: 100%|██████████| 369/369 [00:02<00:00, 125.90it/s]\n"
     ]
    },
    {
     "name": "stdout",
     "output_type": "stream",
     "text": [
      "TRN TASK LOSS: 0.0963\n"
     ]
    },
    {
     "name": "stderr",
     "output_type": "stream",
     "text": [
      "Epoch 40/50 VAL: 100%|██████████| 46/46 [00:00<00:00, 444.36it/s]\n"
     ]
    },
    {
     "name": "stdout",
     "output_type": "stream",
     "text": [
      "VAL TASK LOSS: 0.2991\n",
      "EPOCH 41 START ---->>>>\n"
     ]
    },
    {
     "name": "stderr",
     "output_type": "stream",
     "text": [
      "Epoch 41/50 TRN: 100%|██████████| 369/369 [00:03<00:00, 122.79it/s]\n"
     ]
    },
    {
     "name": "stdout",
     "output_type": "stream",
     "text": [
      "TRN TASK LOSS: 0.0971\n"
     ]
    },
    {
     "name": "stderr",
     "output_type": "stream",
     "text": [
      "Epoch 41/50 VAL: 100%|██████████| 46/46 [00:00<00:00, 423.47it/s]\n"
     ]
    },
    {
     "name": "stdout",
     "output_type": "stream",
     "text": [
      "VAL TASK LOSS: 0.2908\n"
     ]
    },
    {
     "name": "stderr",
     "output_type": "stream",
     "text": [
      "Epoch 42/50 TRN: 100%|██████████| 369/369 [00:02<00:00, 127.19it/s]\n"
     ]
    },
    {
     "name": "stdout",
     "output_type": "stream",
     "text": [
      "TRN TASK LOSS: 0.0976\n"
     ]
    },
    {
     "name": "stderr",
     "output_type": "stream",
     "text": [
      "Epoch 42/50 VAL: 100%|██████████| 46/46 [00:00<00:00, 396.86it/s]\n"
     ]
    },
    {
     "name": "stdout",
     "output_type": "stream",
     "text": [
      "VAL TASK LOSS: 0.3006\n"
     ]
    },
    {
     "name": "stderr",
     "output_type": "stream",
     "text": [
      "Epoch 43/50 TRN: 100%|██████████| 369/369 [00:02<00:00, 130.38it/s]\n"
     ]
    },
    {
     "name": "stdout",
     "output_type": "stream",
     "text": [
      "TRN TASK LOSS: 0.0990\n"
     ]
    },
    {
     "name": "stderr",
     "output_type": "stream",
     "text": [
      "Epoch 43/50 VAL: 100%|██████████| 46/46 [00:00<00:00, 376.47it/s]\n"
     ]
    },
    {
     "name": "stdout",
     "output_type": "stream",
     "text": [
      "VAL TASK LOSS: 0.2829\n"
     ]
    },
    {
     "name": "stderr",
     "output_type": "stream",
     "text": [
      "Epoch 44/50 TRN: 100%|██████████| 369/369 [00:02<00:00, 126.81it/s]\n"
     ]
    },
    {
     "name": "stdout",
     "output_type": "stream",
     "text": [
      "TRN TASK LOSS: 0.0954\n"
     ]
    },
    {
     "name": "stderr",
     "output_type": "stream",
     "text": [
      "Epoch 44/50 VAL: 100%|██████████| 46/46 [00:00<00:00, 458.39it/s]\n"
     ]
    },
    {
     "name": "stdout",
     "output_type": "stream",
     "text": [
      "VAL TASK LOSS: 0.2956\n"
     ]
    },
    {
     "name": "stderr",
     "output_type": "stream",
     "text": [
      "Epoch 45/50 TRN: 100%|██████████| 369/369 [00:02<00:00, 134.02it/s]\n"
     ]
    },
    {
     "name": "stdout",
     "output_type": "stream",
     "text": [
      "TRN TASK LOSS: 0.0992\n"
     ]
    },
    {
     "name": "stderr",
     "output_type": "stream",
     "text": [
      "Epoch 45/50 VAL: 100%|██████████| 46/46 [00:00<00:00, 559.91it/s]\n"
     ]
    },
    {
     "name": "stdout",
     "output_type": "stream",
     "text": [
      "VAL TASK LOSS: 0.3086\n"
     ]
    },
    {
     "name": "stderr",
     "output_type": "stream",
     "text": [
      "Epoch 46/50 TRN: 100%|██████████| 369/369 [00:02<00:00, 134.17it/s]\n"
     ]
    },
    {
     "name": "stdout",
     "output_type": "stream",
     "text": [
      "TRN TASK LOSS: 0.0947\n"
     ]
    },
    {
     "name": "stderr",
     "output_type": "stream",
     "text": [
      "Epoch 46/50 VAL: 100%|██████████| 46/46 [00:00<00:00, 453.28it/s]\n"
     ]
    },
    {
     "name": "stdout",
     "output_type": "stream",
     "text": [
      "VAL TASK LOSS: 0.2893\n"
     ]
    },
    {
     "name": "stderr",
     "output_type": "stream",
     "text": [
      "Epoch 47/50 TRN: 100%|██████████| 369/369 [00:02<00:00, 136.45it/s]\n"
     ]
    },
    {
     "name": "stdout",
     "output_type": "stream",
     "text": [
      "TRN TASK LOSS: 0.0941\n"
     ]
    },
    {
     "name": "stderr",
     "output_type": "stream",
     "text": [
      "Epoch 47/50 VAL: 100%|██████████| 46/46 [00:00<00:00, 459.50it/s]\n"
     ]
    },
    {
     "name": "stdout",
     "output_type": "stream",
     "text": [
      "VAL TASK LOSS: 0.2898\n"
     ]
    },
    {
     "name": "stderr",
     "output_type": "stream",
     "text": [
      "Epoch 48/50 TRN: 100%|██████████| 369/369 [00:02<00:00, 137.67it/s]\n"
     ]
    },
    {
     "name": "stdout",
     "output_type": "stream",
     "text": [
      "TRN TASK LOSS: 0.0980\n"
     ]
    },
    {
     "name": "stderr",
     "output_type": "stream",
     "text": [
      "Epoch 48/50 VAL: 100%|██████████| 46/46 [00:00<00:00, 481.17it/s]\n"
     ]
    },
    {
     "name": "stdout",
     "output_type": "stream",
     "text": [
      "VAL TASK LOSS: 0.2862\n"
     ]
    },
    {
     "name": "stderr",
     "output_type": "stream",
     "text": [
      "Epoch 49/50 TRN: 100%|██████████| 369/369 [00:02<00:00, 134.51it/s]\n"
     ]
    },
    {
     "name": "stdout",
     "output_type": "stream",
     "text": [
      "TRN TASK LOSS: 0.0967\n"
     ]
    },
    {
     "name": "stderr",
     "output_type": "stream",
     "text": [
      "Epoch 49/50 VAL: 100%|██████████| 46/46 [00:00<00:00, 450.50it/s]\n"
     ]
    },
    {
     "name": "stdout",
     "output_type": "stream",
     "text": [
      "VAL TASK LOSS: 0.2848\n"
     ]
    },
    {
     "name": "stderr",
     "output_type": "stream",
     "text": [
      "Epoch 50/50 TRN: 100%|██████████| 369/369 [00:02<00:00, 130.87it/s]\n"
     ]
    },
    {
     "name": "stdout",
     "output_type": "stream",
     "text": [
      "TRN TASK LOSS: 0.0971\n"
     ]
    },
    {
     "name": "stderr",
     "output_type": "stream",
     "text": [
      "Epoch 50/50 VAL: 100%|██████████| 46/46 [00:00<00:00, 465.97it/s]"
     ]
    },
    {
     "name": "stdout",
     "output_type": "stream",
     "text": [
      "VAL TASK LOSS: 0.2860\n"
     ]
    },
    {
     "name": "stderr",
     "output_type": "stream",
     "text": [
      "\n"
     ]
    }
   ],
   "source": [
    "kwargs = dict(\n",
    "    trn_loader=trn_loader,\n",
    "    val_loader=val_loader,\n",
    "    n_epochs=N_EPOCHS,\n",
    ")\n",
    "\n",
    "history = loop.fit(**kwargs)"
   ]
  },
  {
   "cell_type": "code",
   "execution_count": 59,
   "id": "0dde1ad9",
   "metadata": {
    "execution": {
     "iopub.execute_input": "2025-04-18T00:55:21.491977Z",
     "iopub.status.busy": "2025-04-18T00:55:21.491977Z",
     "iopub.status.idle": "2025-04-18T00:55:21.585604Z",
     "shell.execute_reply": "2025-04-18T00:55:21.585604Z"
    }
   },
   "outputs": [
    {
     "data": {
      "image/png": "[encoded data removed]",
      "text/plain": [
       "<Figure size 800x500 with 1 Axes>"
      ]
     },
     "metadata": {},
     "output_type": "display_data"
    }
   ],
   "source": [
    "utils.vis.plot_loss(history, 'TASK LOSS')"
   ]
  },
  {
   "cell_type": "markdown",
   "id": "98b20720",
   "metadata": {},
   "source": [
    "# Test"
   ]
  },
  {
   "cell_type": "code",
   "execution_count": 60,
   "id": "94829794",
   "metadata": {},
   "outputs": [],
   "source": [
    "TRUE_COL_LIST = [DEFAULT_USER_COL, DEFAULT_ITEM_COL, DEFAULT_LABEL_COL]\n",
    "PRED_COL_LIST = [DEFAULT_USER_COL, DEFAULT_ITEM_COL, DEFAULT_PREDICTION_COL]"
   ]
  },
  {
   "cell_type": "markdown",
   "id": "fb3ff26f",
   "metadata": {},
   "source": [
    "### TST Data"
   ]
  },
  {
   "cell_type": "code",
   "execution_count": 61,
   "id": "5efe605c",
   "metadata": {
    "execution": {
     "iopub.execute_input": "2025-04-18T00:55:21.660121Z",
     "iopub.status.busy": "2025-04-18T00:55:21.660121Z",
     "iopub.status.idle": "2025-04-18T00:55:26.983338Z",
     "shell.execute_reply": "2025-04-18T00:55:26.983338Z"
    }
   },
   "outputs": [
    {
     "name": "stderr",
     "output_type": "stream",
     "text": [
      "TST: 100%|██████████| 6117/6117 [00:10<00:00, 559.53it/s]\n"
     ]
    }
   ],
   "source": [
    "kwargs = dict(\n",
    "    tst_loader=tst_loader,\n",
    ")\n",
    "\n",
    "result_tst = loop.predict(**kwargs)"
   ]
  },
  {
   "cell_type": "code",
   "execution_count": 62,
   "id": "b2da58cf",
   "metadata": {},
   "outputs": [
    {
     "name": "stdout",
     "output_type": "stream",
     "text": [
      "HR@5: 0.536052\n",
      "PRECISION@5: 0.117205\n",
      "RECALL@5: 0.476404\n",
      "MAP@5: 0.289178\n",
      "NDCG@5: 0.346863\n",
      "AGGDIV@5: 0.151019\n",
      "MEAN NOVELTY@5: 11.025586\n",
      "MEAN SERENDIPITY@5: 0.111984\n",
      "PERSONALIZATION@5: 0.995753\n"
     ]
    }
   ],
   "source": [
    "TOP_K = 5\n",
    "\n",
    "kwargs = dict(\n",
    "    model_name=model.model_name,\n",
    "    origin=data,\n",
    "    rating_true=result_tst[TRUE_COL_LIST],\n",
    "    rating_pred=result_tst[PRED_COL_LIST],\n",
    "    k=TOP_K,\n",
    ")\n",
    "\n",
    "eval = ranking.metrics.eval_top_k(**kwargs)"
   ]
  },
  {
   "cell_type": "code",
   "execution_count": 63,
   "id": "fd442b4d",
   "metadata": {
    "execution": {
     "iopub.execute_input": "2025-04-18T00:55:27.001029Z",
     "iopub.status.busy": "2025-04-18T00:55:27.001029Z",
     "iopub.status.idle": "2025-04-18T00:55:27.771404Z",
     "shell.execute_reply": "2025-04-18T00:55:27.771404Z"
    }
   },
   "outputs": [
    {
     "name": "stdout",
     "output_type": "stream",
     "text": [
      "HR@10: 0.696420\n",
      "PRECISION@10: 0.079960\n",
      "RECALL@10: 0.633383\n",
      "MAP@10: 0.312960\n",
      "NDCG@10: 0.399932\n",
      "AGGDIV@10: 0.086052\n",
      "MEAN NOVELTY@10: 11.269907\n",
      "MEAN SERENDIPITY@10: 0.075535\n",
      "PERSONALIZATION@10: 0.993760\n"
     ]
    }
   ],
   "source": [
    "TOP_K = 10\n",
    "\n",
    "kwargs = dict(\n",
    "    model_name=model.model_name,\n",
    "    origin=data,\n",
    "    rating_true=result_tst[TRUE_COL_LIST],\n",
    "    rating_pred=result_tst[PRED_COL_LIST],\n",
    "    k=TOP_K,\n",
    ")\n",
    "\n",
    "eval = ranking.metrics.eval_top_k(**kwargs)"
   ]
  },
  {
   "cell_type": "code",
   "execution_count": 64,
   "id": "53c5a9bb",
   "metadata": {},
   "outputs": [
    {
     "name": "stdout",
     "output_type": "stream",
     "text": [
      "HR@15: 0.781701\n",
      "PRECISION@15: 0.061644\n",
      "RECALL@15: 0.720878\n",
      "MAP@15: 0.321203\n",
      "NDCG@15: 0.424627\n",
      "AGGDIV@15: 0.058810\n",
      "MEAN NOVELTY@15: 11.428517\n",
      "MEAN SERENDIPITY@15: 0.057534\n",
      "PERSONALIZATION@15: 0.992123\n"
     ]
    }
   ],
   "source": [
    "TOP_K = 15\n",
    "\n",
    "kwargs = dict(\n",
    "    model_name=model.model_name,\n",
    "    origin=data,\n",
    "    rating_true=result_tst[TRUE_COL_LIST],\n",
    "    rating_pred=result_tst[PRED_COL_LIST],\n",
    "    k=TOP_K,\n",
    ")\n",
    "\n",
    "eval = ranking.metrics.eval_top_k(**kwargs)"
   ]
  },
  {
   "cell_type": "code",
   "execution_count": 65,
   "id": "1ecdb8be",
   "metadata": {
    "execution": {
     "iopub.execute_input": "2025-04-18T00:55:27.772624Z",
     "iopub.status.busy": "2025-04-18T00:55:27.772624Z",
     "iopub.status.idle": "2025-04-18T00:55:28.528515Z",
     "shell.execute_reply": "2025-04-18T00:55:28.528515Z"
    }
   },
   "outputs": [
    {
     "name": "stdout",
     "output_type": "stream",
     "text": [
      "HR@20: 0.832173\n",
      "PRECISION@20: 0.050597\n",
      "RECALL@20: 0.775285\n",
      "MAP@20: 0.325117\n",
      "NDCG@20: 0.438750\n",
      "AGGDIV@20: 0.044331\n",
      "MEAN NOVELTY@20: 11.548682\n",
      "MEAN SERENDIPITY@20: 0.046818\n",
      "PERSONALIZATION@20: 0.990694\n"
     ]
    }
   ],
   "source": [
    "TOP_K = 20\n",
    "\n",
    "kwargs = dict(\n",
    "    model_name=model.model_name,\n",
    "    origin=data,\n",
    "    rating_true=result_tst[TRUE_COL_LIST],\n",
    "    rating_pred=result_tst[PRED_COL_LIST],\n",
    "    k=TOP_K,\n",
    ")\n",
    "\n",
    "eval = ranking.metrics.eval_top_k(**kwargs)"
   ]
  },
  {
   "cell_type": "code",
   "execution_count": 66,
   "id": "22341098",
   "metadata": {
    "execution": {
     "iopub.execute_input": "2025-04-18T00:55:28.528515Z",
     "iopub.status.busy": "2025-04-18T00:55:28.528515Z",
     "iopub.status.idle": "2025-04-18T00:55:29.392596Z",
     "shell.execute_reply": "2025-04-18T00:55:29.392596Z"
    }
   },
   "outputs": [
    {
     "name": "stdout",
     "output_type": "stream",
     "text": [
      "HR@50: 0.956738\n",
      "PRECISION@50: 0.025266\n",
      "RECALL@50: 0.922672\n",
      "MAP@50: 0.331648\n",
      "NDCG@50: 0.471410\n",
      "AGGDIV@50: 0.017742\n",
      "MEAN NOVELTY@50: 11.930506\n",
      "MEAN SERENDIPITY@50: 0.022327\n",
      "PERSONALIZATION@50: 0.982899\n"
     ]
    }
   ],
   "source": [
    "TOP_K = 50\n",
    "\n",
    "kwargs = dict(\n",
    "    model_name=model.model_name,\n",
    "    origin=data,\n",
    "    rating_true=result_tst[TRUE_COL_LIST],\n",
    "    rating_pred=result_tst[PRED_COL_LIST],\n",
    "    k=TOP_K,\n",
    ")\n",
    "\n",
    "eval = ranking.metrics.eval_top_k(**kwargs)"
   ]
  },
  {
   "cell_type": "code",
   "execution_count": 67,
   "id": "81e207d2",
   "metadata": {
    "execution": {
     "iopub.execute_input": "2025-04-18T00:55:29.392596Z",
     "iopub.status.busy": "2025-04-18T00:55:29.392596Z",
     "iopub.status.idle": "2025-04-18T00:55:30.340823Z",
     "shell.execute_reply": "2025-04-18T00:55:30.340823Z"
    }
   },
   "outputs": [
    {
     "name": "stdout",
     "output_type": "stream",
     "text": [
      "HR@100: 1.000000\n",
      "PRECISION@100: 0.013896\n",
      "RECALL@100: 0.981617\n",
      "MAP@100: 0.333185\n",
      "NDCG@100: 0.482792\n",
      "AGGDIV@100: 0.008871\n",
      "MEAN NOVELTY@100: 12.248932\n",
      "MEAN SERENDIPITY@100: 0.011397\n",
      "PERSONALIZATION@100: 0.971640\n"
     ]
    }
   ],
   "source": [
    "TOP_K = 100\n",
    "\n",
    "kwargs = dict(\n",
    "    model_name=model.model_name,\n",
    "    origin=data,\n",
    "    rating_true=result_tst[TRUE_COL_LIST],\n",
    "    rating_pred=result_tst[PRED_COL_LIST],\n",
    "    k=TOP_K,\n",
    ")\n",
    "\n",
    "eval = ranking.metrics.eval_top_k(**kwargs)"
   ]
  },
  {
   "cell_type": "markdown",
   "id": "bb93caed",
   "metadata": {},
   "source": [
    "### Leave-One-Out Data"
   ]
  },
  {
   "cell_type": "code",
   "execution_count": 68,
   "id": "c217c21e",
   "metadata": {
    "execution": {
     "iopub.execute_input": "2025-04-18T00:55:30.605059Z",
     "iopub.status.busy": "2025-04-18T00:55:30.603017Z",
     "iopub.status.idle": "2025-04-18T00:55:36.046512Z",
     "shell.execute_reply": "2025-04-18T00:55:36.046512Z"
    }
   },
   "outputs": [
    {
     "name": "stderr",
     "output_type": "stream",
     "text": [
      "TST: 100%|██████████| 5541/5541 [00:08<00:00, 619.21it/s]\n"
     ]
    }
   ],
   "source": [
    "kwargs = dict(\n",
    "    tst_loader=loo_loader,\n",
    ")\n",
    "\n",
    "result_loo = loop.predict(**kwargs)"
   ]
  },
  {
   "cell_type": "code",
   "execution_count": 69,
   "id": "3a958020",
   "metadata": {},
   "outputs": [
    {
     "name": "stdout",
     "output_type": "stream",
     "text": [
      "HR@5: 0.483848\n",
      "PRECISION@5: 0.096770\n",
      "RECALL@5: 0.483848\n",
      "MAP@5: 0.293371\n",
      "NDCG@5: 0.340618\n",
      "AGGDIV@5: 0.117199\n",
      "MEAN NOVELTY@5: 11.090682\n",
      "MEAN SERENDIPITY@5: 0.093304\n",
      "PERSONALIZATION@5: 0.995961\n"
     ]
    }
   ],
   "source": [
    "TOP_K = 5\n",
    "\n",
    "kwargs = dict(\n",
    "    model_name=model.model_name,\n",
    "    origin=data,\n",
    "    rating_true=result_loo[TRUE_COL_LIST],\n",
    "    rating_pred=result_loo[PRED_COL_LIST],\n",
    "    k=TOP_K,\n",
    ")\n",
    "\n",
    "eval = ranking.metrics.eval_top_k(**kwargs)"
   ]
  },
  {
   "cell_type": "code",
   "execution_count": 70,
   "id": "565fb522",
   "metadata": {
    "execution": {
     "iopub.execute_input": "2025-04-18T00:55:36.046512Z",
     "iopub.status.busy": "2025-04-18T00:55:36.046512Z",
     "iopub.status.idle": "2025-04-18T00:55:36.710571Z",
     "shell.execute_reply": "2025-04-18T00:55:36.710571Z"
    }
   },
   "outputs": [
    {
     "name": "stdout",
     "output_type": "stream",
     "text": [
      "HR@10: 0.654395\n",
      "PRECISION@10: 0.065439\n",
      "RECALL@10: 0.654395\n",
      "MAP@10: 0.316284\n",
      "NDCG@10: 0.395920\n",
      "AGGDIV@10: 0.063743\n",
      "MEAN NOVELTY@10: 11.336982\n",
      "MEAN SERENDIPITY@10: 0.062389\n",
      "PERSONALIZATION@10: 0.994071\n"
     ]
    }
   ],
   "source": [
    "TOP_K = 10\n",
    "\n",
    "kwargs = dict(\n",
    "    model_name=model.model_name,\n",
    "    origin=data,\n",
    "    rating_true=result_loo[TRUE_COL_LIST],\n",
    "    rating_pred=result_loo[PRED_COL_LIST],\n",
    "    k=TOP_K,\n",
    ")\n",
    "\n",
    "eval = ranking.metrics.eval_top_k(**kwargs)"
   ]
  },
  {
   "cell_type": "code",
   "execution_count": 71,
   "id": "d2bced2b",
   "metadata": {},
   "outputs": [
    {
     "name": "stdout",
     "output_type": "stream",
     "text": [
      "HR@15: 0.740119\n",
      "PRECISION@15: 0.049341\n",
      "RECALL@15: 0.740119\n",
      "MAP@15: 0.323042\n",
      "NDCG@15: 0.418613\n",
      "AGGDIV@15: 0.042868\n",
      "MEAN NOVELTY@15: 11.499716\n",
      "MEAN SERENDIPITY@15: 0.046430\n",
      "PERSONALIZATION@15: 0.992510\n"
     ]
    }
   ],
   "source": [
    "TOP_K = 15\n",
    "\n",
    "kwargs = dict(\n",
    "    model_name=model.model_name,\n",
    "    origin=data,\n",
    "    rating_true=result_loo[TRUE_COL_LIST],\n",
    "    rating_pred=result_loo[PRED_COL_LIST],\n",
    "    k=TOP_K,\n",
    ")\n",
    "\n",
    "eval = ranking.metrics.eval_top_k(**kwargs)"
   ]
  },
  {
   "cell_type": "code",
   "execution_count": 72,
   "id": "9b9f85ee",
   "metadata": {},
   "outputs": [
    {
     "name": "stdout",
     "output_type": "stream",
     "text": [
      "HR@20: 0.800938\n",
      "PRECISION@20: 0.040047\n",
      "RECALL@20: 0.800938\n",
      "MAP@20: 0.326474\n",
      "NDCG@20: 0.432997\n",
      "AGGDIV@20: 0.032196\n",
      "MEAN NOVELTY@20: 11.619774\n",
      "MEAN SERENDIPITY@20: 0.037295\n",
      "PERSONALIZATION@20: 0.991082\n"
     ]
    }
   ],
   "source": [
    "TOP_K = 20\n",
    "\n",
    "kwargs = dict(\n",
    "    model_name=model.model_name,\n",
    "    origin=data,\n",
    "    rating_true=result_loo[TRUE_COL_LIST],\n",
    "    rating_pred=result_loo[PRED_COL_LIST],\n",
    "    k=TOP_K,\n",
    ")\n",
    "\n",
    "eval = ranking.metrics.eval_top_k(**kwargs)"
   ]
  }
 ],
 "metadata": {
  "kernelspec": {
   "display_name": "Python 3",
   "language": "python",
   "name": "python3"
  },
  "language_info": {
   "codemirror_mode": {
    "name": "ipython",
    "version": 3
   },
   "file_extension": ".py",
   "mimetype": "text/x-python",
   "name": "python",
   "nbconvert_exporter": "python",
   "pygments_lexer": "ipython3",
   "version": "3.11.5"
  }
 },
 "nbformat": 4,
 "nbformat_minor": 5
}
