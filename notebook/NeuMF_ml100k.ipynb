{
 "cells": [
  {
   "cell_type": "markdown",
   "id": "613e2bd6",
   "metadata": {},
   "source": [
    "# Constants"
   ]
  },
  {
   "cell_type": "code",
   "execution_count": null,
   "id": "d60ab310",
   "metadata": {
    "execution": {
     "iopub.execute_input": "2025-04-18T00:54:03.520580Z",
     "iopub.status.busy": "2025-04-18T00:54:03.520580Z",
     "iopub.status.idle": "2025-04-18T00:54:03.527304Z",
     "shell.execute_reply": "2025-04-18T00:54:03.527304Z"
    }
   },
   "outputs": [],
   "source": [
    "WORK_DIR_PATH = \"..\"\n",
    "\n",
    "# Split\n",
    "FILTER_BY = \"user\"\n",
    "TRN_VAL_TST_RATIO = [0.8, 0.1, 0.1]\n",
    "TRN_NEG_PER_POS_RATIO = 1\n",
    "NEG_PER_POS_RATIO = [TRN_NEG_PER_POS_RATIO, TRN_NEG_PER_POS_RATIO, 100, 100]\n",
    "BATCH_SIZE = [128, 128, 1, 1]\n",
    "\n",
    "# Model\n",
    "N_FACTORS = 32\n",
    "HIDDEN = [N_FACTORS*2, N_FACTORS*2, N_FACTORS, N_FACTORS // 2]\n",
    "DROPOUT = 0.2\n",
    "MODEL_NAME = \"NeuMF\"\n",
    "\n",
    "# How to Learn\n",
    "TASK_TYPE = 'bpr'\n",
    "LEARNING_RATE = 1e-4\n",
    "LAMBDA_ = 1e-2\n",
    "\n",
    "# Fit\n",
    "N_EPOCHS = 100"
   ]
  },
  {
   "cell_type": "markdown",
   "id": "f9f08c36",
   "metadata": {},
   "source": [
    "# Config"
   ]
  },
  {
   "cell_type": "code",
   "execution_count": 2,
   "id": "45fd1993",
   "metadata": {
    "execution": {
     "iopub.execute_input": "2025-04-18T00:54:03.527304Z",
     "iopub.status.busy": "2025-04-18T00:54:03.527304Z",
     "iopub.status.idle": "2025-04-18T00:54:03.531315Z",
     "shell.execute_reply": "2025-04-18T00:54:03.531315Z"
    }
   },
   "outputs": [
    {
     "name": "stdout",
     "output_type": "stream",
     "text": [
      "DIRECTORY: c:\\Users\\jayar\\Desktop\\바탕 화면\\RESEARCH-MLP\n"
     ]
    }
   ],
   "source": [
    "import warnings\n",
    "warnings.filterwarnings(\"ignore\")\n",
    "\n",
    "import os\n",
    "os.environ[\"CUDA_LAUNCH_BLOCKING\"] = \"1\"\n",
    "os.chdir(WORK_DIR_PATH)\n",
    "print(f\"DIRECTORY: {os.getcwd()}\")"
   ]
  },
  {
   "cell_type": "code",
   "execution_count": 3,
   "id": "2f4ba2b9",
   "metadata": {
    "execution": {
     "iopub.execute_input": "2025-04-18T00:54:03.531315Z",
     "iopub.status.busy": "2025-04-18T00:54:03.531315Z",
     "iopub.status.idle": "2025-04-18T00:54:05.107842Z",
     "shell.execute_reply": "2025-04-18T00:54:05.107457Z"
    }
   },
   "outputs": [],
   "source": [
    "import pandas as pd\n",
    "import torch"
   ]
  },
  {
   "cell_type": "code",
   "execution_count": 4,
   "id": "851631e1",
   "metadata": {
    "execution": {
     "iopub.execute_input": "2025-04-18T00:54:05.108232Z",
     "iopub.status.busy": "2025-04-18T00:54:05.108232Z",
     "iopub.status.idle": "2025-04-18T00:54:05.782577Z",
     "shell.execute_reply": "2025-04-18T00:54:05.782577Z"
    }
   },
   "outputs": [],
   "source": [
    "import NeuMF\n",
    "from MYUTILS import (\n",
    "    ranking,\n",
    "    utils,\n",
    ")\n",
    "from MYUTILS.config.constants import (\n",
    "    DEFAULT_USER_COL,\n",
    "    DEFAULT_ITEM_COL,\n",
    "    DEFAULT_RATING_COL,\n",
    "    DEFAULT_LABEL_COL,\n",
    "    DEFAULT_TIMESTAMP_COL,\n",
    "    DEFAULT_PREDICTION_COL,\n",
    "    DEFAULT_K,\n",
    "    SEED,\n",
    ")"
   ]
  },
  {
   "cell_type": "code",
   "execution_count": 5,
   "id": "9a53ddac",
   "metadata": {
    "execution": {
     "iopub.execute_input": "2025-04-18T00:54:05.782577Z",
     "iopub.status.busy": "2025-04-18T00:54:05.782577Z",
     "iopub.status.idle": "2025-04-18T00:54:05.812530Z",
     "shell.execute_reply": "2025-04-18T00:54:05.812530Z"
    }
   },
   "outputs": [
    {
     "name": "stdout",
     "output_type": "stream",
     "text": [
      "SETTING ALL SEEDS TO 42...\n",
      "ALL SEEDS SET\n"
     ]
    }
   ],
   "source": [
    "# Seed\n",
    "utils.seed.reset(SEED)"
   ]
  },
  {
   "cell_type": "code",
   "execution_count": 6,
   "id": "97ae7b90",
   "metadata": {
    "execution": {
     "iopub.execute_input": "2025-04-18T00:54:05.812530Z",
     "iopub.status.busy": "2025-04-18T00:54:05.812530Z",
     "iopub.status.idle": "2025-04-18T00:54:05.816030Z",
     "shell.execute_reply": "2025-04-18T00:54:05.816030Z"
    }
   },
   "outputs": [
    {
     "name": "stdout",
     "output_type": "stream",
     "text": [
      "cuda\n"
     ]
    }
   ],
   "source": [
    "# Available GPU\n",
    "device = torch.device(\"cuda\" if torch.cuda.is_available() else \"cpu\")\n",
    "print(device)"
   ]
  },
  {
   "cell_type": "markdown",
   "id": "0b47285f",
   "metadata": {},
   "source": [
    "# Data Preparation"
   ]
  },
  {
   "cell_type": "code",
   "execution_count": 7,
   "id": "ed5d6be4",
   "metadata": {
    "execution": {
     "iopub.execute_input": "2025-04-18T00:54:05.816030Z",
     "iopub.status.busy": "2025-04-18T00:54:05.816030Z",
     "iopub.status.idle": "2025-04-18T00:54:05.838930Z",
     "shell.execute_reply": "2025-04-18T00:54:05.838930Z"
    }
   },
   "outputs": [],
   "source": [
    "# Upload Data\n",
    "DATA_NAME = \"ml-100k.csv\"\n",
    "DATA_PATH = f\"./data/{DATA_NAME}\"\n",
    "data = pd.read_csv(DATA_PATH)"
   ]
  },
  {
   "cell_type": "code",
   "execution_count": 8,
   "id": "a3d2b14e",
   "metadata": {
    "execution": {
     "iopub.execute_input": "2025-04-18T00:54:05.840436Z",
     "iopub.status.busy": "2025-04-18T00:54:05.840436Z",
     "iopub.status.idle": "2025-04-18T00:54:05.855254Z",
     "shell.execute_reply": "2025-04-18T00:54:05.855254Z"
    }
   },
   "outputs": [],
   "source": [
    "# Columns\n",
    "kwargs = dict(\n",
    "    col_user='userId', \n",
    "    col_item='movieId', \n",
    "    col_rating='rating',\n",
    "    col_timestamp='timestamp'\n",
    ")\n",
    "\n",
    "data = utils.data.rename_columns(data, **kwargs)\n",
    "\n",
    "\n",
    "# Label encoding\n",
    "kwargs = dict(\n",
    "    data=data, \n",
    "    col_user=DEFAULT_USER_COL, \n",
    "    col_item=DEFAULT_ITEM_COL,\n",
    ")\n",
    "\n",
    "data, user_label, item_label = utils.data.label_encoding(**kwargs)\n",
    "\n",
    "\n",
    "# Number of user, item\n",
    "N_USERS = data[DEFAULT_USER_COL].nunique()\n",
    "N_ITEMS = data[DEFAULT_ITEM_COL].nunique()"
   ]
  },
  {
   "cell_type": "code",
   "execution_count": 9,
   "id": "483c1f75",
   "metadata": {
    "execution": {
     "iopub.execute_input": "2025-04-18T00:54:05.855254Z",
     "iopub.status.busy": "2025-04-18T00:54:05.855254Z",
     "iopub.status.idle": "2025-04-18T00:54:05.860357Z",
     "shell.execute_reply": "2025-04-18T00:54:05.860357Z"
    }
   },
   "outputs": [
    {
     "name": "stdout",
     "output_type": "stream",
     "text": [
      "number of user: 610\n",
      "number of item: 9724\n",
      "total interaction: 100836\n",
      "interaction density: 1.7000 %\n",
      "max interaction of user: 2698\n",
      "top 10.0 % interaction of user: 400.3\n",
      "mean interaction of user: 165\n",
      "mean interaction of item: 10\n"
     ]
    }
   ],
   "source": [
    "# data Description\n",
    "utils.data.description(data)"
   ]
  },
  {
   "cell_type": "code",
   "execution_count": null,
   "id": "8c668a94",
   "metadata": {
    "execution": {
     "iopub.execute_input": "2025-04-18T00:54:05.860357Z",
     "iopub.status.busy": "2025-04-18T00:54:05.860357Z",
     "iopub.status.idle": "2025-04-18T00:54:06.931133Z",
     "shell.execute_reply": "2025-04-18T00:54:06.931133Z"
    }
   },
   "outputs": [],
   "source": [
    "kwargs = dict(\n",
    "    data=data,\n",
    "    n_users=N_USERS,\n",
    "    n_items=N_ITEMS,\n",
    "    col_user=DEFAULT_USER_COL,\n",
    "    col_item=DEFAULT_ITEM_COL,\n",
    ")\n",
    "\n",
    "dataloader = ranking.trn_val_tst.Module(**kwargs)\n",
    "\n",
    "kwargs = dict(\n",
    "    filter_by=FILTER_BY,\n",
    "    trn_val_tst_ratio=TRN_VAL_TST_RATIO,\n",
    "    neg_per_pos=NEG_PER_POS_RATIO,\n",
    "    batch_size=BATCH_SIZE,\n",
    "    seed=SEED,\n",
    "    )\n",
    "\n",
    "loaders, _ = dataloader.get(**kwargs)\n",
    "trn_loader, val_loader, tst_loader, loo_loader = loaders"
   ]
  },
  {
   "cell_type": "markdown",
   "id": "eaaa126a",
   "metadata": {},
   "source": [
    "# Modeling"
   ]
  },
  {
   "cell_type": "code",
   "execution_count": null,
   "id": "56d340e9",
   "metadata": {
    "execution": {
     "iopub.execute_input": "2025-04-18T00:54:06.931133Z",
     "iopub.status.busy": "2025-04-18T00:54:06.931133Z",
     "iopub.status.idle": "2025-04-18T00:54:07.014576Z",
     "shell.execute_reply": "2025-04-18T00:54:07.014576Z"
    }
   },
   "outputs": [],
   "source": [
    "kwargs = dict(\n",
    "    n_users=N_USERS,\n",
    "    n_items=N_ITEMS,\n",
    "    n_factors=N_FACTORS,\n",
    "    hidden=HIDDEN,\n",
    "    dropout=DROPOUT,\n",
    "    model_name=MODEL_NAME,\n",
    ")\n",
    "\n",
    "model = NeuMF.model.Module(**kwargs)"
   ]
  },
  {
   "cell_type": "code",
   "execution_count": null,
   "id": "92aec85d",
   "metadata": {
    "execution": {
     "iopub.execute_input": "2025-04-18T00:54:07.014576Z",
     "iopub.status.busy": "2025-04-18T00:54:07.014576Z",
     "iopub.status.idle": "2025-04-18T00:54:07.834168Z",
     "shell.execute_reply": "2025-04-18T00:54:07.834168Z"
    }
   },
   "outputs": [],
   "source": [
    "kwargs = dict(\n",
    "    model=model,\n",
    "    trn_neg_per_pos_ratio=TRN_NEG_PER_POS_RATIO,\n",
    "    task_type=TASK_TYPE,\n",
    "    lr=LEARNING_RATE,\n",
    "    lambda_=LAMBDA_,\n",
    ")\n",
    "\n",
    "loop = NeuMF.loop.Module(**kwargs)"
   ]
  },
  {
   "cell_type": "markdown",
   "id": "ee78f187",
   "metadata": {},
   "source": [
    "# Train"
   ]
  },
  {
   "cell_type": "code",
   "execution_count": null,
   "id": "3e4de17a",
   "metadata": {
    "execution": {
     "iopub.execute_input": "2025-04-18T00:54:07.834168Z",
     "iopub.status.busy": "2025-04-18T00:54:07.834168Z",
     "iopub.status.idle": "2025-04-18T00:55:21.491977Z",
     "shell.execute_reply": "2025-04-18T00:55:21.491977Z"
    }
   },
   "outputs": [],
   "source": [
    "kwargs = dict(\n",
    "    trn_loader=trn_loader,\n",
    "    val_loader=val_loader,\n",
    "    n_epochs=N_EPOCHS,\n",
    ")\n",
    "\n",
    "history = loop.fit(**kwargs)"
   ]
  },
  {
   "cell_type": "code",
   "execution_count": null,
   "id": "0dde1ad9",
   "metadata": {
    "execution": {
     "iopub.execute_input": "2025-04-18T00:55:21.491977Z",
     "iopub.status.busy": "2025-04-18T00:55:21.491977Z",
     "iopub.status.idle": "2025-04-18T00:55:21.585604Z",
     "shell.execute_reply": "2025-04-18T00:55:21.585604Z"
    }
   },
   "outputs": [
    {
     "data": {
      "image/png": "[encoded data removed]",
      "text/plain": [
       "<Figure size 800x500 with 1 Axes>"
      ]
     },
     "metadata": {},
     "output_type": "display_data"
    }
   ],
   "source": [
    "utils.vis.plot_loss(history, 'TASK LOSS')"
   ]
  },
  {
   "cell_type": "markdown",
   "id": "98b20720",
   "metadata": {},
   "source": [
    "# Test"
   ]
  },
  {
   "cell_type": "code",
   "execution_count": null,
   "id": "94829794",
   "metadata": {},
   "outputs": [],
   "source": [
    "TRUE_COL_LIST = [DEFAULT_USER_COL, DEFAULT_ITEM_COL, DEFAULT_LABEL_COL]\n",
    "PRED_COL_LIST = [DEFAULT_USER_COL, DEFAULT_ITEM_COL, DEFAULT_PREDICTION_COL]"
   ]
  },
  {
   "cell_type": "markdown",
   "id": "fb3ff26f",
   "metadata": {},
   "source": [
    "### TST Data"
   ]
  },
  {
   "cell_type": "code",
   "execution_count": null,
   "id": "5efe605c",
   "metadata": {
    "execution": {
     "iopub.execute_input": "2025-04-18T00:55:21.660121Z",
     "iopub.status.busy": "2025-04-18T00:55:21.660121Z",
     "iopub.status.idle": "2025-04-18T00:55:26.983338Z",
     "shell.execute_reply": "2025-04-18T00:55:26.983338Z"
    }
   },
   "outputs": [
    {
     "name": "stderr",
     "output_type": "stream",
     "text": [
      "TST: 100%|██████████| 10024/10024 [00:15<00:00, 632.40it/s]\n"
     ]
    }
   ],
   "source": [
    "kwargs = dict(\n",
    "    tst_loader=tst_loader,\n",
    ")\n",
    "\n",
    "result_tst = loop.predict(**kwargs)"
   ]
  },
  {
   "cell_type": "code",
   "execution_count": null,
   "id": "b2da58cf",
   "metadata": {},
   "outputs": [
    {
     "name": "stdout",
     "output_type": "stream",
     "text": [
      "HR@5: 0.800000\n",
      "PRECISION@5: 0.324918\n",
      "RECALL@5: 0.253442\n",
      "MAP@5: 0.173873\n",
      "NDCG@5: 0.380316\n",
      "AGGDIV@5: 0.136393\n",
      "MEAN NOVELTY@5: 9.609145\n",
      "MEAN SERENDIPITY@5: 0.286557\n",
      "PERSONALIZATION@5: 0.965512\n"
     ]
    }
   ],
   "source": [
    "TOP_K = 5\n",
    "\n",
    "kwargs = dict(\n",
    "    model_name=model.model_name,\n",
    "    origin=data,\n",
    "    rating_true=result_tst[TRUE_COL_LIST],\n",
    "    rating_pred=result_tst[PRED_COL_LIST],\n",
    "    k=TOP_K,\n",
    ")\n",
    "\n",
    "eval = ranking.metrics.eval_top_k(**kwargs)"
   ]
  },
  {
   "cell_type": "code",
   "execution_count": null,
   "id": "fd442b4d",
   "metadata": {
    "execution": {
     "iopub.execute_input": "2025-04-18T00:55:27.001029Z",
     "iopub.status.busy": "2025-04-18T00:55:27.001029Z",
     "iopub.status.idle": "2025-04-18T00:55:27.771404Z",
     "shell.execute_reply": "2025-04-18T00:55:27.771404Z"
    }
   },
   "outputs": [
    {
     "name": "stdout",
     "output_type": "stream",
     "text": [
      "HR@10: 0.908197\n",
      "PRECISION@10: 0.266557\n",
      "RECALL@10: 0.379301\n",
      "MAP@10: 0.220428\n",
      "NDCG@10: 0.405234\n",
      "AGGDIV@10: 0.132459\n",
      "MEAN NOVELTY@10: 9.973401\n",
      "MEAN SERENDIPITY@10: 0.232787\n",
      "PERSONALIZATION@10: 0.964754\n"
     ]
    }
   ],
   "source": [
    "TOP_K = 10\n",
    "\n",
    "kwargs = dict(\n",
    "    model_name=model.model_name,\n",
    "    origin=data,\n",
    "    rating_true=result_tst[TRUE_COL_LIST],\n",
    "    rating_pred=result_tst[PRED_COL_LIST],\n",
    "    k=TOP_K,\n",
    ")\n",
    "\n",
    "eval = ranking.metrics.eval_top_k(**kwargs)"
   ]
  },
  {
   "cell_type": "code",
   "execution_count": null,
   "id": "53c5a9bb",
   "metadata": {},
   "outputs": [
    {
     "name": "stdout",
     "output_type": "stream",
     "text": [
      "HR@15: 0.952459\n",
      "PRECISION@15: 0.230383\n",
      "RECALL@15: 0.465300\n",
      "MAP@15: 0.242812\n",
      "NDCG@15: 0.428183\n",
      "AGGDIV@15: 0.131366\n",
      "MEAN NOVELTY@15: 10.245131\n",
      "MEAN SERENDIPITY@15: 0.200765\n",
      "PERSONALIZATION@15: 0.964528\n"
     ]
    }
   ],
   "source": [
    "TOP_K = 15\n",
    "\n",
    "kwargs = dict(\n",
    "    model_name=model.model_name,\n",
    "    origin=data,\n",
    "    rating_true=result_tst[TRUE_COL_LIST],\n",
    "    rating_pred=result_tst[PRED_COL_LIST],\n",
    "    k=TOP_K,\n",
    ")\n",
    "\n",
    "eval = ranking.metrics.eval_top_k(**kwargs)"
   ]
  },
  {
   "cell_type": "code",
   "execution_count": null,
   "id": "1ecdb8be",
   "metadata": {
    "execution": {
     "iopub.execute_input": "2025-04-18T00:55:27.772624Z",
     "iopub.status.busy": "2025-04-18T00:55:27.772624Z",
     "iopub.status.idle": "2025-04-18T00:55:28.528515Z",
     "shell.execute_reply": "2025-04-18T00:55:28.528515Z"
    }
   },
   "outputs": [
    {
     "name": "stdout",
     "output_type": "stream",
     "text": [
      "HR@20: 0.968852\n",
      "PRECISION@20: 0.204016\n",
      "RECALL@20: 0.514522\n",
      "MAP@20: 0.255609\n",
      "NDCG@20: 0.442386\n",
      "AGGDIV@20: 0.131803\n",
      "MEAN NOVELTY@20: 10.471999\n",
      "MEAN SERENDIPITY@20: 0.176803\n",
      "PERSONALIZATION@20: 0.964320\n"
     ]
    }
   ],
   "source": [
    "TOP_K = 20\n",
    "\n",
    "kwargs = dict(\n",
    "    model_name=model.model_name,\n",
    "    origin=data,\n",
    "    rating_true=result_tst[TRUE_COL_LIST],\n",
    "    rating_pred=result_tst[PRED_COL_LIST],\n",
    "    k=TOP_K,\n",
    ")\n",
    "\n",
    "eval = ranking.metrics.eval_top_k(**kwargs)"
   ]
  },
  {
   "cell_type": "code",
   "execution_count": null,
   "id": "22341098",
   "metadata": {
    "execution": {
     "iopub.execute_input": "2025-04-18T00:55:28.528515Z",
     "iopub.status.busy": "2025-04-18T00:55:28.528515Z",
     "iopub.status.idle": "2025-04-18T00:55:29.392596Z",
     "shell.execute_reply": "2025-04-18T00:55:29.392596Z"
    }
   },
   "outputs": [
    {
     "name": "stdout",
     "output_type": "stream",
     "text": [
      "HR@50: 0.998361\n",
      "PRECISION@50: 0.130393\n",
      "RECALL@50: 0.689283\n",
      "MAP@50: 0.286049\n",
      "NDCG@50: 0.495261\n",
      "AGGDIV@50: 0.124885\n",
      "MEAN NOVELTY@50: 11.315392\n",
      "MEAN SERENDIPITY@50: 0.103311\n",
      "PERSONALIZATION@50: 0.962671\n"
     ]
    }
   ],
   "source": [
    "TOP_K = 50\n",
    "\n",
    "kwargs = dict(\n",
    "    model_name=model.model_name,\n",
    "    origin=data,\n",
    "    rating_true=result_tst[TRUE_COL_LIST],\n",
    "    rating_pred=result_tst[PRED_COL_LIST],\n",
    "    k=TOP_K,\n",
    ")\n",
    "\n",
    "eval = ranking.metrics.eval_top_k(**kwargs)"
   ]
  },
  {
   "cell_type": "code",
   "execution_count": null,
   "id": "81e207d2",
   "metadata": {
    "execution": {
     "iopub.execute_input": "2025-04-18T00:55:29.392596Z",
     "iopub.status.busy": "2025-04-18T00:55:29.392596Z",
     "iopub.status.idle": "2025-04-18T00:55:30.340823Z",
     "shell.execute_reply": "2025-04-18T00:55:30.340823Z"
    }
   },
   "outputs": [
    {
     "name": "stdout",
     "output_type": "stream",
     "text": [
      "HR@100: 1.000000\n",
      "PRECISION@100: 0.085311\n",
      "RECALL@100: 0.789129\n",
      "MAP@100: 0.299574\n",
      "NDCG@100: 0.529562\n",
      "AGGDIV@100: 0.108984\n",
      "MEAN NOVELTY@100: 12.100945\n",
      "MEAN SERENDIPITY@100: 0.062082\n",
      "PERSONALIZATION@100: 0.960202\n"
     ]
    }
   ],
   "source": [
    "TOP_K = 100\n",
    "\n",
    "kwargs = dict(\n",
    "    model_name=model.model_name,\n",
    "    origin=data,\n",
    "    rating_true=result_tst[TRUE_COL_LIST],\n",
    "    rating_pred=result_tst[PRED_COL_LIST],\n",
    "    k=TOP_K,\n",
    ")\n",
    "\n",
    "eval = ranking.metrics.eval_top_k(**kwargs)"
   ]
  },
  {
   "cell_type": "markdown",
   "id": "bb93caed",
   "metadata": {},
   "source": [
    "### Leave-One-Out Data"
   ]
  },
  {
   "cell_type": "code",
   "execution_count": null,
   "id": "c217c21e",
   "metadata": {
    "execution": {
     "iopub.execute_input": "2025-04-18T00:55:30.605059Z",
     "iopub.status.busy": "2025-04-18T00:55:30.603017Z",
     "iopub.status.idle": "2025-04-18T00:55:36.046512Z",
     "shell.execute_reply": "2025-04-18T00:55:36.046512Z"
    }
   },
   "outputs": [
    {
     "name": "stderr",
     "output_type": "stream",
     "text": [
      "TST: 100%|██████████| 610/610 [00:00<00:00, 1007.66it/s]\n"
     ]
    }
   ],
   "source": [
    "kwargs = dict(\n",
    "    tst_loader=loo_loader,\n",
    ")\n",
    "\n",
    "result_loo = loop.predict(**kwargs)"
   ]
  },
  {
   "cell_type": "code",
   "execution_count": null,
   "id": "3a958020",
   "metadata": {},
   "outputs": [
    {
     "name": "stdout",
     "output_type": "stream",
     "text": [
      "HR@5: 0.662295\n",
      "PRECISION@5: 0.132459\n",
      "RECALL@5: 0.662295\n",
      "MAP@5: 0.455656\n",
      "NDCG@5: 0.507078\n",
      "AGGDIV@5: 0.432131\n",
      "MEAN NOVELTY@5: 10.994508\n",
      "MEAN SERENDIPITY@5: 0.124918\n",
      "PERSONALIZATION@5: 0.995382\n"
     ]
    }
   ],
   "source": [
    "TOP_K = 5\n",
    "\n",
    "kwargs = dict(\n",
    "    model_name=model.model_name,\n",
    "    origin=data,\n",
    "    rating_true=result_loo[TRUE_COL_LIST],\n",
    "    rating_pred=result_loo[PRED_COL_LIST],\n",
    "    k=TOP_K,\n",
    ")\n",
    "\n",
    "eval = ranking.metrics.eval_top_k(**kwargs)"
   ]
  },
  {
   "cell_type": "code",
   "execution_count": null,
   "id": "565fb522",
   "metadata": {
    "execution": {
     "iopub.execute_input": "2025-04-18T00:55:36.046512Z",
     "iopub.status.busy": "2025-04-18T00:55:36.046512Z",
     "iopub.status.idle": "2025-04-18T00:55:36.710571Z",
     "shell.execute_reply": "2025-04-18T00:55:36.710571Z"
    }
   },
   "outputs": [
    {
     "name": "stdout",
     "output_type": "stream",
     "text": [
      "HR@10: 0.773770\n",
      "PRECISION@10: 0.077377\n",
      "RECALL@10: 0.773770\n",
      "MAP@10: 0.470783\n",
      "NDCG@10: 0.543380\n",
      "AGGDIV@10: 0.394754\n",
      "MEAN NOVELTY@10: 11.682052\n",
      "MEAN SERENDIPITY@10: 0.070984\n",
      "PERSONALIZATION@10: 0.994978\n"
     ]
    }
   ],
   "source": [
    "TOP_K = 10\n",
    "\n",
    "kwargs = dict(\n",
    "    model_name=model.model_name,\n",
    "    origin=data,\n",
    "    rating_true=result_loo[TRUE_COL_LIST],\n",
    "    rating_pred=result_loo[PRED_COL_LIST],\n",
    "    k=TOP_K,\n",
    ")\n",
    "\n",
    "eval = ranking.metrics.eval_top_k(**kwargs)"
   ]
  },
  {
   "cell_type": "code",
   "execution_count": null,
   "id": "d2bced2b",
   "metadata": {},
   "outputs": [
    {
     "name": "stdout",
     "output_type": "stream",
     "text": [
      "HR@15: 0.832787\n",
      "PRECISION@15: 0.055519\n",
      "RECALL@15: 0.832787\n",
      "MAP@15: 0.475482\n",
      "NDCG@15: 0.559063\n",
      "AGGDIV@15: 0.370710\n",
      "MEAN NOVELTY@15: 12.144478\n",
      "MEAN SERENDIPITY@15: 0.050164\n",
      "PERSONALIZATION@15: 0.994559\n"
     ]
    }
   ],
   "source": [
    "TOP_K = 15\n",
    "\n",
    "kwargs = dict(\n",
    "    model_name=model.model_name,\n",
    "    origin=data,\n",
    "    rating_true=result_loo[TRUE_COL_LIST],\n",
    "    rating_pred=result_loo[PRED_COL_LIST],\n",
    "    k=TOP_K,\n",
    ")\n",
    "\n",
    "eval = ranking.metrics.eval_top_k(**kwargs)"
   ]
  },
  {
   "cell_type": "code",
   "execution_count": null,
   "id": "9b9f85ee",
   "metadata": {},
   "outputs": [
    {
     "name": "stdout",
     "output_type": "stream",
     "text": [
      "HR@20: 0.868852\n",
      "PRECISION@20: 0.043443\n",
      "RECALL@20: 0.868852\n",
      "MAP@20: 0.477498\n",
      "NDCG@20: 0.567567\n",
      "AGGDIV@20: 0.347705\n",
      "MEAN NOVELTY@20: 12.502538\n",
      "MEAN SERENDIPITY@20: 0.038852\n",
      "PERSONALIZATION@20: 0.994203\n"
     ]
    }
   ],
   "source": [
    "TOP_K = 20\n",
    "\n",
    "kwargs = dict(\n",
    "    model_name=model.model_name,\n",
    "    origin=data,\n",
    "    rating_true=result_loo[TRUE_COL_LIST],\n",
    "    rating_pred=result_loo[PRED_COL_LIST],\n",
    "    k=TOP_K,\n",
    ")\n",
    "\n",
    "eval = ranking.metrics.eval_top_k(**kwargs)"
   ]
  }
 ],
 "metadata": {
  "kernelspec": {
   "display_name": "Python 3",
   "language": "python",
   "name": "python3"
  },
  "language_info": {
   "codemirror_mode": {
    "name": "ipython",
    "version": 3
   },
   "file_extension": ".py",
   "mimetype": "text/x-python",
   "name": "python",
   "nbconvert_exporter": "python",
   "pygments_lexer": "ipython3",
   "version": "3.11.5"
  }
 },
 "nbformat": 4,
 "nbformat_minor": 5
}
