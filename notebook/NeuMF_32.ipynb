{
 "cells": [
  {
   "cell_type": "markdown",
   "id": "613e2bd6",
   "metadata": {},
   "source": [
    "# Constants"
   ]
  },
  {
   "cell_type": "code",
   "execution_count": 1,
   "id": "d60ab310",
   "metadata": {
    "execution": {
     "iopub.execute_input": "2025-04-18T00:54:03.520580Z",
     "iopub.status.busy": "2025-04-18T00:54:03.520580Z",
     "iopub.status.idle": "2025-04-18T00:54:03.527304Z",
     "shell.execute_reply": "2025-04-18T00:54:03.527304Z"
    }
   },
   "outputs": [],
   "source": [
    "WORK_DIR_PATH = \"c:/Users/jayar/Desktop/바탕 화면/DEGREE/RESEARCH-MLP/\"\n",
    "\n",
    "# Split\n",
    "FILTER_BY = \"user\"\n",
    "TRN_VAL_TST_RATIO = [0.8, 0.1, 0.1]\n",
    "NEG_PER_POS = [1, 1, 100, 100]\n",
    "BATCH_SIZE = [128, 128, 32, 1]\n",
    "\n",
    "# Model\n",
    "N_FACTORS = 32\n",
    "HIDDEN = [N_FACTORS*4, N_FACTORS*2, N_FACTORS]\n",
    "DROPOUT = 0.2\n",
    "MODEL_NAME = \"VER_1_1.1.1\"\n",
    "\n",
    "# How to Learn\n",
    "LEARNING_RATE = 1e-4\n",
    "LAMBDA_ = 1e-2\n",
    "\n",
    "# Fit\n",
    "N_EPOCHS = 100"
   ]
  },
  {
   "cell_type": "markdown",
   "id": "f9f08c36",
   "metadata": {},
   "source": [
    "# Config"
   ]
  },
  {
   "cell_type": "code",
   "execution_count": 2,
   "id": "45fd1993",
   "metadata": {
    "execution": {
     "iopub.execute_input": "2025-04-18T00:54:03.527304Z",
     "iopub.status.busy": "2025-04-18T00:54:03.527304Z",
     "iopub.status.idle": "2025-04-18T00:54:03.531315Z",
     "shell.execute_reply": "2025-04-18T00:54:03.531315Z"
    }
   },
   "outputs": [
    {
     "name": "stdout",
     "output_type": "stream",
     "text": [
      "DIRECTORY: c:\\Users\\jayar\\Desktop\\바탕 화면\\DEGREE\\RESEARCH-MLP\n"
     ]
    }
   ],
   "source": [
    "import warnings\n",
    "warnings.filterwarnings(\"ignore\")\n",
    "\n",
    "import os\n",
    "os.environ[\"CUDA_LAUNCH_BLOCKING\"] = \"1\"\n",
    "os.chdir(WORK_DIR_PATH)\n",
    "print(f\"DIRECTORY: {os.getcwd()}\")"
   ]
  },
  {
   "cell_type": "code",
   "execution_count": 3,
   "id": "2f4ba2b9",
   "metadata": {
    "execution": {
     "iopub.execute_input": "2025-04-18T00:54:03.531315Z",
     "iopub.status.busy": "2025-04-18T00:54:03.531315Z",
     "iopub.status.idle": "2025-04-18T00:54:05.107842Z",
     "shell.execute_reply": "2025-04-18T00:54:05.107457Z"
    }
   },
   "outputs": [],
   "source": [
    "import pandas as pd\n",
    "import torch"
   ]
  },
  {
   "cell_type": "code",
   "execution_count": 4,
   "id": "851631e1",
   "metadata": {
    "execution": {
     "iopub.execute_input": "2025-04-18T00:54:05.108232Z",
     "iopub.status.busy": "2025-04-18T00:54:05.108232Z",
     "iopub.status.idle": "2025-04-18T00:54:05.782577Z",
     "shell.execute_reply": "2025-04-18T00:54:05.782577Z"
    }
   },
   "outputs": [],
   "source": [
    "from models import NeuMF\n",
    "from MYUTILS import (\n",
    "    msr,\n",
    "    ranking,\n",
    "    et_cetera,\n",
    ")\n",
    "from MYUTILS.config.constants import (\n",
    "    DEFAULT_USER_COL,\n",
    "    DEFAULT_ITEM_COL,\n",
    "    DEFAULT_RATING_COL,\n",
    "    DEFAULT_LABEL_COL,\n",
    "    DEFAULT_TIMESTAMP_COL,\n",
    "    DEFAULT_PREDICTION_COL,\n",
    "    DEFAULT_K,\n",
    "    SEED,\n",
    ")"
   ]
  },
  {
   "cell_type": "code",
   "execution_count": 5,
   "id": "9a53ddac",
   "metadata": {
    "execution": {
     "iopub.execute_input": "2025-04-18T00:54:05.782577Z",
     "iopub.status.busy": "2025-04-18T00:54:05.782577Z",
     "iopub.status.idle": "2025-04-18T00:54:05.812530Z",
     "shell.execute_reply": "2025-04-18T00:54:05.812530Z"
    }
   },
   "outputs": [
    {
     "name": "stdout",
     "output_type": "stream",
     "text": [
      "SETTING ALL SEEDS TO 42...\n",
      "ALL SEEDS SET\n"
     ]
    }
   ],
   "source": [
    "# Seed\n",
    "et_cetera.seed.reset(SEED)"
   ]
  },
  {
   "cell_type": "code",
   "execution_count": 6,
   "id": "97ae7b90",
   "metadata": {
    "execution": {
     "iopub.execute_input": "2025-04-18T00:54:05.812530Z",
     "iopub.status.busy": "2025-04-18T00:54:05.812530Z",
     "iopub.status.idle": "2025-04-18T00:54:05.816030Z",
     "shell.execute_reply": "2025-04-18T00:54:05.816030Z"
    }
   },
   "outputs": [
    {
     "name": "stdout",
     "output_type": "stream",
     "text": [
      "cuda\n"
     ]
    }
   ],
   "source": [
    "# Available GPU\n",
    "device = torch.device(\"cuda\" if torch.cuda.is_available() else \"cpu\")\n",
    "print(device)"
   ]
  },
  {
   "cell_type": "markdown",
   "id": "0b47285f",
   "metadata": {},
   "source": [
    "# Data Preparation"
   ]
  },
  {
   "cell_type": "code",
   "execution_count": 7,
   "id": "ed5d6be4",
   "metadata": {
    "execution": {
     "iopub.execute_input": "2025-04-18T00:54:05.816030Z",
     "iopub.status.busy": "2025-04-18T00:54:05.816030Z",
     "iopub.status.idle": "2025-04-18T00:54:05.838930Z",
     "shell.execute_reply": "2025-04-18T00:54:05.838930Z"
    }
   },
   "outputs": [],
   "source": [
    "# Upload Data\n",
    "DATA_NAME = \"ml-100k\"\n",
    "DATA_PATH = f\"./data/{DATA_NAME}.csv\"\n",
    "data = pd.read_csv(DATA_PATH)"
   ]
  },
  {
   "cell_type": "code",
   "execution_count": 8,
   "id": "a3d2b14e",
   "metadata": {
    "execution": {
     "iopub.execute_input": "2025-04-18T00:54:05.840436Z",
     "iopub.status.busy": "2025-04-18T00:54:05.840436Z",
     "iopub.status.idle": "2025-04-18T00:54:05.855254Z",
     "shell.execute_reply": "2025-04-18T00:54:05.855254Z"
    }
   },
   "outputs": [],
   "source": [
    "# Columns\n",
    "COL_LIST = ['userId', 'movieId', 'rating', 'timestamp']\n",
    "\n",
    "RE_COL_LIST = [\n",
    "    DEFAULT_USER_COL,\n",
    "    DEFAULT_ITEM_COL,\n",
    "    DEFAULT_RATING_COL,\n",
    "    DEFAULT_TIMESTAMP_COL,\n",
    "]\n",
    "\n",
    "RENAMES = dict(zip(COL_LIST, RE_COL_LIST))\n",
    "\n",
    "data = data[COL_LIST]\n",
    "data = data.rename(columns=RENAMES)\n",
    "\n",
    "\n",
    "# Label encoding\n",
    "kwargs = dict(\n",
    "    data=data, \n",
    "    col_user=DEFAULT_USER_COL, \n",
    "    col_item=DEFAULT_ITEM_COL,\n",
    ")\n",
    "\n",
    "data, user_label, item_label = et_cetera.data.label_encoding(**kwargs)\n",
    "\n",
    "\n",
    "# Number of user, item\n",
    "N_USERS = data[DEFAULT_USER_COL].nunique()\n",
    "N_ITEMS = data[DEFAULT_ITEM_COL].nunique()\n",
    "\n",
    "\n",
    "# Select quartile users\n",
    "LOW_USER, HIGH_USER = et_cetera.data.user_interaction_quantile(data)"
   ]
  },
  {
   "cell_type": "code",
   "execution_count": 9,
   "id": "483c1f75",
   "metadata": {
    "execution": {
     "iopub.execute_input": "2025-04-18T00:54:05.855254Z",
     "iopub.status.busy": "2025-04-18T00:54:05.855254Z",
     "iopub.status.idle": "2025-04-18T00:54:05.860357Z",
     "shell.execute_reply": "2025-04-18T00:54:05.860357Z"
    }
   },
   "outputs": [
    {
     "name": "stdout",
     "output_type": "stream",
     "text": [
      "number of user: 610\n",
      "number of item: 9724\n",
      "total interaction: 100836\n",
      "mean interaction of user: 165\n",
      "mean interaction of item: 10\n",
      "interaction density: 1.7000 %\n"
     ]
    }
   ],
   "source": [
    "# data Description\n",
    "et_cetera.data.description(data)"
   ]
  },
  {
   "cell_type": "code",
   "execution_count": 10,
   "id": "8c668a94",
   "metadata": {
    "execution": {
     "iopub.execute_input": "2025-04-18T00:54:05.860357Z",
     "iopub.status.busy": "2025-04-18T00:54:05.860357Z",
     "iopub.status.idle": "2025-04-18T00:54:06.931133Z",
     "shell.execute_reply": "2025-04-18T00:54:06.931133Z"
    }
   },
   "outputs": [],
   "source": [
    "kwargs = dict(\n",
    "    data=data,\n",
    "    n_users=N_USERS,\n",
    "    n_items=N_ITEMS,\n",
    "    col_user=DEFAULT_USER_COL,\n",
    "    col_item=DEFAULT_ITEM_COL,\n",
    ")\n",
    "\n",
    "dataloader = ranking.trn_val_tst.Module(**kwargs)\n",
    "\n",
    "kwargs = dict(\n",
    "    filter_by=FILTER_BY,\n",
    "    trn_val_tst_ratio=TRN_VAL_TST_RATIO,\n",
    "    neg_per_pos=NEG_PER_POS,\n",
    "    batch_size=BATCH_SIZE,\n",
    "    seed=SEED,\n",
    "    )\n",
    "\n",
    "(trn_loader, val_loader, tst_loader, loo_loader), trn_pos_per_user = dataloader.get(**kwargs)"
   ]
  },
  {
   "cell_type": "markdown",
   "id": "eaaa126a",
   "metadata": {},
   "source": [
    "# Modeling"
   ]
  },
  {
   "cell_type": "code",
   "execution_count": 11,
   "id": "56d340e9",
   "metadata": {
    "execution": {
     "iopub.execute_input": "2025-04-18T00:54:06.931133Z",
     "iopub.status.busy": "2025-04-18T00:54:06.931133Z",
     "iopub.status.idle": "2025-04-18T00:54:07.014576Z",
     "shell.execute_reply": "2025-04-18T00:54:07.014576Z"
    }
   },
   "outputs": [],
   "source": [
    "kwargs = dict(\n",
    "    n_users=N_USERS,\n",
    "    n_items=N_ITEMS,\n",
    "    n_factors=N_FACTORS,\n",
    "    hidden=HIDDEN,\n",
    "    dropout=DROPOUT,\n",
    "    model_name=MODEL_NAME,\n",
    ")\n",
    "\n",
    "model = NeuMF.MODEL.Module(**kwargs)"
   ]
  },
  {
   "cell_type": "code",
   "execution_count": 12,
   "id": "92aec85d",
   "metadata": {
    "execution": {
     "iopub.execute_input": "2025-04-18T00:54:07.014576Z",
     "iopub.status.busy": "2025-04-18T00:54:07.014576Z",
     "iopub.status.idle": "2025-04-18T00:54:07.834168Z",
     "shell.execute_reply": "2025-04-18T00:54:07.834168Z"
    }
   },
   "outputs": [],
   "source": [
    "kwargs = dict(\n",
    "    model=model,\n",
    "    lr=LEARNING_RATE,\n",
    "    lambda_=LAMBDA_,\n",
    ")\n",
    "\n",
    "loop = NeuMF.LOOP.Module(**kwargs)"
   ]
  },
  {
   "cell_type": "markdown",
   "id": "ee78f187",
   "metadata": {},
   "source": [
    "# Train"
   ]
  },
  {
   "cell_type": "code",
   "execution_count": 13,
   "id": "3e4de17a",
   "metadata": {
    "execution": {
     "iopub.execute_input": "2025-04-18T00:54:07.834168Z",
     "iopub.status.busy": "2025-04-18T00:54:07.834168Z",
     "iopub.status.idle": "2025-04-18T00:55:21.491977Z",
     "shell.execute_reply": "2025-04-18T00:55:21.491977Z"
    }
   },
   "outputs": [
    {
     "name": "stdout",
     "output_type": "stream",
     "text": [
      "EPOCH 1 START ---->>>>\n"
     ]
    },
    {
     "name": "stderr",
     "output_type": "stream",
     "text": [
      "Epoch 1/100 TRN: 100%|██████████| 627/627 [00:02<00:00, 213.64it/s]\n"
     ]
    },
    {
     "name": "stdout",
     "output_type": "stream",
     "text": [
      "TRN TASK LOSS: 0.7124\n"
     ]
    },
    {
     "name": "stderr",
     "output_type": "stream",
     "text": [
      "Epoch 1/100 VAL: 100%|██████████| 79/79 [00:00<00:00, 761.03it/s]\n"
     ]
    },
    {
     "name": "stdout",
     "output_type": "stream",
     "text": [
      "VAL TASK LOSS: 0.7010\n"
     ]
    },
    {
     "name": "stderr",
     "output_type": "stream",
     "text": [
      "Epoch 2/100 TRN: 100%|██████████| 627/627 [00:02<00:00, 220.47it/s]\n"
     ]
    },
    {
     "name": "stdout",
     "output_type": "stream",
     "text": [
      "TRN TASK LOSS: 0.6961\n"
     ]
    },
    {
     "name": "stderr",
     "output_type": "stream",
     "text": [
      "Epoch 2/100 VAL: 100%|██████████| 79/79 [00:00<00:00, 683.50it/s]\n"
     ]
    },
    {
     "name": "stdout",
     "output_type": "stream",
     "text": [
      "VAL TASK LOSS: 0.6887\n"
     ]
    },
    {
     "name": "stderr",
     "output_type": "stream",
     "text": [
      "Epoch 3/100 TRN: 100%|██████████| 627/627 [00:03<00:00, 177.13it/s]\n"
     ]
    },
    {
     "name": "stdout",
     "output_type": "stream",
     "text": [
      "TRN TASK LOSS: 0.6857\n"
     ]
    },
    {
     "name": "stderr",
     "output_type": "stream",
     "text": [
      "Epoch 3/100 VAL: 100%|██████████| 79/79 [00:00<00:00, 552.59it/s]\n"
     ]
    },
    {
     "name": "stdout",
     "output_type": "stream",
     "text": [
      "VAL TASK LOSS: 0.6780\n"
     ]
    },
    {
     "name": "stderr",
     "output_type": "stream",
     "text": [
      "Epoch 4/100 TRN: 100%|██████████| 627/627 [00:03<00:00, 180.91it/s]\n"
     ]
    },
    {
     "name": "stdout",
     "output_type": "stream",
     "text": [
      "TRN TASK LOSS: 0.6753\n"
     ]
    },
    {
     "name": "stderr",
     "output_type": "stream",
     "text": [
      "Epoch 4/100 VAL: 100%|██████████| 79/79 [00:00<00:00, 614.61it/s]\n"
     ]
    },
    {
     "name": "stdout",
     "output_type": "stream",
     "text": [
      "VAL TASK LOSS: 0.6645\n"
     ]
    },
    {
     "name": "stderr",
     "output_type": "stream",
     "text": [
      "Epoch 5/100 TRN: 100%|██████████| 627/627 [00:03<00:00, 173.12it/s]\n"
     ]
    },
    {
     "name": "stdout",
     "output_type": "stream",
     "text": [
      "TRN TASK LOSS: 0.6627\n"
     ]
    },
    {
     "name": "stderr",
     "output_type": "stream",
     "text": [
      "Epoch 5/100 VAL: 100%|██████████| 79/79 [00:00<00:00, 487.41it/s]\n"
     ]
    },
    {
     "name": "stdout",
     "output_type": "stream",
     "text": [
      "VAL TASK LOSS: 0.6481\n"
     ]
    },
    {
     "name": "stderr",
     "output_type": "stream",
     "text": [
      "Epoch 6/100 TRN: 100%|██████████| 627/627 [00:04<00:00, 156.06it/s]\n"
     ]
    },
    {
     "name": "stdout",
     "output_type": "stream",
     "text": [
      "TRN TASK LOSS: 0.6464\n"
     ]
    },
    {
     "name": "stderr",
     "output_type": "stream",
     "text": [
      "Epoch 6/100 VAL: 100%|██████████| 79/79 [00:00<00:00, 501.94it/s]\n"
     ]
    },
    {
     "name": "stdout",
     "output_type": "stream",
     "text": [
      "VAL TASK LOSS: 0.6290\n"
     ]
    },
    {
     "name": "stderr",
     "output_type": "stream",
     "text": [
      "Epoch 7/100 TRN: 100%|██████████| 627/627 [00:04<00:00, 135.56it/s]\n"
     ]
    },
    {
     "name": "stdout",
     "output_type": "stream",
     "text": [
      "TRN TASK LOSS: 0.6273\n"
     ]
    },
    {
     "name": "stderr",
     "output_type": "stream",
     "text": [
      "Epoch 7/100 VAL: 100%|██████████| 79/79 [00:00<00:00, 492.68it/s]\n"
     ]
    },
    {
     "name": "stdout",
     "output_type": "stream",
     "text": [
      "VAL TASK LOSS: 0.6028\n"
     ]
    },
    {
     "name": "stderr",
     "output_type": "stream",
     "text": [
      "Epoch 8/100 TRN: 100%|██████████| 627/627 [00:04<00:00, 148.12it/s]\n"
     ]
    },
    {
     "name": "stdout",
     "output_type": "stream",
     "text": [
      "TRN TASK LOSS: 0.6083\n"
     ]
    },
    {
     "name": "stderr",
     "output_type": "stream",
     "text": [
      "Epoch 8/100 VAL: 100%|██████████| 79/79 [00:00<00:00, 530.66it/s]\n"
     ]
    },
    {
     "name": "stdout",
     "output_type": "stream",
     "text": [
      "VAL TASK LOSS: 0.5758\n"
     ]
    },
    {
     "name": "stderr",
     "output_type": "stream",
     "text": [
      "Epoch 9/100 TRN: 100%|██████████| 627/627 [00:03<00:00, 169.47it/s]\n"
     ]
    },
    {
     "name": "stdout",
     "output_type": "stream",
     "text": [
      "TRN TASK LOSS: 0.5899\n"
     ]
    },
    {
     "name": "stderr",
     "output_type": "stream",
     "text": [
      "Epoch 9/100 VAL: 100%|██████████| 79/79 [00:00<00:00, 529.45it/s]\n"
     ]
    },
    {
     "name": "stdout",
     "output_type": "stream",
     "text": [
      "VAL TASK LOSS: 0.5558\n"
     ]
    },
    {
     "name": "stderr",
     "output_type": "stream",
     "text": [
      "Epoch 10/100 TRN: 100%|██████████| 627/627 [00:03<00:00, 160.84it/s]\n"
     ]
    },
    {
     "name": "stdout",
     "output_type": "stream",
     "text": [
      "TRN TASK LOSS: 0.5754\n"
     ]
    },
    {
     "name": "stderr",
     "output_type": "stream",
     "text": [
      "Epoch 10/100 VAL: 100%|██████████| 79/79 [00:00<00:00, 519.36it/s]\n"
     ]
    },
    {
     "name": "stdout",
     "output_type": "stream",
     "text": [
      "VAL TASK LOSS: 0.5411\n",
      "EPOCH 11 START ---->>>>\n"
     ]
    },
    {
     "name": "stderr",
     "output_type": "stream",
     "text": [
      "Epoch 11/100 TRN: 100%|██████████| 627/627 [00:04<00:00, 139.72it/s]\n"
     ]
    },
    {
     "name": "stdout",
     "output_type": "stream",
     "text": [
      "TRN TASK LOSS: 0.5644\n"
     ]
    },
    {
     "name": "stderr",
     "output_type": "stream",
     "text": [
      "Epoch 11/100 VAL: 100%|██████████| 79/79 [00:00<00:00, 508.55it/s]\n"
     ]
    },
    {
     "name": "stdout",
     "output_type": "stream",
     "text": [
      "VAL TASK LOSS: 0.5287\n"
     ]
    },
    {
     "name": "stderr",
     "output_type": "stream",
     "text": [
      "Epoch 12/100 TRN: 100%|██████████| 627/627 [00:04<00:00, 140.26it/s]\n"
     ]
    },
    {
     "name": "stdout",
     "output_type": "stream",
     "text": [
      "TRN TASK LOSS: 0.5552\n"
     ]
    },
    {
     "name": "stderr",
     "output_type": "stream",
     "text": [
      "Epoch 12/100 VAL: 100%|██████████| 79/79 [00:00<00:00, 484.64it/s]\n"
     ]
    },
    {
     "name": "stdout",
     "output_type": "stream",
     "text": [
      "VAL TASK LOSS: 0.5169\n"
     ]
    },
    {
     "name": "stderr",
     "output_type": "stream",
     "text": [
      "Epoch 13/100 TRN: 100%|██████████| 627/627 [00:04<00:00, 152.31it/s]\n"
     ]
    },
    {
     "name": "stdout",
     "output_type": "stream",
     "text": [
      "TRN TASK LOSS: 0.5512\n"
     ]
    },
    {
     "name": "stderr",
     "output_type": "stream",
     "text": [
      "Epoch 13/100 VAL: 100%|██████████| 79/79 [00:00<00:00, 526.56it/s]\n"
     ]
    },
    {
     "name": "stdout",
     "output_type": "stream",
     "text": [
      "VAL TASK LOSS: 0.5118\n"
     ]
    },
    {
     "name": "stderr",
     "output_type": "stream",
     "text": [
      "Epoch 14/100 TRN: 100%|██████████| 627/627 [00:04<00:00, 156.59it/s]\n"
     ]
    },
    {
     "name": "stdout",
     "output_type": "stream",
     "text": [
      "TRN TASK LOSS: 0.5402\n"
     ]
    },
    {
     "name": "stderr",
     "output_type": "stream",
     "text": [
      "Epoch 14/100 VAL: 100%|██████████| 79/79 [00:00<00:00, 528.44it/s]\n"
     ]
    },
    {
     "name": "stdout",
     "output_type": "stream",
     "text": [
      "VAL TASK LOSS: 0.5028\n"
     ]
    },
    {
     "name": "stderr",
     "output_type": "stream",
     "text": [
      "Epoch 15/100 TRN: 100%|██████████| 627/627 [00:04<00:00, 145.01it/s]\n"
     ]
    },
    {
     "name": "stdout",
     "output_type": "stream",
     "text": [
      "TRN TASK LOSS: 0.5373\n"
     ]
    },
    {
     "name": "stderr",
     "output_type": "stream",
     "text": [
      "Epoch 15/100 VAL: 100%|██████████| 79/79 [00:00<00:00, 498.83it/s]\n"
     ]
    },
    {
     "name": "stdout",
     "output_type": "stream",
     "text": [
      "VAL TASK LOSS: 0.4957\n"
     ]
    },
    {
     "name": "stderr",
     "output_type": "stream",
     "text": [
      "Epoch 16/100 TRN: 100%|██████████| 627/627 [00:04<00:00, 151.03it/s]\n"
     ]
    },
    {
     "name": "stdout",
     "output_type": "stream",
     "text": [
      "TRN TASK LOSS: 0.5291\n"
     ]
    },
    {
     "name": "stderr",
     "output_type": "stream",
     "text": [
      "Epoch 16/100 VAL: 100%|██████████| 79/79 [00:00<00:00, 510.84it/s]\n"
     ]
    },
    {
     "name": "stdout",
     "output_type": "stream",
     "text": [
      "VAL TASK LOSS: 0.4862\n"
     ]
    },
    {
     "name": "stderr",
     "output_type": "stream",
     "text": [
      "Epoch 17/100 TRN: 100%|██████████| 627/627 [00:03<00:00, 162.12it/s]\n"
     ]
    },
    {
     "name": "stdout",
     "output_type": "stream",
     "text": [
      "TRN TASK LOSS: 0.5235\n"
     ]
    },
    {
     "name": "stderr",
     "output_type": "stream",
     "text": [
      "Epoch 17/100 VAL: 100%|██████████| 79/79 [00:00<00:00, 498.92it/s]\n"
     ]
    },
    {
     "name": "stdout",
     "output_type": "stream",
     "text": [
      "VAL TASK LOSS: 0.4872\n"
     ]
    },
    {
     "name": "stderr",
     "output_type": "stream",
     "text": [
      "Epoch 18/100 TRN: 100%|██████████| 627/627 [00:03<00:00, 160.68it/s]\n"
     ]
    },
    {
     "name": "stdout",
     "output_type": "stream",
     "text": [
      "TRN TASK LOSS: 0.5210\n"
     ]
    },
    {
     "name": "stderr",
     "output_type": "stream",
     "text": [
      "Epoch 18/100 VAL: 100%|██████████| 79/79 [00:00<00:00, 505.23it/s]\n"
     ]
    },
    {
     "name": "stdout",
     "output_type": "stream",
     "text": [
      "VAL TASK LOSS: 0.4832\n"
     ]
    },
    {
     "name": "stderr",
     "output_type": "stream",
     "text": [
      "Epoch 19/100 TRN: 100%|██████████| 627/627 [00:04<00:00, 148.88it/s]\n"
     ]
    },
    {
     "name": "stdout",
     "output_type": "stream",
     "text": [
      "TRN TASK LOSS: 0.5176\n"
     ]
    },
    {
     "name": "stderr",
     "output_type": "stream",
     "text": [
      "Epoch 19/100 VAL: 100%|██████████| 79/79 [00:00<00:00, 486.76it/s]\n"
     ]
    },
    {
     "name": "stdout",
     "output_type": "stream",
     "text": [
      "VAL TASK LOSS: 0.4677\n"
     ]
    },
    {
     "name": "stderr",
     "output_type": "stream",
     "text": [
      "Epoch 20/100 TRN: 100%|██████████| 627/627 [00:04<00:00, 136.47it/s]\n"
     ]
    },
    {
     "name": "stdout",
     "output_type": "stream",
     "text": [
      "TRN TASK LOSS: 0.5128\n"
     ]
    },
    {
     "name": "stderr",
     "output_type": "stream",
     "text": [
      "Epoch 20/100 VAL: 100%|██████████| 79/79 [00:00<00:00, 508.73it/s]\n"
     ]
    },
    {
     "name": "stdout",
     "output_type": "stream",
     "text": [
      "VAL TASK LOSS: 0.4678\n",
      "EPOCH 21 START ---->>>>\n"
     ]
    },
    {
     "name": "stderr",
     "output_type": "stream",
     "text": [
      "Epoch 21/100 TRN: 100%|██████████| 627/627 [00:04<00:00, 145.82it/s]\n"
     ]
    },
    {
     "name": "stdout",
     "output_type": "stream",
     "text": [
      "TRN TASK LOSS: 0.5048\n"
     ]
    },
    {
     "name": "stderr",
     "output_type": "stream",
     "text": [
      "Epoch 21/100 VAL: 100%|██████████| 79/79 [00:00<00:00, 503.58it/s]\n"
     ]
    },
    {
     "name": "stdout",
     "output_type": "stream",
     "text": [
      "VAL TASK LOSS: 0.4633\n"
     ]
    },
    {
     "name": "stderr",
     "output_type": "stream",
     "text": [
      "Epoch 22/100 TRN: 100%|██████████| 627/627 [00:03<00:00, 169.03it/s]\n"
     ]
    },
    {
     "name": "stdout",
     "output_type": "stream",
     "text": [
      "TRN TASK LOSS: 0.5006\n"
     ]
    },
    {
     "name": "stderr",
     "output_type": "stream",
     "text": [
      "Epoch 22/100 VAL: 100%|██████████| 79/79 [00:00<00:00, 533.52it/s]\n"
     ]
    },
    {
     "name": "stdout",
     "output_type": "stream",
     "text": [
      "VAL TASK LOSS: 0.4558\n"
     ]
    },
    {
     "name": "stderr",
     "output_type": "stream",
     "text": [
      "Epoch 23/100 TRN: 100%|██████████| 627/627 [00:04<00:00, 144.81it/s]\n"
     ]
    },
    {
     "name": "stdout",
     "output_type": "stream",
     "text": [
      "TRN TASK LOSS: 0.4957\n"
     ]
    },
    {
     "name": "stderr",
     "output_type": "stream",
     "text": [
      "Epoch 23/100 VAL: 100%|██████████| 79/79 [00:00<00:00, 508.69it/s]\n"
     ]
    },
    {
     "name": "stdout",
     "output_type": "stream",
     "text": [
      "VAL TASK LOSS: 0.4546\n"
     ]
    },
    {
     "name": "stderr",
     "output_type": "stream",
     "text": [
      "Epoch 24/100 TRN: 100%|██████████| 627/627 [00:04<00:00, 144.32it/s]\n"
     ]
    },
    {
     "name": "stdout",
     "output_type": "stream",
     "text": [
      "TRN TASK LOSS: 0.4871\n"
     ]
    },
    {
     "name": "stderr",
     "output_type": "stream",
     "text": [
      "Epoch 24/100 VAL: 100%|██████████| 79/79 [00:00<00:00, 435.73it/s]\n"
     ]
    },
    {
     "name": "stdout",
     "output_type": "stream",
     "text": [
      "VAL TASK LOSS: 0.4446\n"
     ]
    },
    {
     "name": "stderr",
     "output_type": "stream",
     "text": [
      "Epoch 25/100 TRN: 100%|██████████| 627/627 [00:04<00:00, 151.01it/s]\n"
     ]
    },
    {
     "name": "stdout",
     "output_type": "stream",
     "text": [
      "TRN TASK LOSS: 0.4797\n"
     ]
    },
    {
     "name": "stderr",
     "output_type": "stream",
     "text": [
      "Epoch 25/100 VAL: 100%|██████████| 79/79 [00:00<00:00, 479.97it/s]\n"
     ]
    },
    {
     "name": "stdout",
     "output_type": "stream",
     "text": [
      "VAL TASK LOSS: 0.4420\n"
     ]
    },
    {
     "name": "stderr",
     "output_type": "stream",
     "text": [
      "Epoch 26/100 TRN: 100%|██████████| 627/627 [00:04<00:00, 153.56it/s]\n"
     ]
    },
    {
     "name": "stdout",
     "output_type": "stream",
     "text": [
      "TRN TASK LOSS: 0.4762\n"
     ]
    },
    {
     "name": "stderr",
     "output_type": "stream",
     "text": [
      "Epoch 26/100 VAL: 100%|██████████| 79/79 [00:00<00:00, 498.85it/s]\n"
     ]
    },
    {
     "name": "stdout",
     "output_type": "stream",
     "text": [
      "VAL TASK LOSS: 0.4347\n"
     ]
    },
    {
     "name": "stderr",
     "output_type": "stream",
     "text": [
      "Epoch 27/100 TRN: 100%|██████████| 627/627 [00:04<00:00, 149.39it/s]\n"
     ]
    },
    {
     "name": "stdout",
     "output_type": "stream",
     "text": [
      "TRN TASK LOSS: 0.4646\n"
     ]
    },
    {
     "name": "stderr",
     "output_type": "stream",
     "text": [
      "Epoch 27/100 VAL: 100%|██████████| 79/79 [00:00<00:00, 517.35it/s]\n"
     ]
    },
    {
     "name": "stdout",
     "output_type": "stream",
     "text": [
      "VAL TASK LOSS: 0.4296\n"
     ]
    },
    {
     "name": "stderr",
     "output_type": "stream",
     "text": [
      "Epoch 28/100 TRN: 100%|██████████| 627/627 [00:04<00:00, 152.11it/s]\n"
     ]
    },
    {
     "name": "stdout",
     "output_type": "stream",
     "text": [
      "TRN TASK LOSS: 0.4600\n"
     ]
    },
    {
     "name": "stderr",
     "output_type": "stream",
     "text": [
      "Epoch 28/100 VAL: 100%|██████████| 79/79 [00:00<00:00, 510.33it/s]\n"
     ]
    },
    {
     "name": "stdout",
     "output_type": "stream",
     "text": [
      "VAL TASK LOSS: 0.4212\n"
     ]
    },
    {
     "name": "stderr",
     "output_type": "stream",
     "text": [
      "Epoch 29/100 TRN: 100%|██████████| 627/627 [00:04<00:00, 144.30it/s]\n"
     ]
    },
    {
     "name": "stdout",
     "output_type": "stream",
     "text": [
      "TRN TASK LOSS: 0.4515\n"
     ]
    },
    {
     "name": "stderr",
     "output_type": "stream",
     "text": [
      "Epoch 29/100 VAL: 100%|██████████| 79/79 [00:00<00:00, 502.75it/s]\n"
     ]
    },
    {
     "name": "stdout",
     "output_type": "stream",
     "text": [
      "VAL TASK LOSS: 0.4143\n"
     ]
    },
    {
     "name": "stderr",
     "output_type": "stream",
     "text": [
      "Epoch 30/100 TRN: 100%|██████████| 627/627 [00:04<00:00, 142.91it/s]\n"
     ]
    },
    {
     "name": "stdout",
     "output_type": "stream",
     "text": [
      "TRN TASK LOSS: 0.4441\n"
     ]
    },
    {
     "name": "stderr",
     "output_type": "stream",
     "text": [
      "Epoch 30/100 VAL: 100%|██████████| 79/79 [00:00<00:00, 513.76it/s]\n"
     ]
    },
    {
     "name": "stdout",
     "output_type": "stream",
     "text": [
      "VAL TASK LOSS: 0.4071\n",
      "EPOCH 31 START ---->>>>\n"
     ]
    },
    {
     "name": "stderr",
     "output_type": "stream",
     "text": [
      "Epoch 31/100 TRN: 100%|██████████| 627/627 [00:04<00:00, 141.44it/s]\n"
     ]
    },
    {
     "name": "stdout",
     "output_type": "stream",
     "text": [
      "TRN TASK LOSS: 0.4338\n"
     ]
    },
    {
     "name": "stderr",
     "output_type": "stream",
     "text": [
      "Epoch 31/100 VAL: 100%|██████████| 79/79 [00:00<00:00, 474.54it/s]\n"
     ]
    },
    {
     "name": "stdout",
     "output_type": "stream",
     "text": [
      "VAL TASK LOSS: 0.3995\n"
     ]
    },
    {
     "name": "stderr",
     "output_type": "stream",
     "text": [
      "Epoch 32/100 TRN: 100%|██████████| 627/627 [00:04<00:00, 142.45it/s]\n"
     ]
    },
    {
     "name": "stdout",
     "output_type": "stream",
     "text": [
      "TRN TASK LOSS: 0.4262\n"
     ]
    },
    {
     "name": "stderr",
     "output_type": "stream",
     "text": [
      "Epoch 32/100 VAL: 100%|██████████| 79/79 [00:00<00:00, 469.32it/s]\n"
     ]
    },
    {
     "name": "stdout",
     "output_type": "stream",
     "text": [
      "VAL TASK LOSS: 0.3902\n"
     ]
    },
    {
     "name": "stderr",
     "output_type": "stream",
     "text": [
      "Epoch 33/100 TRN: 100%|██████████| 627/627 [00:04<00:00, 144.80it/s]\n"
     ]
    },
    {
     "name": "stdout",
     "output_type": "stream",
     "text": [
      "TRN TASK LOSS: 0.4147\n"
     ]
    },
    {
     "name": "stderr",
     "output_type": "stream",
     "text": [
      "Epoch 33/100 VAL: 100%|██████████| 79/79 [00:00<00:00, 526.66it/s]\n"
     ]
    },
    {
     "name": "stdout",
     "output_type": "stream",
     "text": [
      "VAL TASK LOSS: 0.3849\n"
     ]
    },
    {
     "name": "stderr",
     "output_type": "stream",
     "text": [
      "Epoch 34/100 TRN: 100%|██████████| 627/627 [00:03<00:00, 157.93it/s]\n"
     ]
    },
    {
     "name": "stdout",
     "output_type": "stream",
     "text": [
      "TRN TASK LOSS: 0.4078\n"
     ]
    },
    {
     "name": "stderr",
     "output_type": "stream",
     "text": [
      "Epoch 34/100 VAL: 100%|██████████| 79/79 [00:00<00:00, 482.33it/s]\n"
     ]
    },
    {
     "name": "stdout",
     "output_type": "stream",
     "text": [
      "VAL TASK LOSS: 0.3774\n"
     ]
    },
    {
     "name": "stderr",
     "output_type": "stream",
     "text": [
      "Epoch 35/100 TRN: 100%|██████████| 627/627 [00:04<00:00, 147.53it/s]\n"
     ]
    },
    {
     "name": "stdout",
     "output_type": "stream",
     "text": [
      "TRN TASK LOSS: 0.3981\n"
     ]
    },
    {
     "name": "stderr",
     "output_type": "stream",
     "text": [
      "Epoch 35/100 VAL: 100%|██████████| 79/79 [00:00<00:00, 516.13it/s]\n"
     ]
    },
    {
     "name": "stdout",
     "output_type": "stream",
     "text": [
      "VAL TASK LOSS: 0.3700\n"
     ]
    },
    {
     "name": "stderr",
     "output_type": "stream",
     "text": [
      "Epoch 36/100 TRN: 100%|██████████| 627/627 [00:04<00:00, 148.94it/s]\n"
     ]
    },
    {
     "name": "stdout",
     "output_type": "stream",
     "text": [
      "TRN TASK LOSS: 0.3911\n"
     ]
    },
    {
     "name": "stderr",
     "output_type": "stream",
     "text": [
      "Epoch 36/100 VAL: 100%|██████████| 79/79 [00:00<00:00, 465.84it/s]\n"
     ]
    },
    {
     "name": "stdout",
     "output_type": "stream",
     "text": [
      "VAL TASK LOSS: 0.3658\n"
     ]
    },
    {
     "name": "stderr",
     "output_type": "stream",
     "text": [
      "Epoch 37/100 TRN: 100%|██████████| 627/627 [00:04<00:00, 149.31it/s]\n"
     ]
    },
    {
     "name": "stdout",
     "output_type": "stream",
     "text": [
      "TRN TASK LOSS: 0.3805\n"
     ]
    },
    {
     "name": "stderr",
     "output_type": "stream",
     "text": [
      "Epoch 37/100 VAL: 100%|██████████| 79/79 [00:00<00:00, 490.44it/s]\n"
     ]
    },
    {
     "name": "stdout",
     "output_type": "stream",
     "text": [
      "VAL TASK LOSS: 0.3612\n"
     ]
    },
    {
     "name": "stderr",
     "output_type": "stream",
     "text": [
      "Epoch 38/100 TRN: 100%|██████████| 627/627 [00:04<00:00, 155.24it/s]\n"
     ]
    },
    {
     "name": "stdout",
     "output_type": "stream",
     "text": [
      "TRN TASK LOSS: 0.3731\n"
     ]
    },
    {
     "name": "stderr",
     "output_type": "stream",
     "text": [
      "Epoch 38/100 VAL: 100%|██████████| 79/79 [00:00<00:00, 528.14it/s]\n"
     ]
    },
    {
     "name": "stdout",
     "output_type": "stream",
     "text": [
      "VAL TASK LOSS: 0.3657\n"
     ]
    },
    {
     "name": "stderr",
     "output_type": "stream",
     "text": [
      "Epoch 39/100 TRN: 100%|██████████| 627/627 [00:04<00:00, 149.29it/s]\n"
     ]
    },
    {
     "name": "stdout",
     "output_type": "stream",
     "text": [
      "TRN TASK LOSS: 0.3666\n"
     ]
    },
    {
     "name": "stderr",
     "output_type": "stream",
     "text": [
      "Epoch 39/100 VAL: 100%|██████████| 79/79 [00:00<00:00, 533.76it/s]\n"
     ]
    },
    {
     "name": "stdout",
     "output_type": "stream",
     "text": [
      "VAL TASK LOSS: 0.3503\n"
     ]
    },
    {
     "name": "stderr",
     "output_type": "stream",
     "text": [
      "Epoch 40/100 TRN: 100%|██████████| 627/627 [00:04<00:00, 148.10it/s]\n"
     ]
    },
    {
     "name": "stdout",
     "output_type": "stream",
     "text": [
      "TRN TASK LOSS: 0.3586\n"
     ]
    },
    {
     "name": "stderr",
     "output_type": "stream",
     "text": [
      "Epoch 40/100 VAL: 100%|██████████| 79/79 [00:00<00:00, 522.25it/s]\n"
     ]
    },
    {
     "name": "stdout",
     "output_type": "stream",
     "text": [
      "VAL TASK LOSS: 0.3522\n",
      "EPOCH 41 START ---->>>>\n"
     ]
    },
    {
     "name": "stderr",
     "output_type": "stream",
     "text": [
      "Epoch 41/100 TRN: 100%|██████████| 627/627 [00:04<00:00, 153.62it/s]\n"
     ]
    },
    {
     "name": "stdout",
     "output_type": "stream",
     "text": [
      "TRN TASK LOSS: 0.3528\n"
     ]
    },
    {
     "name": "stderr",
     "output_type": "stream",
     "text": [
      "Epoch 41/100 VAL: 100%|██████████| 79/79 [00:00<00:00, 471.43it/s]\n"
     ]
    },
    {
     "name": "stdout",
     "output_type": "stream",
     "text": [
      "VAL TASK LOSS: 0.3515\n"
     ]
    },
    {
     "name": "stderr",
     "output_type": "stream",
     "text": [
      "Epoch 42/100 TRN: 100%|██████████| 627/627 [00:03<00:00, 159.30it/s]\n"
     ]
    },
    {
     "name": "stdout",
     "output_type": "stream",
     "text": [
      "TRN TASK LOSS: 0.3458\n"
     ]
    },
    {
     "name": "stderr",
     "output_type": "stream",
     "text": [
      "Epoch 42/100 VAL: 100%|██████████| 79/79 [00:00<00:00, 460.84it/s]\n"
     ]
    },
    {
     "name": "stdout",
     "output_type": "stream",
     "text": [
      "VAL TASK LOSS: 0.3468\n"
     ]
    },
    {
     "name": "stderr",
     "output_type": "stream",
     "text": [
      "Epoch 43/100 TRN: 100%|██████████| 627/627 [00:04<00:00, 152.77it/s]\n"
     ]
    },
    {
     "name": "stdout",
     "output_type": "stream",
     "text": [
      "TRN TASK LOSS: 0.3423\n"
     ]
    },
    {
     "name": "stderr",
     "output_type": "stream",
     "text": [
      "Epoch 43/100 VAL: 100%|██████████| 79/79 [00:00<00:00, 519.22it/s]\n"
     ]
    },
    {
     "name": "stdout",
     "output_type": "stream",
     "text": [
      "VAL TASK LOSS: 0.3478\n"
     ]
    },
    {
     "name": "stderr",
     "output_type": "stream",
     "text": [
      "Epoch 44/100 TRN: 100%|██████████| 627/627 [00:04<00:00, 150.18it/s]\n"
     ]
    },
    {
     "name": "stdout",
     "output_type": "stream",
     "text": [
      "TRN TASK LOSS: 0.3313\n"
     ]
    },
    {
     "name": "stderr",
     "output_type": "stream",
     "text": [
      "Epoch 44/100 VAL: 100%|██████████| 79/79 [00:00<00:00, 470.76it/s]\n"
     ]
    },
    {
     "name": "stdout",
     "output_type": "stream",
     "text": [
      "VAL TASK LOSS: 0.3350\n"
     ]
    },
    {
     "name": "stderr",
     "output_type": "stream",
     "text": [
      "Epoch 45/100 TRN: 100%|██████████| 627/627 [00:04<00:00, 137.26it/s]\n"
     ]
    },
    {
     "name": "stdout",
     "output_type": "stream",
     "text": [
      "TRN TASK LOSS: 0.3236\n"
     ]
    },
    {
     "name": "stderr",
     "output_type": "stream",
     "text": [
      "Epoch 45/100 VAL: 100%|██████████| 79/79 [00:00<00:00, 482.63it/s]\n"
     ]
    },
    {
     "name": "stdout",
     "output_type": "stream",
     "text": [
      "VAL TASK LOSS: 0.3383\n"
     ]
    },
    {
     "name": "stderr",
     "output_type": "stream",
     "text": [
      "Epoch 46/100 TRN: 100%|██████████| 627/627 [00:04<00:00, 136.79it/s]\n"
     ]
    },
    {
     "name": "stdout",
     "output_type": "stream",
     "text": [
      "TRN TASK LOSS: 0.3137\n"
     ]
    },
    {
     "name": "stderr",
     "output_type": "stream",
     "text": [
      "Epoch 46/100 VAL: 100%|██████████| 79/79 [00:00<00:00, 593.31it/s]\n"
     ]
    },
    {
     "name": "stdout",
     "output_type": "stream",
     "text": [
      "VAL TASK LOSS: 0.3308\n"
     ]
    },
    {
     "name": "stderr",
     "output_type": "stream",
     "text": [
      "Epoch 47/100 TRN: 100%|██████████| 627/627 [00:03<00:00, 167.16it/s]\n"
     ]
    },
    {
     "name": "stdout",
     "output_type": "stream",
     "text": [
      "TRN TASK LOSS: 0.3028\n"
     ]
    },
    {
     "name": "stderr",
     "output_type": "stream",
     "text": [
      "Epoch 47/100 VAL: 100%|██████████| 79/79 [00:00<00:00, 532.21it/s]\n"
     ]
    },
    {
     "name": "stdout",
     "output_type": "stream",
     "text": [
      "VAL TASK LOSS: 0.3232\n"
     ]
    },
    {
     "name": "stderr",
     "output_type": "stream",
     "text": [
      "Epoch 48/100 TRN: 100%|██████████| 627/627 [00:03<00:00, 157.44it/s]\n"
     ]
    },
    {
     "name": "stdout",
     "output_type": "stream",
     "text": [
      "TRN TASK LOSS: 0.2891\n"
     ]
    },
    {
     "name": "stderr",
     "output_type": "stream",
     "text": [
      "Epoch 48/100 VAL: 100%|██████████| 79/79 [00:00<00:00, 597.43it/s]\n"
     ]
    },
    {
     "name": "stdout",
     "output_type": "stream",
     "text": [
      "VAL TASK LOSS: 0.3122\n"
     ]
    },
    {
     "name": "stderr",
     "output_type": "stream",
     "text": [
      "Epoch 49/100 TRN: 100%|██████████| 627/627 [00:04<00:00, 155.25it/s]\n"
     ]
    },
    {
     "name": "stdout",
     "output_type": "stream",
     "text": [
      "TRN TASK LOSS: 0.2764\n"
     ]
    },
    {
     "name": "stderr",
     "output_type": "stream",
     "text": [
      "Epoch 49/100 VAL: 100%|██████████| 79/79 [00:00<00:00, 601.84it/s]\n"
     ]
    },
    {
     "name": "stdout",
     "output_type": "stream",
     "text": [
      "VAL TASK LOSS: 0.3084\n"
     ]
    },
    {
     "name": "stderr",
     "output_type": "stream",
     "text": [
      "Epoch 50/100 TRN: 100%|██████████| 627/627 [00:04<00:00, 148.58it/s]\n"
     ]
    },
    {
     "name": "stdout",
     "output_type": "stream",
     "text": [
      "TRN TASK LOSS: 0.2653\n"
     ]
    },
    {
     "name": "stderr",
     "output_type": "stream",
     "text": [
      "Epoch 50/100 VAL: 100%|██████████| 79/79 [00:00<00:00, 527.86it/s]\n"
     ]
    },
    {
     "name": "stdout",
     "output_type": "stream",
     "text": [
      "VAL TASK LOSS: 0.3053\n",
      "EPOCH 51 START ---->>>>\n"
     ]
    },
    {
     "name": "stderr",
     "output_type": "stream",
     "text": [
      "Epoch 51/100 TRN: 100%|██████████| 627/627 [00:04<00:00, 146.96it/s]\n"
     ]
    },
    {
     "name": "stdout",
     "output_type": "stream",
     "text": [
      "TRN TASK LOSS: 0.2507\n"
     ]
    },
    {
     "name": "stderr",
     "output_type": "stream",
     "text": [
      "Epoch 51/100 VAL: 100%|██████████| 79/79 [00:00<00:00, 526.68it/s]\n"
     ]
    },
    {
     "name": "stdout",
     "output_type": "stream",
     "text": [
      "VAL TASK LOSS: 0.3006\n"
     ]
    },
    {
     "name": "stderr",
     "output_type": "stream",
     "text": [
      "Epoch 52/100 TRN: 100%|██████████| 627/627 [00:04<00:00, 145.14it/s]\n"
     ]
    },
    {
     "name": "stdout",
     "output_type": "stream",
     "text": [
      "TRN TASK LOSS: 0.2405\n"
     ]
    },
    {
     "name": "stderr",
     "output_type": "stream",
     "text": [
      "Epoch 52/100 VAL: 100%|██████████| 79/79 [00:00<00:00, 546.66it/s]\n"
     ]
    },
    {
     "name": "stdout",
     "output_type": "stream",
     "text": [
      "VAL TASK LOSS: 0.2979\n"
     ]
    },
    {
     "name": "stderr",
     "output_type": "stream",
     "text": [
      "Epoch 53/100 TRN: 100%|██████████| 627/627 [00:04<00:00, 149.29it/s]\n"
     ]
    },
    {
     "name": "stdout",
     "output_type": "stream",
     "text": [
      "TRN TASK LOSS: 0.2338\n"
     ]
    },
    {
     "name": "stderr",
     "output_type": "stream",
     "text": [
      "Epoch 53/100 VAL: 100%|██████████| 79/79 [00:00<00:00, 515.42it/s]\n"
     ]
    },
    {
     "name": "stdout",
     "output_type": "stream",
     "text": [
      "VAL TASK LOSS: 0.2930\n"
     ]
    },
    {
     "name": "stderr",
     "output_type": "stream",
     "text": [
      "Epoch 54/100 TRN: 100%|██████████| 627/627 [00:04<00:00, 150.04it/s]\n"
     ]
    },
    {
     "name": "stdout",
     "output_type": "stream",
     "text": [
      "TRN TASK LOSS: 0.2194\n"
     ]
    },
    {
     "name": "stderr",
     "output_type": "stream",
     "text": [
      "Epoch 54/100 VAL: 100%|██████████| 79/79 [00:00<00:00, 473.05it/s]\n"
     ]
    },
    {
     "name": "stdout",
     "output_type": "stream",
     "text": [
      "VAL TASK LOSS: 0.2888\n"
     ]
    },
    {
     "name": "stderr",
     "output_type": "stream",
     "text": [
      "Epoch 55/100 TRN: 100%|██████████| 627/627 [00:04<00:00, 152.98it/s]\n"
     ]
    },
    {
     "name": "stdout",
     "output_type": "stream",
     "text": [
      "TRN TASK LOSS: 0.2122\n"
     ]
    },
    {
     "name": "stderr",
     "output_type": "stream",
     "text": [
      "Epoch 55/100 VAL: 100%|██████████| 79/79 [00:00<00:00, 474.75it/s]\n"
     ]
    },
    {
     "name": "stdout",
     "output_type": "stream",
     "text": [
      "VAL TASK LOSS: 0.3002\n"
     ]
    },
    {
     "name": "stderr",
     "output_type": "stream",
     "text": [
      "Epoch 56/100 TRN: 100%|██████████| 627/627 [00:03<00:00, 156.98it/s]\n"
     ]
    },
    {
     "name": "stdout",
     "output_type": "stream",
     "text": [
      "TRN TASK LOSS: 0.2027\n"
     ]
    },
    {
     "name": "stderr",
     "output_type": "stream",
     "text": [
      "Epoch 56/100 VAL: 100%|██████████| 79/79 [00:00<00:00, 515.52it/s]\n"
     ]
    },
    {
     "name": "stdout",
     "output_type": "stream",
     "text": [
      "VAL TASK LOSS: 0.2879\n"
     ]
    },
    {
     "name": "stderr",
     "output_type": "stream",
     "text": [
      "Epoch 57/100 TRN: 100%|██████████| 627/627 [00:04<00:00, 154.09it/s]\n"
     ]
    },
    {
     "name": "stdout",
     "output_type": "stream",
     "text": [
      "TRN TASK LOSS: 0.1947\n"
     ]
    },
    {
     "name": "stderr",
     "output_type": "stream",
     "text": [
      "Epoch 57/100 VAL: 100%|██████████| 79/79 [00:00<00:00, 534.97it/s]\n"
     ]
    },
    {
     "name": "stdout",
     "output_type": "stream",
     "text": [
      "VAL TASK LOSS: 0.2831\n"
     ]
    },
    {
     "name": "stderr",
     "output_type": "stream",
     "text": [
      "Epoch 58/100 TRN: 100%|██████████| 627/627 [00:03<00:00, 159.35it/s]\n"
     ]
    },
    {
     "name": "stdout",
     "output_type": "stream",
     "text": [
      "TRN TASK LOSS: 0.1895\n"
     ]
    },
    {
     "name": "stderr",
     "output_type": "stream",
     "text": [
      "Epoch 58/100 VAL: 100%|██████████| 79/79 [00:00<00:00, 528.59it/s]\n"
     ]
    },
    {
     "name": "stdout",
     "output_type": "stream",
     "text": [
      "VAL TASK LOSS: 0.2848\n"
     ]
    },
    {
     "name": "stderr",
     "output_type": "stream",
     "text": [
      "Epoch 59/100 TRN: 100%|██████████| 627/627 [00:03<00:00, 159.75it/s]\n"
     ]
    },
    {
     "name": "stdout",
     "output_type": "stream",
     "text": [
      "TRN TASK LOSS: 0.1855\n"
     ]
    },
    {
     "name": "stderr",
     "output_type": "stream",
     "text": [
      "Epoch 59/100 VAL: 100%|██████████| 79/79 [00:00<00:00, 505.27it/s]\n"
     ]
    },
    {
     "name": "stdout",
     "output_type": "stream",
     "text": [
      "VAL TASK LOSS: 0.2787\n"
     ]
    },
    {
     "name": "stderr",
     "output_type": "stream",
     "text": [
      "Epoch 60/100 TRN: 100%|██████████| 627/627 [00:04<00:00, 145.81it/s]\n"
     ]
    },
    {
     "name": "stdout",
     "output_type": "stream",
     "text": [
      "TRN TASK LOSS: 0.1776\n"
     ]
    },
    {
     "name": "stderr",
     "output_type": "stream",
     "text": [
      "Epoch 60/100 VAL: 100%|██████████| 79/79 [00:00<00:00, 526.03it/s]\n"
     ]
    },
    {
     "name": "stdout",
     "output_type": "stream",
     "text": [
      "VAL TASK LOSS: 0.2784\n",
      "EPOCH 61 START ---->>>>\n"
     ]
    },
    {
     "name": "stderr",
     "output_type": "stream",
     "text": [
      "Epoch 61/100 TRN: 100%|██████████| 627/627 [00:04<00:00, 148.68it/s]\n"
     ]
    },
    {
     "name": "stdout",
     "output_type": "stream",
     "text": [
      "TRN TASK LOSS: 0.1696\n"
     ]
    },
    {
     "name": "stderr",
     "output_type": "stream",
     "text": [
      "Epoch 61/100 VAL: 100%|██████████| 79/79 [00:00<00:00, 532.13it/s]\n"
     ]
    },
    {
     "name": "stdout",
     "output_type": "stream",
     "text": [
      "VAL TASK LOSS: 0.2840\n"
     ]
    },
    {
     "name": "stderr",
     "output_type": "stream",
     "text": [
      "Epoch 62/100 TRN: 100%|██████████| 627/627 [00:04<00:00, 152.35it/s]\n"
     ]
    },
    {
     "name": "stdout",
     "output_type": "stream",
     "text": [
      "TRN TASK LOSS: 0.1700\n"
     ]
    },
    {
     "name": "stderr",
     "output_type": "stream",
     "text": [
      "Epoch 62/100 VAL: 100%|██████████| 79/79 [00:00<00:00, 592.10it/s]\n"
     ]
    },
    {
     "name": "stdout",
     "output_type": "stream",
     "text": [
      "VAL TASK LOSS: 0.2732\n"
     ]
    },
    {
     "name": "stderr",
     "output_type": "stream",
     "text": [
      "Epoch 63/100 TRN: 100%|██████████| 627/627 [00:04<00:00, 151.42it/s]\n"
     ]
    },
    {
     "name": "stdout",
     "output_type": "stream",
     "text": [
      "TRN TASK LOSS: 0.1630\n"
     ]
    },
    {
     "name": "stderr",
     "output_type": "stream",
     "text": [
      "Epoch 63/100 VAL: 100%|██████████| 79/79 [00:00<00:00, 558.49it/s]\n"
     ]
    },
    {
     "name": "stdout",
     "output_type": "stream",
     "text": [
      "VAL TASK LOSS: 0.2773\n"
     ]
    },
    {
     "name": "stderr",
     "output_type": "stream",
     "text": [
      "Epoch 64/100 TRN: 100%|██████████| 627/627 [00:04<00:00, 146.86it/s]\n"
     ]
    },
    {
     "name": "stdout",
     "output_type": "stream",
     "text": [
      "TRN TASK LOSS: 0.1571\n"
     ]
    },
    {
     "name": "stderr",
     "output_type": "stream",
     "text": [
      "Epoch 64/100 VAL: 100%|██████████| 79/79 [00:00<00:00, 517.84it/s]\n"
     ]
    },
    {
     "name": "stdout",
     "output_type": "stream",
     "text": [
      "VAL TASK LOSS: 0.2686\n"
     ]
    },
    {
     "name": "stderr",
     "output_type": "stream",
     "text": [
      "Epoch 65/100 TRN: 100%|██████████| 627/627 [00:04<00:00, 143.77it/s]\n"
     ]
    },
    {
     "name": "stdout",
     "output_type": "stream",
     "text": [
      "TRN TASK LOSS: 0.1562\n"
     ]
    },
    {
     "name": "stderr",
     "output_type": "stream",
     "text": [
      "Epoch 65/100 VAL: 100%|██████████| 79/79 [00:00<00:00, 526.49it/s]\n"
     ]
    },
    {
     "name": "stdout",
     "output_type": "stream",
     "text": [
      "VAL TASK LOSS: 0.2821\n"
     ]
    },
    {
     "name": "stderr",
     "output_type": "stream",
     "text": [
      "Epoch 66/100 TRN: 100%|██████████| 627/627 [00:04<00:00, 150.48it/s]\n"
     ]
    },
    {
     "name": "stdout",
     "output_type": "stream",
     "text": [
      "TRN TASK LOSS: 0.1506\n"
     ]
    },
    {
     "name": "stderr",
     "output_type": "stream",
     "text": [
      "Epoch 66/100 VAL: 100%|██████████| 79/79 [00:00<00:00, 522.29it/s]\n"
     ]
    },
    {
     "name": "stdout",
     "output_type": "stream",
     "text": [
      "VAL TASK LOSS: 0.2682\n"
     ]
    },
    {
     "name": "stderr",
     "output_type": "stream",
     "text": [
      "Epoch 67/100 TRN: 100%|██████████| 627/627 [00:04<00:00, 149.99it/s]\n"
     ]
    },
    {
     "name": "stdout",
     "output_type": "stream",
     "text": [
      "TRN TASK LOSS: 0.1497\n"
     ]
    },
    {
     "name": "stderr",
     "output_type": "stream",
     "text": [
      "Epoch 67/100 VAL: 100%|██████████| 79/79 [00:00<00:00, 475.17it/s]\n"
     ]
    },
    {
     "name": "stdout",
     "output_type": "stream",
     "text": [
      "VAL TASK LOSS: 0.2642\n"
     ]
    },
    {
     "name": "stderr",
     "output_type": "stream",
     "text": [
      "Epoch 68/100 TRN: 100%|██████████| 627/627 [00:04<00:00, 151.71it/s]\n"
     ]
    },
    {
     "name": "stdout",
     "output_type": "stream",
     "text": [
      "TRN TASK LOSS: 0.1467\n"
     ]
    },
    {
     "name": "stderr",
     "output_type": "stream",
     "text": [
      "Epoch 68/100 VAL: 100%|██████████| 79/79 [00:00<00:00, 497.56it/s]\n"
     ]
    },
    {
     "name": "stdout",
     "output_type": "stream",
     "text": [
      "VAL TASK LOSS: 0.2758\n"
     ]
    },
    {
     "name": "stderr",
     "output_type": "stream",
     "text": [
      "Epoch 69/100 TRN: 100%|██████████| 627/627 [00:04<00:00, 141.70it/s]\n"
     ]
    },
    {
     "name": "stdout",
     "output_type": "stream",
     "text": [
      "TRN TASK LOSS: 0.1436\n"
     ]
    },
    {
     "name": "stderr",
     "output_type": "stream",
     "text": [
      "Epoch 69/100 VAL: 100%|██████████| 79/79 [00:00<00:00, 527.04it/s]\n"
     ]
    },
    {
     "name": "stdout",
     "output_type": "stream",
     "text": [
      "VAL TASK LOSS: 0.2642\n"
     ]
    },
    {
     "name": "stderr",
     "output_type": "stream",
     "text": [
      "Epoch 70/100 TRN: 100%|██████████| 627/627 [00:04<00:00, 148.12it/s]\n"
     ]
    },
    {
     "name": "stdout",
     "output_type": "stream",
     "text": [
      "TRN TASK LOSS: 0.1423\n"
     ]
    },
    {
     "name": "stderr",
     "output_type": "stream",
     "text": [
      "Epoch 70/100 VAL: 100%|██████████| 79/79 [00:00<00:00, 512.27it/s]\n"
     ]
    },
    {
     "name": "stdout",
     "output_type": "stream",
     "text": [
      "VAL TASK LOSS: 0.2759\n",
      "EPOCH 71 START ---->>>>\n"
     ]
    },
    {
     "name": "stderr",
     "output_type": "stream",
     "text": [
      "Epoch 71/100 TRN: 100%|██████████| 627/627 [00:04<00:00, 145.89it/s]\n"
     ]
    },
    {
     "name": "stdout",
     "output_type": "stream",
     "text": [
      "TRN TASK LOSS: 0.1398\n"
     ]
    },
    {
     "name": "stderr",
     "output_type": "stream",
     "text": [
      "Epoch 71/100 VAL: 100%|██████████| 79/79 [00:00<00:00, 549.24it/s]\n"
     ]
    },
    {
     "name": "stdout",
     "output_type": "stream",
     "text": [
      "VAL TASK LOSS: 0.2698\n"
     ]
    },
    {
     "name": "stderr",
     "output_type": "stream",
     "text": [
      "Epoch 72/100 TRN: 100%|██████████| 627/627 [00:04<00:00, 136.79it/s]\n"
     ]
    },
    {
     "name": "stdout",
     "output_type": "stream",
     "text": [
      "TRN TASK LOSS: 0.1362\n"
     ]
    },
    {
     "name": "stderr",
     "output_type": "stream",
     "text": [
      "Epoch 72/100 VAL: 100%|██████████| 79/79 [00:00<00:00, 477.96it/s]\n"
     ]
    },
    {
     "name": "stdout",
     "output_type": "stream",
     "text": [
      "VAL TASK LOSS: 0.2775\n"
     ]
    },
    {
     "name": "stderr",
     "output_type": "stream",
     "text": [
      "Epoch 73/100 TRN: 100%|██████████| 627/627 [00:04<00:00, 144.72it/s]\n"
     ]
    },
    {
     "name": "stdout",
     "output_type": "stream",
     "text": [
      "TRN TASK LOSS: 0.1340\n"
     ]
    },
    {
     "name": "stderr",
     "output_type": "stream",
     "text": [
      "Epoch 73/100 VAL: 100%|██████████| 79/79 [00:00<00:00, 493.68it/s]\n"
     ]
    },
    {
     "name": "stdout",
     "output_type": "stream",
     "text": [
      "VAL TASK LOSS: 0.2721\n"
     ]
    },
    {
     "name": "stderr",
     "output_type": "stream",
     "text": [
      "Epoch 74/100 TRN: 100%|██████████| 627/627 [00:04<00:00, 152.09it/s]\n"
     ]
    },
    {
     "name": "stdout",
     "output_type": "stream",
     "text": [
      "TRN TASK LOSS: 0.1349\n"
     ]
    },
    {
     "name": "stderr",
     "output_type": "stream",
     "text": [
      "Epoch 74/100 VAL: 100%|██████████| 79/79 [00:00<00:00, 526.89it/s]\n"
     ]
    },
    {
     "name": "stdout",
     "output_type": "stream",
     "text": [
      "VAL TASK LOSS: 0.2793\n"
     ]
    },
    {
     "name": "stderr",
     "output_type": "stream",
     "text": [
      "Epoch 75/100 TRN: 100%|██████████| 627/627 [00:04<00:00, 145.75it/s]\n"
     ]
    },
    {
     "name": "stdout",
     "output_type": "stream",
     "text": [
      "TRN TASK LOSS: 0.1328\n"
     ]
    },
    {
     "name": "stderr",
     "output_type": "stream",
     "text": [
      "Epoch 75/100 VAL: 100%|██████████| 79/79 [00:00<00:00, 500.97it/s]\n"
     ]
    },
    {
     "name": "stdout",
     "output_type": "stream",
     "text": [
      "VAL TASK LOSS: 0.2659\n"
     ]
    },
    {
     "name": "stderr",
     "output_type": "stream",
     "text": [
      "Epoch 76/100 TRN: 100%|██████████| 627/627 [00:04<00:00, 146.36it/s]\n"
     ]
    },
    {
     "name": "stdout",
     "output_type": "stream",
     "text": [
      "TRN TASK LOSS: 0.1314\n"
     ]
    },
    {
     "name": "stderr",
     "output_type": "stream",
     "text": [
      "Epoch 76/100 VAL: 100%|██████████| 79/79 [00:00<00:00, 544.38it/s]\n"
     ]
    },
    {
     "name": "stdout",
     "output_type": "stream",
     "text": [
      "VAL TASK LOSS: 0.2617\n"
     ]
    },
    {
     "name": "stderr",
     "output_type": "stream",
     "text": [
      "Epoch 77/100 TRN: 100%|██████████| 627/627 [00:04<00:00, 143.85it/s]\n"
     ]
    },
    {
     "name": "stdout",
     "output_type": "stream",
     "text": [
      "TRN TASK LOSS: 0.1300\n"
     ]
    },
    {
     "name": "stderr",
     "output_type": "stream",
     "text": [
      "Epoch 77/100 VAL: 100%|██████████| 79/79 [00:00<00:00, 506.10it/s]\n"
     ]
    },
    {
     "name": "stdout",
     "output_type": "stream",
     "text": [
      "VAL TASK LOSS: 0.2663\n"
     ]
    },
    {
     "name": "stderr",
     "output_type": "stream",
     "text": [
      "Epoch 78/100 TRN: 100%|██████████| 627/627 [00:04<00:00, 145.18it/s]\n"
     ]
    },
    {
     "name": "stdout",
     "output_type": "stream",
     "text": [
      "TRN TASK LOSS: 0.1266\n"
     ]
    },
    {
     "name": "stderr",
     "output_type": "stream",
     "text": [
      "Epoch 78/100 VAL: 100%|██████████| 79/79 [00:00<00:00, 510.61it/s]\n"
     ]
    },
    {
     "name": "stdout",
     "output_type": "stream",
     "text": [
      "VAL TASK LOSS: 0.2669\n"
     ]
    },
    {
     "name": "stderr",
     "output_type": "stream",
     "text": [
      "Epoch 79/100 TRN: 100%|██████████| 627/627 [00:04<00:00, 152.93it/s]\n"
     ]
    },
    {
     "name": "stdout",
     "output_type": "stream",
     "text": [
      "TRN TASK LOSS: 0.1289\n"
     ]
    },
    {
     "name": "stderr",
     "output_type": "stream",
     "text": [
      "Epoch 79/100 VAL: 100%|██████████| 79/79 [00:00<00:00, 497.10it/s]\n"
     ]
    },
    {
     "name": "stdout",
     "output_type": "stream",
     "text": [
      "VAL TASK LOSS: 0.2612\n"
     ]
    },
    {
     "name": "stderr",
     "output_type": "stream",
     "text": [
      "Epoch 80/100 TRN: 100%|██████████| 627/627 [00:04<00:00, 138.72it/s]\n"
     ]
    },
    {
     "name": "stdout",
     "output_type": "stream",
     "text": [
      "TRN TASK LOSS: 0.1273\n"
     ]
    },
    {
     "name": "stderr",
     "output_type": "stream",
     "text": [
      "Epoch 80/100 VAL: 100%|██████████| 79/79 [00:00<00:00, 505.03it/s]\n"
     ]
    },
    {
     "name": "stdout",
     "output_type": "stream",
     "text": [
      "VAL TASK LOSS: 0.2623\n",
      "EPOCH 81 START ---->>>>\n"
     ]
    },
    {
     "name": "stderr",
     "output_type": "stream",
     "text": [
      "Epoch 81/100 TRN: 100%|██████████| 627/627 [00:04<00:00, 145.75it/s]\n"
     ]
    },
    {
     "name": "stdout",
     "output_type": "stream",
     "text": [
      "TRN TASK LOSS: 0.1268\n"
     ]
    },
    {
     "name": "stderr",
     "output_type": "stream",
     "text": [
      "Epoch 81/100 VAL: 100%|██████████| 79/79 [00:00<00:00, 549.57it/s]\n"
     ]
    },
    {
     "name": "stdout",
     "output_type": "stream",
     "text": [
      "VAL TASK LOSS: 0.2616\n"
     ]
    },
    {
     "name": "stderr",
     "output_type": "stream",
     "text": [
      "Epoch 82/100 TRN: 100%|██████████| 627/627 [00:04<00:00, 150.85it/s]\n"
     ]
    },
    {
     "name": "stdout",
     "output_type": "stream",
     "text": [
      "TRN TASK LOSS: 0.1254\n"
     ]
    },
    {
     "name": "stderr",
     "output_type": "stream",
     "text": [
      "Epoch 82/100 VAL: 100%|██████████| 79/79 [00:00<00:00, 557.44it/s]\n"
     ]
    },
    {
     "name": "stdout",
     "output_type": "stream",
     "text": [
      "VAL TASK LOSS: 0.2628\n"
     ]
    },
    {
     "name": "stderr",
     "output_type": "stream",
     "text": [
      "Epoch 83/100 TRN: 100%|██████████| 627/627 [00:04<00:00, 151.71it/s]\n"
     ]
    },
    {
     "name": "stdout",
     "output_type": "stream",
     "text": [
      "TRN TASK LOSS: 0.1234\n"
     ]
    },
    {
     "name": "stderr",
     "output_type": "stream",
     "text": [
      "Epoch 83/100 VAL: 100%|██████████| 79/79 [00:00<00:00, 497.57it/s]\n"
     ]
    },
    {
     "name": "stdout",
     "output_type": "stream",
     "text": [
      "VAL TASK LOSS: 0.2631\n"
     ]
    },
    {
     "name": "stderr",
     "output_type": "stream",
     "text": [
      "Epoch 84/100 TRN: 100%|██████████| 627/627 [00:04<00:00, 144.15it/s]\n"
     ]
    },
    {
     "name": "stdout",
     "output_type": "stream",
     "text": [
      "TRN TASK LOSS: 0.1228\n"
     ]
    },
    {
     "name": "stderr",
     "output_type": "stream",
     "text": [
      "Epoch 84/100 VAL: 100%|██████████| 79/79 [00:00<00:00, 556.12it/s]\n"
     ]
    },
    {
     "name": "stdout",
     "output_type": "stream",
     "text": [
      "VAL TASK LOSS: 0.2552\n"
     ]
    },
    {
     "name": "stderr",
     "output_type": "stream",
     "text": [
      "Epoch 85/100 TRN: 100%|██████████| 627/627 [00:04<00:00, 141.21it/s]\n"
     ]
    },
    {
     "name": "stdout",
     "output_type": "stream",
     "text": [
      "TRN TASK LOSS: 0.1223\n"
     ]
    },
    {
     "name": "stderr",
     "output_type": "stream",
     "text": [
      "Epoch 85/100 VAL: 100%|██████████| 79/79 [00:00<00:00, 551.88it/s]\n"
     ]
    },
    {
     "name": "stdout",
     "output_type": "stream",
     "text": [
      "VAL TASK LOSS: 0.2659\n"
     ]
    },
    {
     "name": "stderr",
     "output_type": "stream",
     "text": [
      "Epoch 86/100 TRN: 100%|██████████| 627/627 [00:04<00:00, 153.45it/s]\n"
     ]
    },
    {
     "name": "stdout",
     "output_type": "stream",
     "text": [
      "TRN TASK LOSS: 0.1209\n"
     ]
    },
    {
     "name": "stderr",
     "output_type": "stream",
     "text": [
      "Epoch 86/100 VAL: 100%|██████████| 79/79 [00:00<00:00, 509.56it/s]\n"
     ]
    },
    {
     "name": "stdout",
     "output_type": "stream",
     "text": [
      "VAL TASK LOSS: 0.2520\n"
     ]
    },
    {
     "name": "stderr",
     "output_type": "stream",
     "text": [
      "Epoch 87/100 TRN: 100%|██████████| 627/627 [00:03<00:00, 164.71it/s]\n"
     ]
    },
    {
     "name": "stdout",
     "output_type": "stream",
     "text": [
      "TRN TASK LOSS: 0.1211\n"
     ]
    },
    {
     "name": "stderr",
     "output_type": "stream",
     "text": [
      "Epoch 87/100 VAL: 100%|██████████| 79/79 [00:00<00:00, 540.17it/s]\n"
     ]
    },
    {
     "name": "stdout",
     "output_type": "stream",
     "text": [
      "VAL TASK LOSS: 0.2682\n"
     ]
    },
    {
     "name": "stderr",
     "output_type": "stream",
     "text": [
      "Epoch 88/100 TRN: 100%|██████████| 627/627 [00:04<00:00, 142.43it/s]\n"
     ]
    },
    {
     "name": "stdout",
     "output_type": "stream",
     "text": [
      "TRN TASK LOSS: 0.1188\n"
     ]
    },
    {
     "name": "stderr",
     "output_type": "stream",
     "text": [
      "Epoch 88/100 VAL: 100%|██████████| 79/79 [00:00<00:00, 528.10it/s]\n"
     ]
    },
    {
     "name": "stdout",
     "output_type": "stream",
     "text": [
      "VAL TASK LOSS: 0.2551\n"
     ]
    },
    {
     "name": "stderr",
     "output_type": "stream",
     "text": [
      "Epoch 89/100 TRN: 100%|██████████| 627/627 [00:04<00:00, 141.13it/s]\n"
     ]
    },
    {
     "name": "stdout",
     "output_type": "stream",
     "text": [
      "TRN TASK LOSS: 0.1198\n"
     ]
    },
    {
     "name": "stderr",
     "output_type": "stream",
     "text": [
      "Epoch 89/100 VAL: 100%|██████████| 79/79 [00:00<00:00, 566.33it/s]\n"
     ]
    },
    {
     "name": "stdout",
     "output_type": "stream",
     "text": [
      "VAL TASK LOSS: 0.2549\n"
     ]
    },
    {
     "name": "stderr",
     "output_type": "stream",
     "text": [
      "Epoch 90/100 TRN: 100%|██████████| 627/627 [00:04<00:00, 149.86it/s]\n"
     ]
    },
    {
     "name": "stdout",
     "output_type": "stream",
     "text": [
      "TRN TASK LOSS: 0.1192\n"
     ]
    },
    {
     "name": "stderr",
     "output_type": "stream",
     "text": [
      "Epoch 90/100 VAL: 100%|██████████| 79/79 [00:00<00:00, 533.22it/s]\n"
     ]
    },
    {
     "name": "stdout",
     "output_type": "stream",
     "text": [
      "VAL TASK LOSS: 0.2624\n",
      "EPOCH 91 START ---->>>>\n"
     ]
    },
    {
     "name": "stderr",
     "output_type": "stream",
     "text": [
      "Epoch 91/100 TRN: 100%|██████████| 627/627 [00:04<00:00, 145.82it/s]\n"
     ]
    },
    {
     "name": "stdout",
     "output_type": "stream",
     "text": [
      "TRN TASK LOSS: 0.1161\n"
     ]
    },
    {
     "name": "stderr",
     "output_type": "stream",
     "text": [
      "Epoch 91/100 VAL: 100%|██████████| 79/79 [00:00<00:00, 526.75it/s]\n"
     ]
    },
    {
     "name": "stdout",
     "output_type": "stream",
     "text": [
      "VAL TASK LOSS: 0.2535\n"
     ]
    },
    {
     "name": "stderr",
     "output_type": "stream",
     "text": [
      "Epoch 92/100 TRN: 100%|██████████| 627/627 [00:04<00:00, 156.09it/s]\n"
     ]
    },
    {
     "name": "stdout",
     "output_type": "stream",
     "text": [
      "TRN TASK LOSS: 0.1152\n"
     ]
    },
    {
     "name": "stderr",
     "output_type": "stream",
     "text": [
      "Epoch 92/100 VAL: 100%|██████████| 79/79 [00:00<00:00, 535.40it/s]\n"
     ]
    },
    {
     "name": "stdout",
     "output_type": "stream",
     "text": [
      "VAL TASK LOSS: 0.2547\n"
     ]
    },
    {
     "name": "stderr",
     "output_type": "stream",
     "text": [
      "Epoch 93/100 TRN: 100%|██████████| 627/627 [00:04<00:00, 145.72it/s]\n"
     ]
    },
    {
     "name": "stdout",
     "output_type": "stream",
     "text": [
      "TRN TASK LOSS: 0.1182\n"
     ]
    },
    {
     "name": "stderr",
     "output_type": "stream",
     "text": [
      "Epoch 93/100 VAL: 100%|██████████| 79/79 [00:00<00:00, 526.17it/s]\n"
     ]
    },
    {
     "name": "stdout",
     "output_type": "stream",
     "text": [
      "VAL TASK LOSS: 0.2536\n"
     ]
    },
    {
     "name": "stderr",
     "output_type": "stream",
     "text": [
      "Epoch 94/100 TRN: 100%|██████████| 627/627 [00:04<00:00, 141.97it/s]\n"
     ]
    },
    {
     "name": "stdout",
     "output_type": "stream",
     "text": [
      "TRN TASK LOSS: 0.1180\n"
     ]
    },
    {
     "name": "stderr",
     "output_type": "stream",
     "text": [
      "Epoch 94/100 VAL: 100%|██████████| 79/79 [00:00<00:00, 528.32it/s]\n"
     ]
    },
    {
     "name": "stdout",
     "output_type": "stream",
     "text": [
      "VAL TASK LOSS: 0.2474\n"
     ]
    },
    {
     "name": "stderr",
     "output_type": "stream",
     "text": [
      "Epoch 95/100 TRN: 100%|██████████| 627/627 [00:03<00:00, 172.57it/s]\n"
     ]
    },
    {
     "name": "stdout",
     "output_type": "stream",
     "text": [
      "TRN TASK LOSS: 0.1144\n"
     ]
    },
    {
     "name": "stderr",
     "output_type": "stream",
     "text": [
      "Epoch 95/100 VAL: 100%|██████████| 79/79 [00:00<00:00, 550.30it/s]\n"
     ]
    },
    {
     "name": "stdout",
     "output_type": "stream",
     "text": [
      "VAL TASK LOSS: 0.2555\n"
     ]
    },
    {
     "name": "stderr",
     "output_type": "stream",
     "text": [
      "Epoch 96/100 TRN: 100%|██████████| 627/627 [00:04<00:00, 152.11it/s]\n"
     ]
    },
    {
     "name": "stdout",
     "output_type": "stream",
     "text": [
      "TRN TASK LOSS: 0.1154\n"
     ]
    },
    {
     "name": "stderr",
     "output_type": "stream",
     "text": [
      "Epoch 96/100 VAL: 100%|██████████| 79/79 [00:00<00:00, 525.61it/s]\n"
     ]
    },
    {
     "name": "stdout",
     "output_type": "stream",
     "text": [
      "VAL TASK LOSS: 0.2624\n"
     ]
    },
    {
     "name": "stderr",
     "output_type": "stream",
     "text": [
      "Epoch 97/100 TRN: 100%|██████████| 627/627 [00:04<00:00, 140.14it/s]\n"
     ]
    },
    {
     "name": "stdout",
     "output_type": "stream",
     "text": [
      "TRN TASK LOSS: 0.1145\n"
     ]
    },
    {
     "name": "stderr",
     "output_type": "stream",
     "text": [
      "Epoch 97/100 VAL: 100%|██████████| 79/79 [00:00<00:00, 496.69it/s]\n"
     ]
    },
    {
     "name": "stdout",
     "output_type": "stream",
     "text": [
      "VAL TASK LOSS: 0.2709\n"
     ]
    },
    {
     "name": "stderr",
     "output_type": "stream",
     "text": [
      "Epoch 98/100 TRN: 100%|██████████| 627/627 [00:04<00:00, 145.64it/s]\n"
     ]
    },
    {
     "name": "stdout",
     "output_type": "stream",
     "text": [
      "TRN TASK LOSS: 0.1137\n"
     ]
    },
    {
     "name": "stderr",
     "output_type": "stream",
     "text": [
      "Epoch 98/100 VAL: 100%|██████████| 79/79 [00:00<00:00, 490.32it/s]\n"
     ]
    },
    {
     "name": "stdout",
     "output_type": "stream",
     "text": [
      "VAL TASK LOSS: 0.2603\n"
     ]
    },
    {
     "name": "stderr",
     "output_type": "stream",
     "text": [
      "Epoch 99/100 TRN: 100%|██████████| 627/627 [00:04<00:00, 144.18it/s]\n"
     ]
    },
    {
     "name": "stdout",
     "output_type": "stream",
     "text": [
      "TRN TASK LOSS: 0.1140\n"
     ]
    },
    {
     "name": "stderr",
     "output_type": "stream",
     "text": [
      "Epoch 99/100 VAL: 100%|██████████| 79/79 [00:00<00:00, 516.50it/s]\n"
     ]
    },
    {
     "name": "stdout",
     "output_type": "stream",
     "text": [
      "VAL TASK LOSS: 0.2524\n"
     ]
    },
    {
     "name": "stderr",
     "output_type": "stream",
     "text": [
      "Epoch 100/100 TRN: 100%|██████████| 627/627 [00:03<00:00, 164.33it/s]\n"
     ]
    },
    {
     "name": "stdout",
     "output_type": "stream",
     "text": [
      "TRN TASK LOSS: 0.1122\n"
     ]
    },
    {
     "name": "stderr",
     "output_type": "stream",
     "text": [
      "Epoch 100/100 VAL: 100%|██████████| 79/79 [00:00<00:00, 529.34it/s]"
     ]
    },
    {
     "name": "stdout",
     "output_type": "stream",
     "text": [
      "VAL TASK LOSS: 0.2612\n"
     ]
    },
    {
     "name": "stderr",
     "output_type": "stream",
     "text": [
      "\n"
     ]
    }
   ],
   "source": [
    "kwargs = dict(\n",
    "    trn_loader=trn_loader,\n",
    "    val_loader=val_loader,\n",
    "    n_epochs=N_EPOCHS,\n",
    ")\n",
    "\n",
    "history = loop.fit(**kwargs)"
   ]
  },
  {
   "cell_type": "code",
   "execution_count": 14,
   "id": "0dde1ad9",
   "metadata": {
    "execution": {
     "iopub.execute_input": "2025-04-18T00:55:21.491977Z",
     "iopub.status.busy": "2025-04-18T00:55:21.491977Z",
     "iopub.status.idle": "2025-04-18T00:55:21.585604Z",
     "shell.execute_reply": "2025-04-18T00:55:21.585604Z"
    }
   },
   "outputs": [
    {
     "data": {
      "image/png": "[encoded data removed]",
      "text/plain": [
       "<Figure size 800x500 with 1 Axes>"
      ]
     },
     "metadata": {},
     "output_type": "display_data"
    }
   ],
   "source": [
    "et_cetera.vis.plot_loss(history, 'TASK LOSS')"
   ]
  },
  {
   "cell_type": "markdown",
   "id": "98b20720",
   "metadata": {},
   "source": [
    "# Test"
   ]
  },
  {
   "cell_type": "markdown",
   "id": "fb3ff26f",
   "metadata": {},
   "source": [
    "### TST Data"
   ]
  },
  {
   "cell_type": "code",
   "execution_count": 15,
   "id": "5efe605c",
   "metadata": {
    "execution": {
     "iopub.execute_input": "2025-04-18T00:55:21.660121Z",
     "iopub.status.busy": "2025-04-18T00:55:21.660121Z",
     "iopub.status.idle": "2025-04-18T00:55:26.983338Z",
     "shell.execute_reply": "2025-04-18T00:55:26.983338Z"
    }
   },
   "outputs": [
    {
     "name": "stderr",
     "output_type": "stream",
     "text": [
      "TST: 100%|██████████| 314/314 [00:01<00:00, 282.92it/s]\n"
     ]
    }
   ],
   "source": [
    "kwargs = dict(\n",
    "    tst_loader=tst_loader,\n",
    ")\n",
    "\n",
    "result = loop.predict(**kwargs)"
   ]
  },
  {
   "cell_type": "code",
   "execution_count": 16,
   "id": "9429a023",
   "metadata": {
    "execution": {
     "iopub.execute_input": "2025-04-18T00:55:26.984388Z",
     "iopub.status.busy": "2025-04-18T00:55:26.984388Z",
     "iopub.status.idle": "2025-04-18T00:55:26.993498Z",
     "shell.execute_reply": "2025-04-18T00:55:26.993498Z"
    }
   },
   "outputs": [
    {
     "data": {
      "text/html": [
       "<div>\n",
       "<style scoped>\n",
       "    .dataframe tbody tr th:only-of-type {\n",
       "        vertical-align: middle;\n",
       "    }\n",
       "\n",
       "    .dataframe tbody tr th {\n",
       "        vertical-align: top;\n",
       "    }\n",
       "\n",
       "    .dataframe thead th {\n",
       "        text-align: right;\n",
       "    }\n",
       "</style>\n",
       "<table border=\"1\" class=\"dataframe\">\n",
       "  <thead>\n",
       "    <tr style=\"text-align: right;\">\n",
       "      <th></th>\n",
       "      <th>userId</th>\n",
       "      <th>itemId</th>\n",
       "      <th>prediction</th>\n",
       "      <th>label</th>\n",
       "    </tr>\n",
       "  </thead>\n",
       "  <tbody>\n",
       "    <tr>\n",
       "      <th>0</th>\n",
       "      <td>133</td>\n",
       "      <td>963</td>\n",
       "      <td>0.890625</td>\n",
       "      <td>0.0</td>\n",
       "    </tr>\n",
       "    <tr>\n",
       "      <th>1</th>\n",
       "      <td>133</td>\n",
       "      <td>963</td>\n",
       "      <td>0.890625</td>\n",
       "      <td>0.0</td>\n",
       "    </tr>\n",
       "    <tr>\n",
       "      <th>2</th>\n",
       "      <td>133</td>\n",
       "      <td>963</td>\n",
       "      <td>0.890625</td>\n",
       "      <td>0.0</td>\n",
       "    </tr>\n",
       "    <tr>\n",
       "      <th>3</th>\n",
       "      <td>133</td>\n",
       "      <td>963</td>\n",
       "      <td>0.890625</td>\n",
       "      <td>0.0</td>\n",
       "    </tr>\n",
       "    <tr>\n",
       "      <th>4</th>\n",
       "      <td>133</td>\n",
       "      <td>594</td>\n",
       "      <td>0.879883</td>\n",
       "      <td>0.0</td>\n",
       "    </tr>\n",
       "    <tr>\n",
       "      <th>5</th>\n",
       "      <td>133</td>\n",
       "      <td>217</td>\n",
       "      <td>0.837402</td>\n",
       "      <td>1.0</td>\n",
       "    </tr>\n",
       "    <tr>\n",
       "      <th>6</th>\n",
       "      <td>133</td>\n",
       "      <td>898</td>\n",
       "      <td>0.783691</td>\n",
       "      <td>0.0</td>\n",
       "    </tr>\n",
       "    <tr>\n",
       "      <th>7</th>\n",
       "      <td>133</td>\n",
       "      <td>383</td>\n",
       "      <td>0.779785</td>\n",
       "      <td>0.0</td>\n",
       "    </tr>\n",
       "    <tr>\n",
       "      <th>8</th>\n",
       "      <td>133</td>\n",
       "      <td>144</td>\n",
       "      <td>0.761719</td>\n",
       "      <td>0.0</td>\n",
       "    </tr>\n",
       "    <tr>\n",
       "      <th>9</th>\n",
       "      <td>133</td>\n",
       "      <td>163</td>\n",
       "      <td>0.702148</td>\n",
       "      <td>1.0</td>\n",
       "    </tr>\n",
       "    <tr>\n",
       "      <th>10</th>\n",
       "      <td>133</td>\n",
       "      <td>62</td>\n",
       "      <td>0.677734</td>\n",
       "      <td>0.0</td>\n",
       "    </tr>\n",
       "    <tr>\n",
       "      <th>11</th>\n",
       "      <td>133</td>\n",
       "      <td>1123</td>\n",
       "      <td>0.657715</td>\n",
       "      <td>0.0</td>\n",
       "    </tr>\n",
       "    <tr>\n",
       "      <th>12</th>\n",
       "      <td>133</td>\n",
       "      <td>444</td>\n",
       "      <td>0.600586</td>\n",
       "      <td>1.0</td>\n",
       "    </tr>\n",
       "    <tr>\n",
       "      <th>13</th>\n",
       "      <td>133</td>\n",
       "      <td>166</td>\n",
       "      <td>0.590820</td>\n",
       "      <td>0.0</td>\n",
       "    </tr>\n",
       "    <tr>\n",
       "      <th>14</th>\n",
       "      <td>133</td>\n",
       "      <td>784</td>\n",
       "      <td>0.562012</td>\n",
       "      <td>0.0</td>\n",
       "    </tr>\n",
       "    <tr>\n",
       "      <th>15</th>\n",
       "      <td>133</td>\n",
       "      <td>784</td>\n",
       "      <td>0.562012</td>\n",
       "      <td>0.0</td>\n",
       "    </tr>\n",
       "    <tr>\n",
       "      <th>16</th>\n",
       "      <td>133</td>\n",
       "      <td>784</td>\n",
       "      <td>0.562012</td>\n",
       "      <td>0.0</td>\n",
       "    </tr>\n",
       "    <tr>\n",
       "      <th>17</th>\n",
       "      <td>133</td>\n",
       "      <td>784</td>\n",
       "      <td>0.562012</td>\n",
       "      <td>0.0</td>\n",
       "    </tr>\n",
       "    <tr>\n",
       "      <th>18</th>\n",
       "      <td>133</td>\n",
       "      <td>521</td>\n",
       "      <td>0.557617</td>\n",
       "      <td>0.0</td>\n",
       "    </tr>\n",
       "    <tr>\n",
       "      <th>19</th>\n",
       "      <td>133</td>\n",
       "      <td>543</td>\n",
       "      <td>0.547852</td>\n",
       "      <td>0.0</td>\n",
       "    </tr>\n",
       "    <tr>\n",
       "      <th>20</th>\n",
       "      <td>133</td>\n",
       "      <td>438</td>\n",
       "      <td>0.538574</td>\n",
       "      <td>0.0</td>\n",
       "    </tr>\n",
       "    <tr>\n",
       "      <th>21</th>\n",
       "      <td>133</td>\n",
       "      <td>335</td>\n",
       "      <td>0.524414</td>\n",
       "      <td>0.0</td>\n",
       "    </tr>\n",
       "    <tr>\n",
       "      <th>22</th>\n",
       "      <td>133</td>\n",
       "      <td>205</td>\n",
       "      <td>0.518555</td>\n",
       "      <td>0.0</td>\n",
       "    </tr>\n",
       "    <tr>\n",
       "      <th>23</th>\n",
       "      <td>133</td>\n",
       "      <td>777</td>\n",
       "      <td>0.469238</td>\n",
       "      <td>0.0</td>\n",
       "    </tr>\n",
       "  </tbody>\n",
       "</table>\n",
       "</div>"
      ],
      "text/plain": [
       "    userId  itemId  prediction  label\n",
       "0      133     963    0.890625    0.0\n",
       "1      133     963    0.890625    0.0\n",
       "2      133     963    0.890625    0.0\n",
       "3      133     963    0.890625    0.0\n",
       "4      133     594    0.879883    0.0\n",
       "5      133     217    0.837402    1.0\n",
       "6      133     898    0.783691    0.0\n",
       "7      133     383    0.779785    0.0\n",
       "8      133     144    0.761719    0.0\n",
       "9      133     163    0.702148    1.0\n",
       "10     133      62    0.677734    0.0\n",
       "11     133    1123    0.657715    0.0\n",
       "12     133     444    0.600586    1.0\n",
       "13     133     166    0.590820    0.0\n",
       "14     133     784    0.562012    0.0\n",
       "15     133     784    0.562012    0.0\n",
       "16     133     784    0.562012    0.0\n",
       "17     133     784    0.562012    0.0\n",
       "18     133     521    0.557617    0.0\n",
       "19     133     543    0.547852    0.0\n",
       "20     133     438    0.538574    0.0\n",
       "21     133     335    0.524414    0.0\n",
       "22     133     205    0.518555    0.0\n",
       "23     133     777    0.469238    0.0"
      ]
     },
     "execution_count": 16,
     "metadata": {},
     "output_type": "execute_result"
    }
   ],
   "source": [
    "trues = result['true'][result['true'][DEFAULT_USER_COL]==LOW_USER]\n",
    "\n",
    "preds = result['pred'][\n",
    "    result['pred'][DEFAULT_USER_COL]==LOW_USER\n",
    "    ].sort_values(\n",
    "        by=DEFAULT_PREDICTION_COL,\n",
    "        ascending=False\n",
    "    ).head(20)\n",
    "\n",
    "merged = pd.merge(\n",
    "    preds,\n",
    "    trues,\n",
    "    on=[DEFAULT_USER_COL, DEFAULT_ITEM_COL],\n",
    "    how='inner'\n",
    ")\n",
    "\n",
    "merged"
   ]
  },
  {
   "cell_type": "code",
   "execution_count": 17,
   "id": "6ac43040",
   "metadata": {
    "execution": {
     "iopub.execute_input": "2025-04-18T00:55:26.993498Z",
     "iopub.status.busy": "2025-04-18T00:55:26.993498Z",
     "iopub.status.idle": "2025-04-18T00:55:27.001029Z",
     "shell.execute_reply": "2025-04-18T00:55:27.001029Z"
    }
   },
   "outputs": [
    {
     "data": {
      "text/html": [
       "<div>\n",
       "<style scoped>\n",
       "    .dataframe tbody tr th:only-of-type {\n",
       "        vertical-align: middle;\n",
       "    }\n",
       "\n",
       "    .dataframe tbody tr th {\n",
       "        vertical-align: top;\n",
       "    }\n",
       "\n",
       "    .dataframe thead th {\n",
       "        text-align: right;\n",
       "    }\n",
       "</style>\n",
       "<table border=\"1\" class=\"dataframe\">\n",
       "  <thead>\n",
       "    <tr style=\"text-align: right;\">\n",
       "      <th></th>\n",
       "      <th>userId</th>\n",
       "      <th>itemId</th>\n",
       "      <th>prediction</th>\n",
       "      <th>label</th>\n",
       "    </tr>\n",
       "  </thead>\n",
       "  <tbody>\n",
       "    <tr>\n",
       "      <th>0</th>\n",
       "      <td>330</td>\n",
       "      <td>461</td>\n",
       "      <td>0.903809</td>\n",
       "      <td>0.0</td>\n",
       "    </tr>\n",
       "    <tr>\n",
       "      <th>1</th>\n",
       "      <td>330</td>\n",
       "      <td>461</td>\n",
       "      <td>0.903809</td>\n",
       "      <td>0.0</td>\n",
       "    </tr>\n",
       "    <tr>\n",
       "      <th>2</th>\n",
       "      <td>330</td>\n",
       "      <td>461</td>\n",
       "      <td>0.903809</td>\n",
       "      <td>0.0</td>\n",
       "    </tr>\n",
       "    <tr>\n",
       "      <th>3</th>\n",
       "      <td>330</td>\n",
       "      <td>461</td>\n",
       "      <td>0.903809</td>\n",
       "      <td>0.0</td>\n",
       "    </tr>\n",
       "    <tr>\n",
       "      <th>4</th>\n",
       "      <td>330</td>\n",
       "      <td>2224</td>\n",
       "      <td>0.902832</td>\n",
       "      <td>1.0</td>\n",
       "    </tr>\n",
       "    <tr>\n",
       "      <th>5</th>\n",
       "      <td>330</td>\n",
       "      <td>4070</td>\n",
       "      <td>0.901855</td>\n",
       "      <td>0.0</td>\n",
       "    </tr>\n",
       "    <tr>\n",
       "      <th>6</th>\n",
       "      <td>330</td>\n",
       "      <td>5901</td>\n",
       "      <td>0.901855</td>\n",
       "      <td>1.0</td>\n",
       "    </tr>\n",
       "    <tr>\n",
       "      <th>7</th>\n",
       "      <td>330</td>\n",
       "      <td>908</td>\n",
       "      <td>0.900391</td>\n",
       "      <td>0.0</td>\n",
       "    </tr>\n",
       "    <tr>\n",
       "      <th>8</th>\n",
       "      <td>330</td>\n",
       "      <td>3136</td>\n",
       "      <td>0.899902</td>\n",
       "      <td>0.0</td>\n",
       "    </tr>\n",
       "    <tr>\n",
       "      <th>9</th>\n",
       "      <td>330</td>\n",
       "      <td>899</td>\n",
       "      <td>0.899414</td>\n",
       "      <td>0.0</td>\n",
       "    </tr>\n",
       "    <tr>\n",
       "      <th>10</th>\n",
       "      <td>330</td>\n",
       "      <td>1733</td>\n",
       "      <td>0.898926</td>\n",
       "      <td>0.0</td>\n",
       "    </tr>\n",
       "    <tr>\n",
       "      <th>11</th>\n",
       "      <td>330</td>\n",
       "      <td>914</td>\n",
       "      <td>0.897949</td>\n",
       "      <td>0.0</td>\n",
       "    </tr>\n",
       "    <tr>\n",
       "      <th>12</th>\n",
       "      <td>330</td>\n",
       "      <td>7061</td>\n",
       "      <td>0.896484</td>\n",
       "      <td>0.0</td>\n",
       "    </tr>\n",
       "    <tr>\n",
       "      <th>13</th>\n",
       "      <td>330</td>\n",
       "      <td>1242</td>\n",
       "      <td>0.895996</td>\n",
       "      <td>0.0</td>\n",
       "    </tr>\n",
       "    <tr>\n",
       "      <th>14</th>\n",
       "      <td>330</td>\n",
       "      <td>1882</td>\n",
       "      <td>0.894531</td>\n",
       "      <td>0.0</td>\n",
       "    </tr>\n",
       "    <tr>\n",
       "      <th>15</th>\n",
       "      <td>330</td>\n",
       "      <td>7241</td>\n",
       "      <td>0.894043</td>\n",
       "      <td>0.0</td>\n",
       "    </tr>\n",
       "    <tr>\n",
       "      <th>16</th>\n",
       "      <td>330</td>\n",
       "      <td>6471</td>\n",
       "      <td>0.894043</td>\n",
       "      <td>0.0</td>\n",
       "    </tr>\n",
       "    <tr>\n",
       "      <th>17</th>\n",
       "      <td>330</td>\n",
       "      <td>7001</td>\n",
       "      <td>0.891602</td>\n",
       "      <td>1.0</td>\n",
       "    </tr>\n",
       "    <tr>\n",
       "      <th>18</th>\n",
       "      <td>330</td>\n",
       "      <td>989</td>\n",
       "      <td>0.891602</td>\n",
       "      <td>0.0</td>\n",
       "    </tr>\n",
       "    <tr>\n",
       "      <th>19</th>\n",
       "      <td>330</td>\n",
       "      <td>6905</td>\n",
       "      <td>0.890625</td>\n",
       "      <td>0.0</td>\n",
       "    </tr>\n",
       "    <tr>\n",
       "      <th>20</th>\n",
       "      <td>330</td>\n",
       "      <td>7073</td>\n",
       "      <td>0.889648</td>\n",
       "      <td>0.0</td>\n",
       "    </tr>\n",
       "    <tr>\n",
       "      <th>21</th>\n",
       "      <td>330</td>\n",
       "      <td>3785</td>\n",
       "      <td>0.888672</td>\n",
       "      <td>0.0</td>\n",
       "    </tr>\n",
       "  </tbody>\n",
       "</table>\n",
       "</div>"
      ],
      "text/plain": [
       "    userId  itemId  prediction  label\n",
       "0      330     461    0.903809    0.0\n",
       "1      330     461    0.903809    0.0\n",
       "2      330     461    0.903809    0.0\n",
       "3      330     461    0.903809    0.0\n",
       "4      330    2224    0.902832    1.0\n",
       "5      330    4070    0.901855    0.0\n",
       "6      330    5901    0.901855    1.0\n",
       "7      330     908    0.900391    0.0\n",
       "8      330    3136    0.899902    0.0\n",
       "9      330     899    0.899414    0.0\n",
       "10     330    1733    0.898926    0.0\n",
       "11     330     914    0.897949    0.0\n",
       "12     330    7061    0.896484    0.0\n",
       "13     330    1242    0.895996    0.0\n",
       "14     330    1882    0.894531    0.0\n",
       "15     330    7241    0.894043    0.0\n",
       "16     330    6471    0.894043    0.0\n",
       "17     330    7001    0.891602    1.0\n",
       "18     330     989    0.891602    0.0\n",
       "19     330    6905    0.890625    0.0\n",
       "20     330    7073    0.889648    0.0\n",
       "21     330    3785    0.888672    0.0"
      ]
     },
     "execution_count": 17,
     "metadata": {},
     "output_type": "execute_result"
    }
   ],
   "source": [
    "trues = result['true'][result['true'][DEFAULT_USER_COL]==HIGH_USER]\n",
    "\n",
    "preds = result['pred'][\n",
    "    result['pred'][DEFAULT_USER_COL]==HIGH_USER\n",
    "    ].sort_values(\n",
    "        by=DEFAULT_PREDICTION_COL,\n",
    "        ascending=False\n",
    "    ).head(20)\n",
    "\n",
    "merged = pd.merge(\n",
    "    preds,\n",
    "    trues,\n",
    "    on=[DEFAULT_USER_COL, DEFAULT_ITEM_COL],\n",
    "    how='inner'\n",
    ")\n",
    "\n",
    "merged"
   ]
  },
  {
   "cell_type": "code",
   "execution_count": 18,
   "id": "fd442b4d",
   "metadata": {
    "execution": {
     "iopub.execute_input": "2025-04-18T00:55:27.001029Z",
     "iopub.status.busy": "2025-04-18T00:55:27.001029Z",
     "iopub.status.idle": "2025-04-18T00:55:27.771404Z",
     "shell.execute_reply": "2025-04-18T00:55:27.771404Z"
    }
   },
   "outputs": [
    {
     "name": "stdout",
     "output_type": "stream",
     "text": [
      "HR@10: 0.904918\n",
      "PRECISION@10: 0.267869\n",
      "RECALL@10: 0.381072\n",
      "MAP@10: 0.229055\n",
      "NDCG@10: 0.414883\n",
      "AGGDIV@10: 0.120984\n",
      "MEAN NOVELTY@10: 9.864052\n",
      "MEAN SERENDIPITY@10: 0.232951\n",
      "PERSONALIZATION@10: 0.958448\n"
     ]
    }
   ],
   "source": [
    "TOP_K = 10\n",
    "\n",
    "kwargs = dict(\n",
    "    model_name=model.model_name,\n",
    "    origin=data,\n",
    "    rating_true=result['true'],\n",
    "    rating_pred=result['pred'],\n",
    "    k=TOP_K,\n",
    ")\n",
    "\n",
    "eval = ranking.metrics.eval_top_k(**kwargs)"
   ]
  },
  {
   "cell_type": "code",
   "execution_count": 19,
   "id": "1ecdb8be",
   "metadata": {
    "execution": {
     "iopub.execute_input": "2025-04-18T00:55:27.772624Z",
     "iopub.status.busy": "2025-04-18T00:55:27.772624Z",
     "iopub.status.idle": "2025-04-18T00:55:28.528515Z",
     "shell.execute_reply": "2025-04-18T00:55:28.528515Z"
    }
   },
   "outputs": [
    {
     "name": "stdout",
     "output_type": "stream",
     "text": [
      "HR@20: 0.978689\n",
      "PRECISION@20: 0.207213\n",
      "RECALL@20: 0.530149\n",
      "MAP@20: 0.266462\n",
      "NDCG@20: 0.455720\n",
      "AGGDIV@20: 0.129180\n",
      "MEAN NOVELTY@20: 10.397560\n",
      "MEAN SERENDIPITY@20: 0.178934\n",
      "PERSONALIZATION@20: 0.959207\n"
     ]
    }
   ],
   "source": [
    "TOP_K = 20\n",
    "\n",
    "kwargs = dict(\n",
    "    model_name=model.model_name,\n",
    "    origin=data,\n",
    "    rating_true=result['true'],\n",
    "    rating_pred=result['pred'],\n",
    "    k=TOP_K,\n",
    ")\n",
    "\n",
    "eval = ranking.metrics.eval_top_k(**kwargs)"
   ]
  },
  {
   "cell_type": "code",
   "execution_count": 20,
   "id": "22341098",
   "metadata": {
    "execution": {
     "iopub.execute_input": "2025-04-18T00:55:28.528515Z",
     "iopub.status.busy": "2025-04-18T00:55:28.528515Z",
     "iopub.status.idle": "2025-04-18T00:55:29.392596Z",
     "shell.execute_reply": "2025-04-18T00:55:29.392596Z"
    }
   },
   "outputs": [
    {
     "name": "stdout",
     "output_type": "stream",
     "text": [
      "HR@50: 0.998361\n",
      "PRECISION@50: 0.132197\n",
      "RECALL@50: 0.698338\n",
      "MAP@50: 0.297367\n",
      "NDCG@50: 0.507079\n",
      "AGGDIV@50: 0.120000\n",
      "MEAN NOVELTY@50: 11.282484\n",
      "MEAN SERENDIPITY@50: 0.104328\n",
      "PERSONALIZATION@50: 0.960668\n"
     ]
    }
   ],
   "source": [
    "TOP_K = 50\n",
    "\n",
    "kwargs = dict(\n",
    "    model_name=model.model_name,\n",
    "    origin=data,\n",
    "    rating_true=result['true'],\n",
    "    rating_pred=result['pred'],\n",
    "    k=TOP_K,\n",
    ")\n",
    "\n",
    "eval = ranking.metrics.eval_top_k(**kwargs)"
   ]
  },
  {
   "cell_type": "code",
   "execution_count": 21,
   "id": "81e207d2",
   "metadata": {
    "execution": {
     "iopub.execute_input": "2025-04-18T00:55:29.392596Z",
     "iopub.status.busy": "2025-04-18T00:55:29.392596Z",
     "iopub.status.idle": "2025-04-18T00:55:30.340823Z",
     "shell.execute_reply": "2025-04-18T00:55:30.340823Z"
    }
   },
   "outputs": [
    {
     "name": "stdout",
     "output_type": "stream",
     "text": [
      "HR@100: 1.000000\n",
      "PRECISION@100: 0.086967\n",
      "RECALL@100: 0.794197\n",
      "MAP@100: 0.311062\n",
      "NDCG@100: 0.540977\n",
      "AGGDIV@100: 0.108885\n",
      "MEAN NOVELTY@100: 12.097154\n",
      "MEAN SERENDIPITY@100: 0.063426\n",
      "PERSONALIZATION@100: 0.959728\n"
     ]
    }
   ],
   "source": [
    "TOP_K = 100\n",
    "\n",
    "kwargs = dict(\n",
    "    model_name=model.model_name,\n",
    "    origin=data,\n",
    "    rating_true=result['true'],\n",
    "    rating_pred=result['pred'],\n",
    "    k=TOP_K,\n",
    ")\n",
    "\n",
    "eval = ranking.metrics.eval_top_k(**kwargs)"
   ]
  },
  {
   "cell_type": "code",
   "execution_count": 22,
   "id": "25a3333c",
   "metadata": {
    "execution": {
     "iopub.execute_input": "2025-04-18T00:55:30.340823Z",
     "iopub.status.busy": "2025-04-18T00:55:30.340823Z",
     "iopub.status.idle": "2025-04-18T00:55:30.403975Z",
     "shell.execute_reply": "2025-04-18T00:55:30.403975Z"
    }
   },
   "outputs": [
    {
     "name": "stdout",
     "output_type": "stream",
     "text": [
      "HR@10: 0.937500\n",
      "PRECISION@10: 0.206250\n",
      "RECALL@10: 0.344816\n",
      "MAP@10: 0.195003\n",
      "NDCG@10: 0.353060\n",
      "AGGDIV@10: 0.712500\n",
      "MEAN NOVELTY@10: 9.756340\n",
      "MEAN SERENDIPITY@10: 0.181250\n",
      "PERSONALIZATION@10: 0.955000\n"
     ]
    }
   ],
   "source": [
    "TOP_K = 10\n",
    "QUARTER = 0.25\n",
    "\n",
    "user_counts = data[DEFAULT_USER_COL].value_counts()\n",
    "low_threshold = user_counts.quantile(QUARTER)\n",
    "low_users = user_counts[user_counts<=low_threshold]\n",
    "\n",
    "low_preds = result['pred'][result['pred'][DEFAULT_USER_COL].isin(low_users)]\n",
    "\n",
    "kwargs = dict(\n",
    "    model_name=model.model_name,\n",
    "    origin=data,\n",
    "    rating_true=result['true'],\n",
    "    rating_pred=low_preds,\n",
    "    k=TOP_K,\n",
    ")\n",
    "\n",
    "eval = ranking.metrics.eval_top_k(**kwargs)"
   ]
  },
  {
   "cell_type": "code",
   "execution_count": 23,
   "id": "9ba4c2c7",
   "metadata": {
    "execution": {
     "iopub.execute_input": "2025-04-18T00:55:30.405901Z",
     "iopub.status.busy": "2025-04-18T00:55:30.404979Z",
     "iopub.status.idle": "2025-04-18T00:55:30.468542Z",
     "shell.execute_reply": "2025-04-18T00:55:30.468542Z"
    }
   },
   "outputs": [
    {
     "name": "stdout",
     "output_type": "stream",
     "text": [
      "HR@20: 0.937500\n",
      "PRECISION@20: 0.150000\n",
      "RECALL@20: 0.408051\n",
      "MAP@20: 0.210934\n",
      "NDCG@20: 0.374361\n",
      "AGGDIV@20: 0.734375\n",
      "MEAN NOVELTY@20: 10.235119\n",
      "MEAN SERENDIPITY@20: 0.121875\n",
      "PERSONALIZATION@20: 0.952917\n"
     ]
    }
   ],
   "source": [
    "TOP_K = 20\n",
    "QUARTER = 0.25\n",
    "\n",
    "user_counts = data[DEFAULT_USER_COL].value_counts()\n",
    "low_threshold = user_counts.quantile(QUARTER)\n",
    "low_users = user_counts[user_counts<=low_threshold]\n",
    "\n",
    "low_preds = result['pred'][result['pred'][DEFAULT_USER_COL].isin(low_users)]\n",
    "\n",
    "kwargs = dict(\n",
    "    model_name=model.model_name,\n",
    "    origin=data,\n",
    "    rating_true=result['true'],\n",
    "    rating_pred=low_preds,\n",
    "    k=TOP_K,\n",
    ")\n",
    "\n",
    "eval = ranking.metrics.eval_top_k(**kwargs)"
   ]
  },
  {
   "cell_type": "code",
   "execution_count": 24,
   "id": "da5ceee9",
   "metadata": {
    "execution": {
     "iopub.execute_input": "2025-04-18T00:55:30.468542Z",
     "iopub.status.busy": "2025-04-18T00:55:30.468542Z",
     "iopub.status.idle": "2025-04-18T00:55:30.534548Z",
     "shell.execute_reply": "2025-04-18T00:55:30.534548Z"
    }
   },
   "outputs": [
    {
     "name": "stdout",
     "output_type": "stream",
     "text": [
      "HR@50: 1.000000\n",
      "PRECISION@50: 0.098750\n",
      "RECALL@50: 0.575971\n",
      "MAP@50: 0.233036\n",
      "NDCG@50: 0.425287\n",
      "AGGDIV@50: 0.755000\n",
      "MEAN NOVELTY@50: 11.200294\n",
      "MEAN SERENDIPITY@50: 0.073750\n",
      "PERSONALIZATION@50: 0.956667\n"
     ]
    }
   ],
   "source": [
    "TOP_K = 50\n",
    "QUARTER = 0.25\n",
    "\n",
    "user_counts = data[DEFAULT_USER_COL].value_counts()\n",
    "low_threshold = user_counts.quantile(QUARTER)\n",
    "low_users = user_counts[user_counts<=low_threshold]\n",
    "\n",
    "low_preds = result['pred'][result['pred'][DEFAULT_USER_COL].isin(low_users)]\n",
    "\n",
    "kwargs = dict(\n",
    "    model_name=model.model_name,\n",
    "    origin=data,\n",
    "    rating_true=result['true'],\n",
    "    rating_pred=low_preds,\n",
    "    k=TOP_K,\n",
    ")\n",
    "\n",
    "eval = ranking.metrics.eval_top_k(**kwargs)"
   ]
  },
  {
   "cell_type": "code",
   "execution_count": 25,
   "id": "58b12961",
   "metadata": {
    "execution": {
     "iopub.execute_input": "2025-04-18T00:55:30.534548Z",
     "iopub.status.busy": "2025-04-18T00:55:30.534548Z",
     "iopub.status.idle": "2025-04-18T00:55:30.603017Z",
     "shell.execute_reply": "2025-04-18T00:55:30.603017Z"
    }
   },
   "outputs": [
    {
     "name": "stdout",
     "output_type": "stream",
     "text": [
      "HR@100: 1.000000\n",
      "PRECISION@100: 0.071250\n",
      "RECALL@100: 0.744673\n",
      "MAP@100: 0.248764\n",
      "NDCG@100: 0.486427\n",
      "AGGDIV@100: 0.753125\n",
      "MEAN NOVELTY@100: 11.969475\n",
      "MEAN SERENDIPITY@100: 0.051875\n",
      "PERSONALIZATION@100: 0.956333\n"
     ]
    }
   ],
   "source": [
    "TOP_K = 100\n",
    "QUARTER = 0.25\n",
    "\n",
    "user_counts = data[DEFAULT_USER_COL].value_counts()\n",
    "low_threshold = user_counts.quantile(QUARTER)\n",
    "low_users = user_counts[user_counts<=low_threshold]\n",
    "\n",
    "low_preds = result['pred'][result['pred'][DEFAULT_USER_COL].isin(low_users)]\n",
    "\n",
    "kwargs = dict(\n",
    "    model_name=model.model_name,\n",
    "    origin=data,\n",
    "    rating_true=result['true'],\n",
    "    rating_pred=low_preds,\n",
    "    k=TOP_K,\n",
    ")\n",
    "\n",
    "eval = ranking.metrics.eval_top_k(**kwargs)"
   ]
  },
  {
   "cell_type": "markdown",
   "id": "bb93caed",
   "metadata": {},
   "source": [
    "### Leave-One-Out Data"
   ]
  },
  {
   "cell_type": "code",
   "execution_count": 26,
   "id": "c217c21e",
   "metadata": {
    "execution": {
     "iopub.execute_input": "2025-04-18T00:55:30.605059Z",
     "iopub.status.busy": "2025-04-18T00:55:30.603017Z",
     "iopub.status.idle": "2025-04-18T00:55:36.046512Z",
     "shell.execute_reply": "2025-04-18T00:55:36.046512Z"
    }
   },
   "outputs": [
    {
     "name": "stderr",
     "output_type": "stream",
     "text": [
      "TST: 100%|██████████| 610/610 [00:00<00:00, 657.67it/s]\n"
     ]
    }
   ],
   "source": [
    "kwargs = dict(\n",
    "    tst_loader=loo_loader,\n",
    ")\n",
    "\n",
    "result = loop.predict(**kwargs)"
   ]
  },
  {
   "cell_type": "code",
   "execution_count": 27,
   "id": "565fb522",
   "metadata": {
    "execution": {
     "iopub.execute_input": "2025-04-18T00:55:36.046512Z",
     "iopub.status.busy": "2025-04-18T00:55:36.046512Z",
     "iopub.status.idle": "2025-04-18T00:55:36.710571Z",
     "shell.execute_reply": "2025-04-18T00:55:36.710571Z"
    }
   },
   "outputs": [
    {
     "name": "stdout",
     "output_type": "stream",
     "text": [
      "HR@10: 0.790164\n",
      "PRECISION@10: 0.079016\n",
      "RECALL@10: 0.790164\n",
      "MAP@10: 0.464471\n",
      "NDCG@10: 0.542280\n",
      "AGGDIV@10: 0.385574\n",
      "MEAN NOVELTY@10: 11.630378\n",
      "MEAN SERENDIPITY@10: 0.072623\n",
      "PERSONALIZATION@10: 0.994813\n"
     ]
    }
   ],
   "source": [
    "TOP_K = 10\n",
    "\n",
    "kwargs = dict(\n",
    "    model_name=model.model_name,\n",
    "    origin=data,\n",
    "    rating_true=result['true'],\n",
    "    rating_pred=result['pred'],\n",
    "    k=TOP_K,\n",
    ")\n",
    "\n",
    "eval = ranking.metrics.eval_top_k(**kwargs)"
   ]
  }
 ],
 "metadata": {
  "kernelspec": {
   "display_name": "Python 3",
   "language": "python",
   "name": "python3"
  },
  "language_info": {
   "codemirror_mode": {
    "name": "ipython",
    "version": 3
   },
   "file_extension": ".py",
   "mimetype": "text/x-python",
   "name": "python",
   "nbconvert_exporter": "python",
   "pygments_lexer": "ipython3",
   "version": "3.11.5"
  }
 },
 "nbformat": 4,
 "nbformat_minor": 5
}
