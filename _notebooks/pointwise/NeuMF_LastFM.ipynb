{
 "cells": [
  {
   "cell_type": "code",
   "execution_count": null,
   "id": "baed6ce6",
   "metadata": {},
   "outputs": [],
   "source": [
    "MODEL_NAME = \"NeuMF_LastFM\"\n",
    "LEARNING_TYPE = \"pointwise\"\n",
    "\n",
    "WORK_DIR_PATH = \"../..\"\n",
    "\n",
    "# from google.colab import drive\n",
    "# drive.mount('/content/drive')\n",
    "# WORK_DIR_PATH = \"/content/drive/MyDrive/RS-NeuMF/\""
   ]
  },
  {
   "cell_type": "markdown",
   "id": "613e2bd6",
   "metadata": {},
   "source": [
    "# Constants"
   ]
  },
  {
   "cell_type": "code",
   "execution_count": null,
   "id": "d60ab310",
   "metadata": {
    "execution": {
     "iopub.execute_input": "2025-04-18T00:54:03.520580Z",
     "iopub.status.busy": "2025-04-18T00:54:03.520580Z",
     "iopub.status.idle": "2025-04-18T00:54:03.527304Z",
     "shell.execute_reply": "2025-04-18T00:54:03.527304Z"
    }
   },
   "outputs": [],
   "source": [
    "# split\n",
    "EVAL_NEG_PER_POS = 99\n",
    "TRN_BATCH_SIZE = 128\n",
    "EVAL_BATCH_SIZE = 100\n",
    "DATA_LOADING_TYPE = \"general\"\n",
    "FILTER_BY = \"user\"\n",
    "TRN_VAL_TST_RATIO = [0.8, 0.1, 0.1]\n",
    "BATCH_SIZE = [TRN_BATCH_SIZE, TRN_BATCH_SIZE, EVAL_BATCH_SIZE, EVAL_BATCH_SIZE]\n",
    "MAX_HIST = None\n",
    "SHUFFLE = True\n",
    "\n",
    "# Model\n",
    "N_FACTORS = 32\n",
    "HIDDEN = [N_FACTORS*2, N_FACTORS*2, N_FACTORS, N_FACTORS // 2]\n",
    "DROPOUT = 0.2\n",
    "\n",
    "# how to learn\n",
    "LEARNING_RATE = 1e-4\n",
    "LAMBDA_ = 1e-2\n",
    "\n",
    "# how to monitor\n",
    "PATIENCE = 10\n",
    "MIN_DELTA = 1e-3\n",
    "\n",
    "# how to loop\n",
    "N_EPOCHS = 1000\n",
    "INTERVAL = 10"
   ]
  },
  {
   "cell_type": "markdown",
   "id": "f9f08c36",
   "metadata": {},
   "source": [
    "# Config"
   ]
  },
  {
   "cell_type": "code",
   "execution_count": null,
   "id": "d3cdee48",
   "metadata": {},
   "outputs": [],
   "source": [
    "import warnings\n",
    "warnings.filterwarnings(\"ignore\")"
   ]
  },
  {
   "cell_type": "code",
   "execution_count": null,
   "id": "45fd1993",
   "metadata": {
    "execution": {
     "iopub.execute_input": "2025-04-18T00:54:03.527304Z",
     "iopub.status.busy": "2025-04-18T00:54:03.527304Z",
     "iopub.status.idle": "2025-04-18T00:54:03.531315Z",
     "shell.execute_reply": "2025-04-18T00:54:03.531315Z"
    }
   },
   "outputs": [
    {
     "name": "stdout",
     "output_type": "stream",
     "text": [
      "DIRECTORY: c:\\Users\\jayar\\Desktop\\바탕 화면\\DEGREE\\repo\n"
     ]
    }
   ],
   "source": [
    "import os\n",
    "os.environ[\"CUDA_LAUNCH_BLOCKING\"] = \"1\"\n",
    "os.chdir(WORK_DIR_PATH)\n",
    "print(f\"DIRECTORY: {os.getcwd()}\")"
   ]
  },
  {
   "cell_type": "code",
   "execution_count": null,
   "id": "2f4ba2b9",
   "metadata": {
    "execution": {
     "iopub.execute_input": "2025-04-18T00:54:03.531315Z",
     "iopub.status.busy": "2025-04-18T00:54:03.531315Z",
     "iopub.status.idle": "2025-04-18T00:54:05.107842Z",
     "shell.execute_reply": "2025-04-18T00:54:05.107457Z"
    }
   },
   "outputs": [],
   "source": [
    "import pandas as pd\n",
    "import torch\n",
    "from NeuMF import neumf\n",
    "import UTILS\n",
    "from LOOP.loop import TrainingLoop\n",
    "from LOOP.monitor.predictor import predict\n",
    "from LOOP.monitor.monitor import EarlyStoppingMonitor\n",
    "from LOOP.metric.ranking import ndcg_at_k as metric_fn\n",
    "from LOOP.metric.ranking import top_k_loop"
   ]
  },
  {
   "cell_type": "code",
   "execution_count": null,
   "id": "ace5e618",
   "metadata": {},
   "outputs": [],
   "source": [
    "if LEARNING_TYPE==\"pairwise\":\n",
    "    TRN_NEG_PER_POS = 1\n",
    "    NEG_PER_POS = [TRN_NEG_PER_POS, TRN_NEG_PER_POS, EVAL_NEG_PER_POS, EVAL_NEG_PER_POS]\n",
    "    from DATA_SPLITTER.pairwise import trn_val_tst\n",
    "    from LOOP.trainer.pairwise import PairwiseTrainer as Trainer\n",
    "    from LOOP.loss_fn.bpr import bpr as task_fn\n",
    "\n",
    "elif LEARNING_TYPE==\"pointwise\":\n",
    "    TRN_NEG_PER_POS = 4\n",
    "    NEG_PER_POS = [TRN_NEG_PER_POS, TRN_NEG_PER_POS, EVAL_NEG_PER_POS, EVAL_NEG_PER_POS]\n",
    "    from DATA_SPLITTER.pointwise import trn_val_tst\n",
    "    from LOOP.trainer.pointwise import PointwiseTrainer as Trainer\n",
    "    from LOOP.loss_fn.bce import bce as task_fn\n",
    "\n",
    "else:\n",
    "    ValueError"
   ]
  },
  {
   "cell_type": "code",
   "execution_count": null,
   "id": "851631e1",
   "metadata": {
    "execution": {
     "iopub.execute_input": "2025-04-18T00:54:05.108232Z",
     "iopub.status.busy": "2025-04-18T00:54:05.108232Z",
     "iopub.status.idle": "2025-04-18T00:54:05.782577Z",
     "shell.execute_reply": "2025-04-18T00:54:05.782577Z"
    }
   },
   "outputs": [],
   "source": [
    "from UTILS.constants import (\n",
    "    DEFAULT_USER_COL,\n",
    "    DEFAULT_ITEM_COL,\n",
    "    DEFAULT_RATING_COL,\n",
    "    DEFAULT_LABEL_COL,\n",
    "    DEFAULT_TIMESTAMP_COL,\n",
    "    DEFAULT_PREDICTION_COL,\n",
    "    COL_DICT,\n",
    "    DEFAULT_K,\n",
    "    DEFAULT_THRESHOLD,\n",
    "    SEED,\n",
    ")"
   ]
  },
  {
   "cell_type": "code",
   "execution_count": null,
   "id": "9a53ddac",
   "metadata": {
    "execution": {
     "iopub.execute_input": "2025-04-18T00:54:05.782577Z",
     "iopub.status.busy": "2025-04-18T00:54:05.782577Z",
     "iopub.status.idle": "2025-04-18T00:54:05.812530Z",
     "shell.execute_reply": "2025-04-18T00:54:05.812530Z"
    }
   },
   "outputs": [
    {
     "name": "stdout",
     "output_type": "stream",
     "text": [
      "SETTING ALL SEEDS TO 42...\n",
      "ALL SEEDS SET\n"
     ]
    }
   ],
   "source": [
    "# seed\n",
    "UTILS.seed.reset()"
   ]
  },
  {
   "cell_type": "code",
   "execution_count": 6,
   "id": "97ae7b90",
   "metadata": {
    "execution": {
     "iopub.execute_input": "2025-04-18T00:54:05.812530Z",
     "iopub.status.busy": "2025-04-18T00:54:05.812530Z",
     "iopub.status.idle": "2025-04-18T00:54:05.816030Z",
     "shell.execute_reply": "2025-04-18T00:54:05.816030Z"
    }
   },
   "outputs": [
    {
     "name": "stdout",
     "output_type": "stream",
     "text": [
      "cuda\n"
     ]
    }
   ],
   "source": [
    "# Available GPU\n",
    "device = torch.device(\"cuda\" if torch.cuda.is_available() else \"cpu\")\n",
    "print(device)"
   ]
  },
  {
   "cell_type": "markdown",
   "id": "0b47285f",
   "metadata": {},
   "source": [
    "# Data Preparation"
   ]
  },
  {
   "cell_type": "code",
   "execution_count": null,
   "id": "ed5d6be4",
   "metadata": {
    "execution": {
     "iopub.execute_input": "2025-04-18T00:54:05.816030Z",
     "iopub.status.busy": "2025-04-18T00:54:05.816030Z",
     "iopub.status.idle": "2025-04-18T00:54:05.838930Z",
     "shell.execute_reply": "2025-04-18T00:54:05.838930Z"
    }
   },
   "outputs": [],
   "source": [
    "# Upload Data\n",
    "DATA_NAME = \"lastfm.dat\"\n",
    "DATA_PATH = f\"./_data/{DATA_NAME}\"\n",
    "data = pd.read_csv(DATA_PATH, sep='\\t')"
   ]
  },
  {
   "cell_type": "code",
   "execution_count": null,
   "id": "a3d2b14e",
   "metadata": {
    "execution": {
     "iopub.execute_input": "2025-04-18T00:54:05.840436Z",
     "iopub.status.busy": "2025-04-18T00:54:05.840436Z",
     "iopub.status.idle": "2025-04-18T00:54:05.855254Z",
     "shell.execute_reply": "2025-04-18T00:54:05.855254Z"
    }
   },
   "outputs": [],
   "source": [
    "# Columns\n",
    "kwargs = dict(\n",
    "    col_user='userID', \n",
    "    col_item='artistID', \n",
    ")\n",
    "\n",
    "data = UTILS.data_handler.rename_columns(data, **kwargs)"
   ]
  },
  {
   "cell_type": "code",
   "execution_count": null,
   "id": "ae1237e6",
   "metadata": {},
   "outputs": [],
   "source": [
    "# Label encoding\n",
    "kwargs = dict(\n",
    "    data=data, \n",
    "    col_user=DEFAULT_USER_COL, \n",
    "    col_item=DEFAULT_ITEM_COL,\n",
    ")\n",
    "\n",
    "data, user_label, item_label = UTILS.data_handler.label_encoding(**kwargs)"
   ]
  },
  {
   "cell_type": "code",
   "execution_count": null,
   "id": "88b7538d",
   "metadata": {},
   "outputs": [],
   "source": [
    "# Number of user, item\n",
    "N_USERS = data[DEFAULT_USER_COL].nunique()\n",
    "N_ITEMS = data[DEFAULT_ITEM_COL].nunique()"
   ]
  },
  {
   "cell_type": "code",
   "execution_count": 9,
   "id": "483c1f75",
   "metadata": {
    "execution": {
     "iopub.execute_input": "2025-04-18T00:54:05.855254Z",
     "iopub.status.busy": "2025-04-18T00:54:05.855254Z",
     "iopub.status.idle": "2025-04-18T00:54:05.860357Z",
     "shell.execute_reply": "2025-04-18T00:54:05.860357Z"
    }
   },
   "outputs": [
    {
     "name": "stdout",
     "output_type": "stream",
     "text": [
      "number of user: 1892\n",
      "number of item: 17632\n",
      "total interaction: 92834\n",
      "interaction density: 0.2783 %\n",
      "max interaction of user: 50\n",
      "top 10.0 % interaction of user: 50.0\n",
      "mean interaction of user: 49\n",
      "mean interaction of item: 5\n"
     ]
    }
   ],
   "source": [
    "# data Description\n",
    "utils.data.description(data)"
   ]
  },
  {
   "cell_type": "code",
   "execution_count": null,
   "id": "44d1c1d0",
   "metadata": {},
   "outputs": [],
   "source": [
    "kwargs = dict(\n",
    "    origin=data,\n",
    "    n_users=N_USERS,\n",
    "    n_items=N_ITEMS,\n",
    "    loading_type=DATA_LOADING_TYPE,\n",
    ")\n",
    "\n",
    "dataloader = trn_val_tst.DataSplitter(**kwargs)"
   ]
  },
  {
   "cell_type": "code",
   "execution_count": null,
   "id": "8c668a94",
   "metadata": {
    "execution": {
     "iopub.execute_input": "2025-04-18T00:54:05.860357Z",
     "iopub.status.busy": "2025-04-18T00:54:05.860357Z",
     "iopub.status.idle": "2025-04-18T00:54:06.931133Z",
     "shell.execute_reply": "2025-04-18T00:54:06.931133Z"
    }
   },
   "outputs": [],
   "source": [
    "kwargs = dict(\n",
    "    filter_by=FILTER_BY,\n",
    "    trn_val_tst_ratio=TRN_VAL_TST_RATIO,\n",
    "    neg_per_pos=NEG_PER_POS,\n",
    "    batch_size=BATCH_SIZE,\n",
    "    max_hist=MAX_HIST,\n",
    "    shuffle=SHUFFLE,\n",
    ")\n",
    "\n",
    "loaders, interactions, histories = dataloader.get(**kwargs)"
   ]
  },
  {
   "cell_type": "code",
   "execution_count": null,
   "id": "0575e6b8",
   "metadata": {},
   "outputs": [],
   "source": [
    "trn_loader, val_loader, tst_loader, loo_loader = loaders"
   ]
  },
  {
   "cell_type": "markdown",
   "id": "eaaa126a",
   "metadata": {},
   "source": [
    "# Modeling"
   ]
  },
  {
   "cell_type": "code",
   "execution_count": null,
   "id": "56d340e9",
   "metadata": {
    "execution": {
     "iopub.execute_input": "2025-04-18T00:54:06.931133Z",
     "iopub.status.busy": "2025-04-18T00:54:06.931133Z",
     "iopub.status.idle": "2025-04-18T00:54:07.014576Z",
     "shell.execute_reply": "2025-04-18T00:54:07.014576Z"
    }
   },
   "outputs": [],
   "source": [
    "kwargs = dict(\n",
    "    n_users=N_USERS,\n",
    "    n_items=N_ITEMS,\n",
    "    n_factors=N_FACTORS,\n",
    "    hidden=HIDDEN,\n",
    "    dropout=DROPOUT,\n",
    ")\n",
    "\n",
    "model = neumf.neumf.Module(**kwargs)"
   ]
  },
  {
   "cell_type": "code",
   "execution_count": null,
   "id": "92aec85d",
   "metadata": {
    "execution": {
     "iopub.execute_input": "2025-04-18T00:54:07.014576Z",
     "iopub.status.busy": "2025-04-18T00:54:07.014576Z",
     "iopub.status.idle": "2025-04-18T00:54:07.834168Z",
     "shell.execute_reply": "2025-04-18T00:54:07.834168Z"
    }
   },
   "outputs": [],
   "source": [
    "kwargs = dict(\n",
    "    model=model,\n",
    "    task_fn=task_fn,\n",
    "    lr=LEARNING_RATE,\n",
    "    lambda_=LAMBDA_\n",
    ")\n",
    "\n",
    "trainer = Trainer(**kwargs)"
   ]
  },
  {
   "cell_type": "code",
   "execution_count": null,
   "id": "30e981dd",
   "metadata": {},
   "outputs": [],
   "source": [
    "kwargs = dict(\n",
    "    model=model,\n",
    "    metric_fn=metric_fn,\n",
    "    patience=PATIENCE,\n",
    "    min_delta=MIN_DELTA,\n",
    ")\n",
    "\n",
    "monitor = EarlyStoppingMonitor(**kwargs)"
   ]
  },
  {
   "cell_type": "code",
   "execution_count": null,
   "id": "6de87ff5",
   "metadata": {},
   "outputs": [],
   "source": [
    "kwargs = dict(\n",
    "    model=model,\n",
    "    trainer=trainer,\n",
    "    monitor=monitor,\n",
    ")\n",
    "\n",
    "loop = TrainingLoop(**kwargs)"
   ]
  },
  {
   "cell_type": "markdown",
   "id": "ee78f187",
   "metadata": {},
   "source": [
    "# Train"
   ]
  },
  {
   "cell_type": "code",
   "execution_count": null,
   "id": "3e4de17a",
   "metadata": {
    "execution": {
     "iopub.execute_input": "2025-04-18T00:54:07.834168Z",
     "iopub.status.busy": "2025-04-18T00:54:07.834168Z",
     "iopub.status.idle": "2025-04-18T00:55:21.491977Z",
     "shell.execute_reply": "2025-04-18T00:55:21.491977Z"
    }
   },
   "outputs": [
    {
     "name": "stdout",
     "output_type": "stream",
     "text": [
      "LEAVE ONE OUT BEST EPOCH: 361\n",
      "LEAVE ONE OUT BEST SCORE: 0.5824\n"
     ]
    }
   ],
   "source": [
    "kwargs = dict(\n",
    "    trn_loader=trn_loader,\n",
    "    val_loader=val_loader,\n",
    "    loo_loader=loo_loader,\n",
    "    n_epochs=N_EPOCHS,\n",
    "    interval=INTERVAL,\n",
    ")\n",
    "\n",
    "history = loop.fit(**kwargs)"
   ]
  },
  {
   "cell_type": "code",
   "execution_count": null,
   "id": "0dde1ad9",
   "metadata": {
    "execution": {
     "iopub.execute_input": "2025-04-18T00:55:21.491977Z",
     "iopub.status.busy": "2025-04-18T00:55:21.491977Z",
     "iopub.status.idle": "2025-04-18T00:55:21.585604Z",
     "shell.execute_reply": "2025-04-18T00:55:21.585604Z"
    }
   },
   "outputs": [
    {
     "data": {
      "image/png": "[encoded data removed]",
      "text/plain": [
       "<Figure size 800x500 with 1 Axes>"
      ]
     },
     "metadata": {},
     "output_type": "display_data"
    }
   ],
   "source": [
    "UTILS.visualizer.loss_plot(history, 'TASK LOSS')"
   ]
  },
  {
   "cell_type": "markdown",
   "id": "98b20720",
   "metadata": {},
   "source": [
    "# Test"
   ]
  },
  {
   "cell_type": "code",
   "execution_count": null,
   "id": "5efe605c",
   "metadata": {
    "execution": {
     "iopub.execute_input": "2025-04-18T00:55:21.660121Z",
     "iopub.status.busy": "2025-04-18T00:55:21.660121Z",
     "iopub.status.idle": "2025-04-18T00:55:26.983338Z",
     "shell.execute_reply": "2025-04-18T00:55:26.983338Z"
    }
   },
   "outputs": [
    {
     "name": "stderr",
     "output_type": "stream",
     "text": [
      "TST:   0%|          | 0/1855 [00:00<?, ?it/s]"
     ]
    },
    {
     "name": "stderr",
     "output_type": "stream",
     "text": [
      "TST: 100%|██████████| 1855/1855 [00:06<00:00, 307.96it/s]\n"
     ]
    }
   ],
   "source": [
    "kwargs = dict(\n",
    "    model=model,\n",
    "    dataloader=tst_loader,\n",
    ")\n",
    "\n",
    "result = predict(**kwargs)"
   ]
  },
  {
   "cell_type": "code",
   "execution_count": null,
   "id": "16b39682",
   "metadata": {},
   "outputs": [
    {
     "data": {
      "text/html": [
       "<div>\n",
       "<style scoped>\n",
       "    .dataframe tbody tr th:only-of-type {\n",
       "        vertical-align: middle;\n",
       "    }\n",
       "\n",
       "    .dataframe tbody tr th {\n",
       "        vertical-align: top;\n",
       "    }\n",
       "\n",
       "    .dataframe thead th {\n",
       "        text-align: right;\n",
       "    }\n",
       "</style>\n",
       "<table border=\"1\" class=\"dataframe\">\n",
       "  <thead>\n",
       "    <tr style=\"text-align: right;\">\n",
       "      <th></th>\n",
       "      <th>top_k</th>\n",
       "      <th>hit_ratio</th>\n",
       "      <th>precision</th>\n",
       "      <th>recall</th>\n",
       "      <th>map</th>\n",
       "      <th>ndcg</th>\n",
       "    </tr>\n",
       "  </thead>\n",
       "  <tbody>\n",
       "    <tr>\n",
       "      <th>0</th>\n",
       "      <td>5</td>\n",
       "      <td>0.889126</td>\n",
       "      <td>0.365139</td>\n",
       "      <td>0.371660</td>\n",
       "      <td>0.285100</td>\n",
       "      <td>0.411224</td>\n",
       "    </tr>\n",
       "    <tr>\n",
       "      <th>1</th>\n",
       "      <td>10</td>\n",
       "      <td>0.937100</td>\n",
       "      <td>0.251919</td>\n",
       "      <td>0.511310</td>\n",
       "      <td>0.342055</td>\n",
       "      <td>0.487674</td>\n",
       "    </tr>\n",
       "    <tr>\n",
       "      <th>2</th>\n",
       "      <td>15</td>\n",
       "      <td>0.954158</td>\n",
       "      <td>0.191969</td>\n",
       "      <td>0.583778</td>\n",
       "      <td>0.361387</td>\n",
       "      <td>0.520193</td>\n",
       "    </tr>\n",
       "    <tr>\n",
       "      <th>3</th>\n",
       "      <td>20</td>\n",
       "      <td>0.968017</td>\n",
       "      <td>0.155890</td>\n",
       "      <td>0.631512</td>\n",
       "      <td>0.370662</td>\n",
       "      <td>0.539249</td>\n",
       "    </tr>\n",
       "    <tr>\n",
       "      <th>4</th>\n",
       "      <td>50</td>\n",
       "      <td>0.988273</td>\n",
       "      <td>0.074542</td>\n",
       "      <td>0.754993</td>\n",
       "      <td>0.385818</td>\n",
       "      <td>0.581246</td>\n",
       "    </tr>\n",
       "    <tr>\n",
       "      <th>5</th>\n",
       "      <td>100</td>\n",
       "      <td>0.995736</td>\n",
       "      <td>0.040458</td>\n",
       "      <td>0.819527</td>\n",
       "      <td>0.389438</td>\n",
       "      <td>0.598892</td>\n",
       "    </tr>\n",
       "  </tbody>\n",
       "</table>\n",
       "</div>"
      ],
      "text/plain": [
       "   top_k  hit_ratio  precision    recall       map      ndcg\n",
       "0      5   0.889126   0.365139  0.371660  0.285100  0.411224\n",
       "1     10   0.937100   0.251919  0.511310  0.342055  0.487674\n",
       "2     15   0.954158   0.191969  0.583778  0.361387  0.520193\n",
       "3     20   0.968017   0.155890  0.631512  0.370662  0.539249\n",
       "4     50   0.988273   0.074542  0.754993  0.385818  0.581246\n",
       "5    100   0.995736   0.040458  0.819527  0.389438  0.598892"
      ]
     },
     "execution_count": 17,
     "metadata": {},
     "output_type": "execute_result"
    }
   ],
   "source": [
    "eval = top_k_loop(result)\n",
    "eval"
   ]
  },
  {
   "cell_type": "markdown",
   "id": "c2fb5c8c",
   "metadata": {},
   "source": [
    "# Save"
   ]
  },
  {
   "cell_type": "code",
   "execution_count": null,
   "id": "37c5cd3b",
   "metadata": {},
   "outputs": [],
   "source": [
    "PATH = f'./_checkpoints/{LEARNING_TYPE}/{MODEL_NAME}.pth'\n",
    "\n",
    "kwargs = dict(\n",
    "    model=model,\n",
    "    path=PATH,\n",
    ")\n",
    "\n",
    "UTILS.checkpointer.save(**kwargs)"
   ]
  }
 ],
 "metadata": {
  "kernelspec": {
   "display_name": "Python 3",
   "language": "python",
   "name": "python3"
  },
  "language_info": {
   "codemirror_mode": {
    "name": "ipython",
    "version": 3
   },
   "file_extension": ".py",
   "mimetype": "text/x-python",
   "name": "python",
   "nbconvert_exporter": "python",
   "pygments_lexer": "ipython3",
   "version": "3.11.5"
  }
 },
 "nbformat": 4,
 "nbformat_minor": 5
}
