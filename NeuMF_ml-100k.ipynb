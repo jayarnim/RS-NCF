{
 "cells": [
  {
   "cell_type": "code",
   "execution_count": 1,
   "id": "4b7b778f",
   "metadata": {},
   "outputs": [],
   "source": [
    "import warnings\n",
    "warnings.filterwarnings(\"ignore\")\n",
    "import os\n",
    "os.environ[\"CUDA_LAUNCH_BLOCKING\"] = \"1\"\n",
    "import pandas as pd\n",
    "import torch"
   ]
  },
  {
   "cell_type": "code",
   "execution_count": 2,
   "id": "f947ce78",
   "metadata": {},
   "outputs": [],
   "source": [
    "import NeuMF\n",
    "from config.constants import (\n",
    "    DEFAULT_USER_COL,\n",
    "    DEFAULT_ITEM_COL,\n",
    "    DEFAULT_RATING_COL,\n",
    "    DEFAULT_LABEL_COL,\n",
    "    DEFAULT_TIMESTAMP_COL,\n",
    "    DEFAULT_PREDICTION_COL,\n",
    "    DEFAULT_K,\n",
    "    SEED,\n",
    ")\n",
    "import myutils\n",
    "from ranking import (\n",
    "    metrics,\n",
    "    trn_val_tst,\n",
    ")"
   ]
  },
  {
   "cell_type": "code",
   "execution_count": 3,
   "id": "12998819",
   "metadata": {},
   "outputs": [
    {
     "name": "stdout",
     "output_type": "stream",
     "text": [
      "SETTING ALL SEEDS TO 42...\n",
      "ALL SEEDS SET\n"
     ]
    }
   ],
   "source": [
    "myutils.seed.reset()"
   ]
  },
  {
   "cell_type": "code",
   "execution_count": 4,
   "id": "c010e3de",
   "metadata": {},
   "outputs": [
    {
     "name": "stdout",
     "output_type": "stream",
     "text": [
      "cuda\n"
     ]
    }
   ],
   "source": [
    "device = torch.device(\"cuda\" if torch.cuda.is_available() else \"cpu\")\n",
    "print(device)"
   ]
  },
  {
   "cell_type": "markdown",
   "id": "93288541",
   "metadata": {},
   "source": [
    "# DATA PREPARATION"
   ]
  },
  {
   "cell_type": "code",
   "execution_count": 5,
   "id": "fba5d6fa",
   "metadata": {},
   "outputs": [],
   "source": [
    "DATA_NAME = \"ml-100k\"\n",
    "DATA_PATH = f\"./data/{DATA_NAME}.csv\"\n",
    "data = pd.read_csv(DATA_PATH)"
   ]
  },
  {
   "cell_type": "code",
   "execution_count": 6,
   "id": "8c0db8c4",
   "metadata": {},
   "outputs": [
    {
     "data": {
      "text/html": [
       "<div>\n",
       "<style scoped>\n",
       "    .dataframe tbody tr th:only-of-type {\n",
       "        vertical-align: middle;\n",
       "    }\n",
       "\n",
       "    .dataframe tbody tr th {\n",
       "        vertical-align: top;\n",
       "    }\n",
       "\n",
       "    .dataframe thead th {\n",
       "        text-align: right;\n",
       "    }\n",
       "</style>\n",
       "<table border=\"1\" class=\"dataframe\">\n",
       "  <thead>\n",
       "    <tr style=\"text-align: right;\">\n",
       "      <th></th>\n",
       "      <th>userId</th>\n",
       "      <th>movieId</th>\n",
       "      <th>rating</th>\n",
       "      <th>timestamp</th>\n",
       "    </tr>\n",
       "  </thead>\n",
       "  <tbody>\n",
       "    <tr>\n",
       "      <th>0</th>\n",
       "      <td>1</td>\n",
       "      <td>0</td>\n",
       "      <td>4.0</td>\n",
       "      <td>964982703</td>\n",
       "    </tr>\n",
       "    <tr>\n",
       "      <th>1</th>\n",
       "      <td>1</td>\n",
       "      <td>2</td>\n",
       "      <td>4.0</td>\n",
       "      <td>964981247</td>\n",
       "    </tr>\n",
       "    <tr>\n",
       "      <th>2</th>\n",
       "      <td>1</td>\n",
       "      <td>5</td>\n",
       "      <td>4.0</td>\n",
       "      <td>964982224</td>\n",
       "    </tr>\n",
       "    <tr>\n",
       "      <th>3</th>\n",
       "      <td>1</td>\n",
       "      <td>43</td>\n",
       "      <td>5.0</td>\n",
       "      <td>964983815</td>\n",
       "    </tr>\n",
       "    <tr>\n",
       "      <th>4</th>\n",
       "      <td>1</td>\n",
       "      <td>46</td>\n",
       "      <td>5.0</td>\n",
       "      <td>964982931</td>\n",
       "    </tr>\n",
       "    <tr>\n",
       "      <th>...</th>\n",
       "      <td>...</td>\n",
       "      <td>...</td>\n",
       "      <td>...</td>\n",
       "      <td>...</td>\n",
       "    </tr>\n",
       "    <tr>\n",
       "      <th>100831</th>\n",
       "      <td>610</td>\n",
       "      <td>9416</td>\n",
       "      <td>4.0</td>\n",
       "      <td>1493848402</td>\n",
       "    </tr>\n",
       "    <tr>\n",
       "      <th>100832</th>\n",
       "      <td>610</td>\n",
       "      <td>9443</td>\n",
       "      <td>5.0</td>\n",
       "      <td>1493850091</td>\n",
       "    </tr>\n",
       "    <tr>\n",
       "      <th>100833</th>\n",
       "      <td>610</td>\n",
       "      <td>9444</td>\n",
       "      <td>5.0</td>\n",
       "      <td>1494273047</td>\n",
       "    </tr>\n",
       "    <tr>\n",
       "      <th>100834</th>\n",
       "      <td>610</td>\n",
       "      <td>9445</td>\n",
       "      <td>5.0</td>\n",
       "      <td>1493846352</td>\n",
       "    </tr>\n",
       "    <tr>\n",
       "      <th>100835</th>\n",
       "      <td>610</td>\n",
       "      <td>9485</td>\n",
       "      <td>3.0</td>\n",
       "      <td>1493846415</td>\n",
       "    </tr>\n",
       "  </tbody>\n",
       "</table>\n",
       "<p>100836 rows × 4 columns</p>\n",
       "</div>"
      ],
      "text/plain": [
       "        userId  movieId  rating   timestamp\n",
       "0            1        0     4.0   964982703\n",
       "1            1        2     4.0   964981247\n",
       "2            1        5     4.0   964982224\n",
       "3            1       43     5.0   964983815\n",
       "4            1       46     5.0   964982931\n",
       "...        ...      ...     ...         ...\n",
       "100831     610     9416     4.0  1493848402\n",
       "100832     610     9443     5.0  1493850091\n",
       "100833     610     9444     5.0  1494273047\n",
       "100834     610     9445     5.0  1493846352\n",
       "100835     610     9485     3.0  1493846415\n",
       "\n",
       "[100836 rows x 4 columns]"
      ]
     },
     "execution_count": 6,
     "metadata": {},
     "output_type": "execute_result"
    }
   ],
   "source": [
    "data"
   ]
  },
  {
   "cell_type": "code",
   "execution_count": 7,
   "id": "4fc61b3a",
   "metadata": {},
   "outputs": [
    {
     "name": "stdout",
     "output_type": "stream",
     "text": [
      "<class 'pandas.core.frame.DataFrame'>\n",
      "RangeIndex: 100836 entries, 0 to 100835\n",
      "Data columns (total 4 columns):\n",
      " #   Column     Non-Null Count   Dtype  \n",
      "---  ------     --------------   -----  \n",
      " 0   userId     100836 non-null  int64  \n",
      " 1   movieId    100836 non-null  int64  \n",
      " 2   rating     100836 non-null  float64\n",
      " 3   timestamp  100836 non-null  int64  \n",
      "dtypes: float64(1), int64(3)\n",
      "memory usage: 3.1 MB\n"
     ]
    }
   ],
   "source": [
    "data.info()"
   ]
  },
  {
   "cell_type": "markdown",
   "id": "38b284a4",
   "metadata": {},
   "source": [
    "### COL"
   ]
  },
  {
   "cell_type": "code",
   "execution_count": null,
   "id": "cb1f4092",
   "metadata": {},
   "outputs": [],
   "source": [
    "COL_LIST = ['userId', 'movieId', 'rating', 'timestamp']\n",
    "\n",
    "RE_COL_LIST = [\n",
    "    DEFAULT_USER_COL,\n",
    "    DEFAULT_ITEM_COL,\n",
    "    DEFAULT_RATING_COL,\n",
    "    DEFAULT_TIMESTAMP_COL,\n",
    "]\n",
    "\n",
    "data = data[COL_LIST]\n",
    "data.columns = RE_COL_LIST"
   ]
  },
  {
   "cell_type": "code",
   "execution_count": 10,
   "id": "d017645c",
   "metadata": {},
   "outputs": [
    {
     "data": {
      "text/html": [
       "<div>\n",
       "<style scoped>\n",
       "    .dataframe tbody tr th:only-of-type {\n",
       "        vertical-align: middle;\n",
       "    }\n",
       "\n",
       "    .dataframe tbody tr th {\n",
       "        vertical-align: top;\n",
       "    }\n",
       "\n",
       "    .dataframe thead th {\n",
       "        text-align: right;\n",
       "    }\n",
       "</style>\n",
       "<table border=\"1\" class=\"dataframe\">\n",
       "  <thead>\n",
       "    <tr style=\"text-align: right;\">\n",
       "      <th></th>\n",
       "      <th>userId</th>\n",
       "      <th>itemId</th>\n",
       "      <th>rating</th>\n",
       "      <th>timestamp</th>\n",
       "    </tr>\n",
       "  </thead>\n",
       "  <tbody>\n",
       "    <tr>\n",
       "      <th>0</th>\n",
       "      <td>1</td>\n",
       "      <td>0</td>\n",
       "      <td>4.0</td>\n",
       "      <td>964982703</td>\n",
       "    </tr>\n",
       "    <tr>\n",
       "      <th>1</th>\n",
       "      <td>1</td>\n",
       "      <td>2</td>\n",
       "      <td>4.0</td>\n",
       "      <td>964981247</td>\n",
       "    </tr>\n",
       "    <tr>\n",
       "      <th>2</th>\n",
       "      <td>1</td>\n",
       "      <td>5</td>\n",
       "      <td>4.0</td>\n",
       "      <td>964982224</td>\n",
       "    </tr>\n",
       "    <tr>\n",
       "      <th>3</th>\n",
       "      <td>1</td>\n",
       "      <td>43</td>\n",
       "      <td>5.0</td>\n",
       "      <td>964983815</td>\n",
       "    </tr>\n",
       "    <tr>\n",
       "      <th>4</th>\n",
       "      <td>1</td>\n",
       "      <td>46</td>\n",
       "      <td>5.0</td>\n",
       "      <td>964982931</td>\n",
       "    </tr>\n",
       "    <tr>\n",
       "      <th>...</th>\n",
       "      <td>...</td>\n",
       "      <td>...</td>\n",
       "      <td>...</td>\n",
       "      <td>...</td>\n",
       "    </tr>\n",
       "    <tr>\n",
       "      <th>100831</th>\n",
       "      <td>610</td>\n",
       "      <td>9416</td>\n",
       "      <td>4.0</td>\n",
       "      <td>1493848402</td>\n",
       "    </tr>\n",
       "    <tr>\n",
       "      <th>100832</th>\n",
       "      <td>610</td>\n",
       "      <td>9443</td>\n",
       "      <td>5.0</td>\n",
       "      <td>1493850091</td>\n",
       "    </tr>\n",
       "    <tr>\n",
       "      <th>100833</th>\n",
       "      <td>610</td>\n",
       "      <td>9444</td>\n",
       "      <td>5.0</td>\n",
       "      <td>1494273047</td>\n",
       "    </tr>\n",
       "    <tr>\n",
       "      <th>100834</th>\n",
       "      <td>610</td>\n",
       "      <td>9445</td>\n",
       "      <td>5.0</td>\n",
       "      <td>1493846352</td>\n",
       "    </tr>\n",
       "    <tr>\n",
       "      <th>100835</th>\n",
       "      <td>610</td>\n",
       "      <td>9485</td>\n",
       "      <td>3.0</td>\n",
       "      <td>1493846415</td>\n",
       "    </tr>\n",
       "  </tbody>\n",
       "</table>\n",
       "<p>100836 rows × 4 columns</p>\n",
       "</div>"
      ],
      "text/plain": [
       "        userId  itemId  rating   timestamp\n",
       "0            1       0     4.0   964982703\n",
       "1            1       2     4.0   964981247\n",
       "2            1       5     4.0   964982224\n",
       "3            1      43     5.0   964983815\n",
       "4            1      46     5.0   964982931\n",
       "...        ...     ...     ...         ...\n",
       "100831     610    9416     4.0  1493848402\n",
       "100832     610    9443     5.0  1493850091\n",
       "100833     610    9444     5.0  1494273047\n",
       "100834     610    9445     5.0  1493846352\n",
       "100835     610    9485     3.0  1493846415\n",
       "\n",
       "[100836 rows x 4 columns]"
      ]
     },
     "execution_count": 10,
     "metadata": {},
     "output_type": "execute_result"
    }
   ],
   "source": [
    "data"
   ]
  },
  {
   "cell_type": "markdown",
   "id": "3849c72b",
   "metadata": {},
   "source": [
    "### LABEL"
   ]
  },
  {
   "cell_type": "code",
   "execution_count": 13,
   "id": "3fd1fb12",
   "metadata": {},
   "outputs": [
    {
     "name": "stdout",
     "output_type": "stream",
     "text": [
      "False\n",
      "True\n"
     ]
    }
   ],
   "source": [
    "print(\n",
    "    data[DEFAULT_USER_COL].nunique() == max(data[DEFAULT_USER_COL].unique()+1),\n",
    "    data[DEFAULT_ITEM_COL].nunique() == max(data[DEFAULT_ITEM_COL].unique()+1),\n",
    "    sep='\\n'\n",
    ")"
   ]
  },
  {
   "cell_type": "code",
   "execution_count": 14,
   "id": "564ef01e",
   "metadata": {},
   "outputs": [],
   "source": [
    "kwargs = dict(\n",
    "    data=data, \n",
    "    col_user=DEFAULT_USER_COL, \n",
    "    col_item=DEFAULT_ITEM_COL,\n",
    ")\n",
    "\n",
    "data, user_label, item_label = myutils.data.label_encoding(**kwargs)"
   ]
  },
  {
   "cell_type": "markdown",
   "id": "c09564fd",
   "metadata": {},
   "source": [
    "### DESC"
   ]
  },
  {
   "cell_type": "code",
   "execution_count": 15,
   "id": "a9ab3bf9",
   "metadata": {},
   "outputs": [
    {
     "name": "stdout",
     "output_type": "stream",
     "text": [
      "number of user: 610\n",
      "number of item: 9724\n",
      "total interaction: 100836\n",
      "mean interaction of user: 165\n",
      "mean interaction of item: 10\n",
      "interaction density: 1.7000 %\n"
     ]
    }
   ],
   "source": [
    "myutils.data.description(data)"
   ]
  },
  {
   "cell_type": "code",
   "execution_count": 16,
   "id": "f96140b0",
   "metadata": {},
   "outputs": [],
   "source": [
    "N_USERS = 610\n",
    "N_ITEMS = 9724"
   ]
  },
  {
   "cell_type": "markdown",
   "id": "e79016a6",
   "metadata": {},
   "source": [
    "### SPLIT"
   ]
  },
  {
   "cell_type": "code",
   "execution_count": 17,
   "id": "e641bfe7",
   "metadata": {},
   "outputs": [],
   "source": [
    "FILTER_BY = \"user\"\n",
    "TRN_VAL_TST_RATIO = [0.7, 0.1, 0.2]\n",
    "NEG_PER_POS = [4, 1, 99]\n",
    "HOW_TO_LEARN = ['pairwise', 'pairwise', 'pointwise']\n",
    "BATCH_SIZE = [32, 128, 32]"
   ]
  },
  {
   "cell_type": "code",
   "execution_count": 18,
   "id": "29cbd88c",
   "metadata": {},
   "outputs": [],
   "source": [
    "kwargs = dict(\n",
    "    data=data,\n",
    "    col_user=DEFAULT_USER_COL,\n",
    "    col_item=DEFAULT_ITEM_COL,\n",
    ")\n",
    "\n",
    "dataloader = trn_val_tst.NegativeSamplingDataloader(**kwargs)\n",
    "\n",
    "kwargs = dict(\n",
    "    filter_by=FILTER_BY,\n",
    "    trn_val_tst_ratio=TRN_VAL_TST_RATIO,\n",
    "    neg_per_pos=NEG_PER_POS,\n",
    "    how_to_learn=HOW_TO_LEARN,\n",
    "    batch_size=BATCH_SIZE,\n",
    "    seed=SEED,\n",
    "    )\n",
    "\n",
    "trn_loader, val_loader, tst_loader = dataloader.get(**kwargs)"
   ]
  },
  {
   "cell_type": "markdown",
   "id": "82a501a2",
   "metadata": {},
   "source": [
    "# MODEL BUILDING"
   ]
  },
  {
   "cell_type": "markdown",
   "id": "fba7aa72",
   "metadata": {},
   "source": [
    "## Model"
   ]
  },
  {
   "cell_type": "code",
   "execution_count": 20,
   "id": "44ed2e7f",
   "metadata": {},
   "outputs": [],
   "source": [
    "N_FACTORS = 16\n",
    "LAMBDA_ = 0.1\n",
    "HIDDEN = [64, 64, 32, 16]\n",
    "DROPOUT = 0.2\n",
    "MODEL_NAME = \"NeuMF\""
   ]
  },
  {
   "cell_type": "code",
   "execution_count": null,
   "id": "f3e3a387",
   "metadata": {},
   "outputs": [],
   "source": [
    "kwargs = dict(\n",
    "    n_users=N_USERS,\n",
    "    n_items=N_ITEMS,\n",
    "    n_factors=N_FACTORS,\n",
    "    hidden=HIDDEN,\n",
    "    dropout=DROPOUT,\n",
    "    name=MODEL_NAME,\n",
    ")\n",
    "\n",
    "model = NeuMF.MODEL.Module(**kwargs)"
   ]
  },
  {
   "cell_type": "markdown",
   "id": "23aa54b8",
   "metadata": {},
   "source": [
    "## Loop"
   ]
  },
  {
   "cell_type": "code",
   "execution_count": null,
   "id": "c4e935a6",
   "metadata": {},
   "outputs": [],
   "source": [
    "LR = 0.001\n",
    "LAMBDA_ = 0.0001\n",
    "N_EPOCHS = 10"
   ]
  },
  {
   "cell_type": "code",
   "execution_count": 23,
   "id": "70b08d4c",
   "metadata": {},
   "outputs": [],
   "source": [
    "kwarg = dict(\n",
    "    model=model,\n",
    "    lr=LR,\n",
    "    lambda_=LAMBDA_,\n",
    "    n_epochs=N_EPOCHS,\n",
    ")\n",
    "\n",
    "loop = NeuMF.LOOP.Module(**kwarg)\n",
    "loop = loop.to(device)"
   ]
  },
  {
   "cell_type": "markdown",
   "id": "7f400475",
   "metadata": {},
   "source": [
    "# TRAIN"
   ]
  },
  {
   "cell_type": "code",
   "execution_count": 24,
   "id": "19d8bf49",
   "metadata": {},
   "outputs": [
    {
     "name": "stdout",
     "output_type": "stream",
     "text": [
      "EPOCH 1 START ---->>>>\n"
     ]
    },
    {
     "name": "stderr",
     "output_type": "stream",
     "text": [
      "EPOCH 1/10 TRN: 100%|██████████| 2206/2206 [00:17<00:00, 124.66it/s]\n"
     ]
    },
    {
     "name": "stdout",
     "output_type": "stream",
     "text": [
      "TRN LOSS: 0.5357\n"
     ]
    },
    {
     "name": "stderr",
     "output_type": "stream",
     "text": [
      "EPOCH 1/10 VAL: 100%|██████████| 79/79 [00:00<00:00, 315.34it/s]\n"
     ]
    },
    {
     "name": "stdout",
     "output_type": "stream",
     "text": [
      "VAL LOSS: 0.3642\n"
     ]
    },
    {
     "name": "stderr",
     "output_type": "stream",
     "text": [
      "EPOCH 2/10 TRN: 100%|██████████| 2206/2206 [00:16<00:00, 135.97it/s]\n"
     ]
    },
    {
     "name": "stdout",
     "output_type": "stream",
     "text": [
      "TRN LOSS: 0.3317\n"
     ]
    },
    {
     "name": "stderr",
     "output_type": "stream",
     "text": [
      "EPOCH 2/10 VAL: 100%|██████████| 79/79 [00:00<00:00, 339.44it/s]\n"
     ]
    },
    {
     "name": "stdout",
     "output_type": "stream",
     "text": [
      "VAL LOSS: 0.3212\n"
     ]
    },
    {
     "name": "stderr",
     "output_type": "stream",
     "text": [
      "EPOCH 3/10 TRN: 100%|██████████| 2206/2206 [00:17<00:00, 125.80it/s]\n"
     ]
    },
    {
     "name": "stdout",
     "output_type": "stream",
     "text": [
      "TRN LOSS: 0.3070\n"
     ]
    },
    {
     "name": "stderr",
     "output_type": "stream",
     "text": [
      "EPOCH 3/10 VAL: 100%|██████████| 79/79 [00:00<00:00, 307.35it/s]\n"
     ]
    },
    {
     "name": "stdout",
     "output_type": "stream",
     "text": [
      "VAL LOSS: 0.3170\n"
     ]
    },
    {
     "name": "stderr",
     "output_type": "stream",
     "text": [
      "EPOCH 4/10 TRN: 100%|██████████| 2206/2206 [00:18<00:00, 122.29it/s]\n"
     ]
    },
    {
     "name": "stdout",
     "output_type": "stream",
     "text": [
      "TRN LOSS: 0.2934\n"
     ]
    },
    {
     "name": "stderr",
     "output_type": "stream",
     "text": [
      "EPOCH 4/10 VAL: 100%|██████████| 79/79 [00:00<00:00, 316.68it/s]\n"
     ]
    },
    {
     "name": "stdout",
     "output_type": "stream",
     "text": [
      "VAL LOSS: 0.3162\n"
     ]
    },
    {
     "name": "stderr",
     "output_type": "stream",
     "text": [
      "EPOCH 5/10 TRN: 100%|██████████| 2206/2206 [00:17<00:00, 124.77it/s]\n"
     ]
    },
    {
     "name": "stdout",
     "output_type": "stream",
     "text": [
      "TRN LOSS: 0.2645\n"
     ]
    },
    {
     "name": "stderr",
     "output_type": "stream",
     "text": [
      "EPOCH 5/10 VAL: 100%|██████████| 79/79 [00:00<00:00, 316.86it/s]\n"
     ]
    },
    {
     "name": "stdout",
     "output_type": "stream",
     "text": [
      "VAL LOSS: 0.2902\n"
     ]
    },
    {
     "name": "stderr",
     "output_type": "stream",
     "text": [
      "EPOCH 6/10 TRN: 100%|██████████| 2206/2206 [00:17<00:00, 125.93it/s]\n"
     ]
    },
    {
     "name": "stdout",
     "output_type": "stream",
     "text": [
      "TRN LOSS: 0.2263\n"
     ]
    },
    {
     "name": "stderr",
     "output_type": "stream",
     "text": [
      "EPOCH 6/10 VAL: 100%|██████████| 79/79 [00:00<00:00, 312.20it/s]\n"
     ]
    },
    {
     "name": "stdout",
     "output_type": "stream",
     "text": [
      "VAL LOSS: 0.2833\n"
     ]
    },
    {
     "name": "stderr",
     "output_type": "stream",
     "text": [
      "EPOCH 7/10 TRN: 100%|██████████| 2206/2206 [00:17<00:00, 124.86it/s]\n"
     ]
    },
    {
     "name": "stdout",
     "output_type": "stream",
     "text": [
      "TRN LOSS: 0.1974\n"
     ]
    },
    {
     "name": "stderr",
     "output_type": "stream",
     "text": [
      "EPOCH 7/10 VAL: 100%|██████████| 79/79 [00:00<00:00, 308.08it/s]\n"
     ]
    },
    {
     "name": "stdout",
     "output_type": "stream",
     "text": [
      "VAL LOSS: 0.2887\n"
     ]
    },
    {
     "name": "stderr",
     "output_type": "stream",
     "text": [
      "EPOCH 8/10 TRN: 100%|██████████| 2206/2206 [00:17<00:00, 126.11it/s]\n"
     ]
    },
    {
     "name": "stdout",
     "output_type": "stream",
     "text": [
      "TRN LOSS: 0.1841\n"
     ]
    },
    {
     "name": "stderr",
     "output_type": "stream",
     "text": [
      "EPOCH 8/10 VAL: 100%|██████████| 79/79 [00:00<00:00, 300.55it/s]\n"
     ]
    },
    {
     "name": "stdout",
     "output_type": "stream",
     "text": [
      "VAL LOSS: 0.2670\n"
     ]
    },
    {
     "name": "stderr",
     "output_type": "stream",
     "text": [
      "EPOCH 9/10 TRN: 100%|██████████| 2206/2206 [00:17<00:00, 128.40it/s]\n"
     ]
    },
    {
     "name": "stdout",
     "output_type": "stream",
     "text": [
      "TRN LOSS: 0.1750\n"
     ]
    },
    {
     "name": "stderr",
     "output_type": "stream",
     "text": [
      "EPOCH 9/10 VAL: 100%|██████████| 79/79 [00:00<00:00, 278.84it/s]\n"
     ]
    },
    {
     "name": "stdout",
     "output_type": "stream",
     "text": [
      "VAL LOSS: 0.2823\n"
     ]
    },
    {
     "name": "stderr",
     "output_type": "stream",
     "text": [
      "EPOCH 10/10 TRN: 100%|██████████| 2206/2206 [00:17<00:00, 125.80it/s]\n"
     ]
    },
    {
     "name": "stdout",
     "output_type": "stream",
     "text": [
      "TRN LOSS: 0.1653\n"
     ]
    },
    {
     "name": "stderr",
     "output_type": "stream",
     "text": [
      "EPOCH 10/10 VAL: 100%|██████████| 79/79 [00:00<00:00, 298.66it/s]"
     ]
    },
    {
     "name": "stdout",
     "output_type": "stream",
     "text": [
      "VAL LOSS: 0.2863\n"
     ]
    },
    {
     "name": "stderr",
     "output_type": "stream",
     "text": [
      "\n"
     ]
    }
   ],
   "source": [
    "kwargs = dict(\n",
    "    trn_loader=trn_loader,\n",
    "    val_loader=val_loader,\n",
    ")\n",
    "\n",
    "history = loop.train(**kwargs)"
   ]
  },
  {
   "cell_type": "code",
   "execution_count": null,
   "id": "8ee4c901",
   "metadata": {},
   "outputs": [
    {
     "data": {
      "image/png": "[encoded data removed]",
      "text/plain": [
       "<Figure size 800x500 with 1 Axes>"
      ]
     },
     "metadata": {},
     "output_type": "display_data"
    }
   ],
   "source": [
    "myutils.visualization.plot_loss(history)"
   ]
  },
  {
   "cell_type": "markdown",
   "id": "687c9626",
   "metadata": {},
   "source": [
    "# TEST"
   ]
  },
  {
   "cell_type": "code",
   "execution_count": 29,
   "id": "ccc1b641",
   "metadata": {},
   "outputs": [
    {
     "name": "stderr",
     "output_type": "stream",
     "text": [
      "TST: 100%|██████████| 631/631 [00:03<00:00, 203.45it/s]\n"
     ]
    }
   ],
   "source": [
    "result = loop.predict(tst_loader)"
   ]
  },
  {
   "cell_type": "code",
   "execution_count": null,
   "id": "3d67e43b",
   "metadata": {},
   "outputs": [
    {
     "name": "stdout",
     "output_type": "stream",
     "text": [
      "[RELEVANCE]\n",
      "HR@10:\t\t\t0.914754\n",
      "PRECISION@10:\t\t0.337213\n",
      "RECALL@10:\t\t0.235022\n",
      "MAP@10:\t\t\t0.142585\n",
      "NDCG@10:\t\t0.390527\n",
      "\n",
      "\n",
      "[RELEVANCE OF BOTTM 25.0 % USER]\n",
      "HR@10:\t\t\t0.807692\n",
      "PRECISION@10:\t\t0.208974\n",
      "RECALL@10:\t\t0.391468\n",
      "MAP@10:\t\t\t0.217242\n",
      "NDCG@10:\t\t0.342014\n",
      "\n",
      "\n",
      "[NOT RELEVENCE]\n",
      "AGGDIV@10:\t\t0.063607\n",
      "ILD@10:\t\t\t0.014754\n",
      "MEAN NOVELTY@10:\t9.508396\n",
      "MEAN SERENDIPITY@10:\t0.276230\n",
      "PERSONALIZATION@10:\t0.920571\n"
     ]
    }
   ],
   "source": [
    "kwargs = dict(\n",
    "    origin=data,\n",
    "    rating_true=result['true'],\n",
    "    rating_pred=result['pred'],\n",
    "    item_embed=model.embed_user_gmf,\n",
    ")\n",
    "\n",
    "eval_result = metrics.eval_top_k(**kwargs)"
   ]
  }
 ],
 "metadata": {
  "kernelspec": {
   "display_name": "Python 3",
   "language": "python",
   "name": "python3"
  },
  "language_info": {
   "codemirror_mode": {
    "name": "ipython",
    "version": 3
   },
   "file_extension": ".py",
   "mimetype": "text/x-python",
   "name": "python",
   "nbconvert_exporter": "python",
   "pygments_lexer": "ipython3",
   "version": "3.11.5"
  }
 },
 "nbformat": 4,
 "nbformat_minor": 5
}
